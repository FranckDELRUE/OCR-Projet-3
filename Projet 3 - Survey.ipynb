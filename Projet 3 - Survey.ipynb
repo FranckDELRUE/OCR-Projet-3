{
 "cells": [
  {
   "cell_type": "markdown",
   "metadata": {},
   "source": [
    "# Projet 3 - Réalisez une étude de santé publique"
   ]
  },
  {
   "cell_type": "markdown",
   "metadata": {},
   "source": [
    "En 2015, plus de 9 millions de personnes sont mortes de malnutrition dans le monde, dont les 3/4 étaient des enfants. Cela est dû a ce que 10% de la population mondiale est sous-alimentée.\n",
    "Malgré des initiatives pour enrayer la faim dans le monde, celle-ci à augmenter à 820 millions de personnes en 2018.\n",
    "Les prévisions fournis par la FAO, la faim devrait atteindre 650 millions en 2030 et 320 millions en 2050.\n",
    "\n",
    "Environ 27 et 35 % des récoltes sont perdues dans les diverses étapes de récoltes et de transformations. Dans les pays développés, la principale source de gaspillages est lors de la consommation avec 12 % de pertes, dans les pays en voie de de développement, elle est la récolte avec 25 % de pertes."
   ]
  },
  {
   "cell_type": "markdown",
   "metadata": {},
   "source": [
    "### Question 1 : Donnez le résultat de votre calcul pour la population mondiale pour l'année 2013, ainsi que pour l'année 2017."
   ]
  },
  {
   "cell_type": "markdown",
   "metadata": {},
   "source": [
    "#### Préparation :"
   ]
  },
  {
   "cell_type": "markdown",
   "metadata": {},
   "source": [
    "Il nous est demandé d'utiliser les fichiers de l'ONU pour l'alimentation et l'agriculture. Le fichier *Bilans Alimentaires* est celui préconisé pour répondre à cette question. \n",
    "\n",
    "Une vérification rapide montre qu'entre 2013 et 2014, la méthodologie de comptage a changé, ainsi deux fichiers de sources différentes sont à importer.\n",
    "\n",
    "Le premier fichier *Bilans Alimentaire (Ancienne méthodologie et population)* pour l'année 2013 est disponible à cette adresse : [Bilans Alimentaire (Ancienne méthodologie et population)](http://www.fao.org/faostat/fr/#data/FBSH) et le deuxième fichier *Nouveaux Bilans Alimentaire* pour l'année 2017 est disponible à cette adresse : [Nouveaux Bilans Alimentaire](http://www.fao.org/faostat/fr/#data/FBS)\n",
    "\n",
    "Dans ce fichier csv, tous les pays, tous les éléments, tous les produits pour l'année 2013 (Ancienne méthodologie) et l'année 2017 (nouvelle méthodologie) seront importés.\n",
    "\n",
    "Les fichiers csv du site de l'ONU sera chargé via la bibliothèque *pandas*."
   ]
  },
  {
   "cell_type": "code",
   "execution_count": 1,
   "metadata": {},
   "outputs": [],
   "source": [
    "import pandas as pd\n",
    "import numpy as np\n",
    "import sqlite3\n",
    "import OCR3\n",
    "\n",
    "bilanAlimentaire2013_raw = pd.read_csv('BilansAlimentairesHistorique2013.csv', sep=',')\n",
    "bilanAlimentaire2017_raw = pd.read_csv('BilansAlimentairesHistorique2017.csv', sep=',')"
   ]
  },
  {
   "cell_type": "markdown",
   "metadata": {},
   "source": [
    "Tout d'abord, pour faciliter la manipulation des données et éviter sa dispertion, nous allons *concatener* les deux *data frame* dans un seul."
   ]
  },
  {
   "cell_type": "code",
   "execution_count": 2,
   "metadata": {},
   "outputs": [],
   "source": [
    "bilanAlimentaire_raw = pd.concat([bilanAlimentaire2017_raw, bilanAlimentaire2013_raw], ignore_index=True, sort=False)"
   ]
  },
  {
   "cell_type": "markdown",
   "metadata": {},
   "source": [
    "Nous allons calculer la population mondiale sur les deux années, 2013 et 2017. Nous allons utiliser une fonction *sommeSerie* qui calculera l'ensemble des valeurs d'une serie.\n",
    "\n",
    "Pour se faire, nous allons utiliser les lignes dont le Code Élément est 511, ce qui corresponds à la population d'un pays."
   ]
  },
  {
   "cell_type": "code",
   "execution_count": 3,
   "metadata": {},
   "outputs": [],
   "source": [
    "codeElementPopulation = 511"
   ]
  },
  {
   "cell_type": "markdown",
   "metadata": {},
   "source": [
    "Nous allons calculer la population pour l'année 2013."
   ]
  },
  {
   "cell_type": "code",
   "execution_count": 4,
   "metadata": {},
   "outputs": [
    {
     "data": {
      "text/plain": [
       "8413993000.0"
      ]
     },
     "execution_count": 4,
     "metadata": {},
     "output_type": "execute_result"
    }
   ],
   "source": [
    "textPopulation = ('la population mondiale est de','habitants')\n",
    "OCR3.calculPopulation(bilanAlimentaire_raw, 2013)"
   ]
  },
  {
   "cell_type": "markdown",
   "metadata": {},
   "source": [
    "Selon les données que nous avons trouvées sur le site du FAO, la population mondiale devrait etre de 6 997 326 000 habitants.\n",
    "Nous allons verifier avec l'année 2017"
   ]
  },
  {
   "cell_type": "code",
   "execution_count": 5,
   "metadata": {},
   "outputs": [
    {
     "data": {
      "text/plain": [
       "8782494200.0"
      ]
     },
     "execution_count": 5,
     "metadata": {},
     "output_type": "execute_result"
    }
   ],
   "source": [
    "OCR3.calculPopulation(bilanAlimentaire_raw, 2017)"
   ]
  },
  {
   "cell_type": "markdown",
   "metadata": {},
   "source": [
    "Pour l'année 2017, également, la valeur est fausse.\n",
    "\n",
    "Nous constatons que les incohérences sont inhérantes au deux *data set*. Pour se faire, nous allons d'abord visualiser les données pour repérer ces incohérences dans les données.\n",
    "\n",
    "Tout d'abord, nous importons la bibliothèque *seaborn* pour la présentation des graphiques."
   ]
  },
  {
   "cell_type": "code",
   "execution_count": 6,
   "metadata": {},
   "outputs": [],
   "source": [
    "import seaborn as sns\n",
    "import matplotlib.pyplot as plt\n",
    "%matplotlib inline\n",
    "\n",
    "sns.set(color_codes = True)"
   ]
  },
  {
   "cell_type": "markdown",
   "metadata": {},
   "source": [
    "Ensuite nous allons afficher la distribution des populations des pays 50 pays les plus peuplés pour l'année 2017.\n",
    "\n",
    "Comme nous allons utiliser ce filtre souvent, nous créons un filtre *filtPopulation*.\n",
    "De même, nous allons afficher, dans les tableaux, les valeurs qui nous interessent. Pour cela, nous allons créer notre listes des colonnes que l'on veut afficher avec *colonneUtile*"
   ]
  },
  {
   "cell_type": "code",
   "execution_count": 7,
   "metadata": {},
   "outputs": [
    {
     "data": {
      "text/plain": [
       "<matplotlib.axes._subplots.AxesSubplot at 0x20f3551bd48>"
      ]
     },
     "execution_count": 7,
     "metadata": {},
     "output_type": "execute_result"
    },
    {
     "data": {
      "image/png": "[encoded data removed]",
      "text/plain": [
       "<Figure size 432x288 with 1 Axes>"
      ]
     },
     "metadata": {
      "needs_background": "light"
     },
     "output_type": "display_data"
    }
   ],
   "source": [
    "colonneUtile = ['Code zone', 'Année', 'Zone', 'Code Élément', 'Élément', 'Valeur']\n",
    "filtPopulation2017 = (bilanAlimentaire_raw[\"Code Élément\"] == codeElementPopulation) & (bilanAlimentaire_raw[\"Année\"] == 2017)\n",
    "sns.distplot(bilanAlimentaire_raw[filtPopulation2017].Valeur.nlargest(50), kde=False, bins=50)"
   ]
  },
  {
   "cell_type": "markdown",
   "metadata": {},
   "source": [
    "Nous constatons dans ce graphique que trois pays ont une population au-dessus de 1 millard d'habitants. Nous ne connaissons seulement que deux pays : l'Inde et la Chine.\n",
    "\n",
    "Nous allons afficher ces pays pour trouver le nom du troisième pays"
   ]
  },
  {
   "cell_type": "code",
   "execution_count": 8,
   "metadata": {},
   "outputs": [
    {
     "data": {
      "text/html": [
       "<div>\n",
       "<style scoped>\n",
       "    .dataframe tbody tr th:only-of-type {\n",
       "        vertical-align: middle;\n",
       "    }\n",
       "\n",
       "    .dataframe tbody tr th {\n",
       "        vertical-align: top;\n",
       "    }\n",
       "\n",
       "    .dataframe thead th {\n",
       "        text-align: right;\n",
       "    }\n",
       "</style>\n",
       "<table border=\"1\" class=\"dataframe\">\n",
       "  <thead>\n",
       "    <tr style=\"text-align: right;\">\n",
       "      <th></th>\n",
       "      <th>Code zone</th>\n",
       "      <th>Année</th>\n",
       "      <th>Zone</th>\n",
       "      <th>Code Élément</th>\n",
       "      <th>Élément</th>\n",
       "      <th>Valeur</th>\n",
       "    </tr>\n",
       "  </thead>\n",
       "  <tbody>\n",
       "    <tr>\n",
       "      <td>32772</td>\n",
       "      <td>351</td>\n",
       "      <td>2017</td>\n",
       "      <td>Chine</td>\n",
       "      <td>511</td>\n",
       "      <td>Population totale</td>\n",
       "      <td>1452625.24</td>\n",
       "    </tr>\n",
       "    <tr>\n",
       "      <td>36355</td>\n",
       "      <td>41</td>\n",
       "      <td>2017</td>\n",
       "      <td>Chine, continentale</td>\n",
       "      <td>511</td>\n",
       "      <td>Population totale</td>\n",
       "      <td>1421021.79</td>\n",
       "    </tr>\n",
       "    <tr>\n",
       "      <td>77250</td>\n",
       "      <td>100</td>\n",
       "      <td>2017</td>\n",
       "      <td>Inde</td>\n",
       "      <td>511</td>\n",
       "      <td>Population totale</td>\n",
       "      <td>1338676.78</td>\n",
       "    </tr>\n",
       "    <tr>\n",
       "      <td>56691</td>\n",
       "      <td>231</td>\n",
       "      <td>2017</td>\n",
       "      <td>États-Unis d'Amérique</td>\n",
       "      <td>511</td>\n",
       "      <td>Population totale</td>\n",
       "      <td>325084.76</td>\n",
       "    </tr>\n",
       "    <tr>\n",
       "      <td>78363</td>\n",
       "      <td>101</td>\n",
       "      <td>2017</td>\n",
       "      <td>Indonésie</td>\n",
       "      <td>511</td>\n",
       "      <td>Population totale</td>\n",
       "      <td>264650.96</td>\n",
       "    </tr>\n",
       "  </tbody>\n",
       "</table>\n",
       "</div>"
      ],
      "text/plain": [
       "       Code zone  Année                   Zone  Code Élément  \\\n",
       "32772        351   2017                  Chine           511   \n",
       "36355         41   2017    Chine, continentale           511   \n",
       "77250        100   2017                   Inde           511   \n",
       "56691        231   2017  États-Unis d'Amérique           511   \n",
       "78363        101   2017              Indonésie           511   \n",
       "\n",
       "                 Élément      Valeur  \n",
       "32772  Population totale  1452625.24  \n",
       "36355  Population totale  1421021.79  \n",
       "77250  Population totale  1338676.78  \n",
       "56691  Population totale   325084.76  \n",
       "78363  Population totale   264650.96  "
      ]
     },
     "execution_count": 8,
     "metadata": {},
     "output_type": "execute_result"
    }
   ],
   "source": [
    "bilanAlimentaire_raw.loc[(filtPopulation2017), colonneUtile].nlargest(5, \"Valeur\")"
   ]
  },
  {
   "cell_type": "markdown",
   "metadata": {},
   "source": [
    "Nous remarquons que les trois premiers pays sont, respectivement, la Chine, la Chine continentale et l'Inde.\n",
    "\n",
    "Nous allons chercher la différence entre Chine et Chine Continentale en recherchant tous les pays contenant le mot *Chine* dans la colonne *Zone* "
   ]
  },
  {
   "cell_type": "code",
   "execution_count": 9,
   "metadata": {},
   "outputs": [
    {
     "data": {
      "text/html": [
       "<div>\n",
       "<style scoped>\n",
       "    .dataframe tbody tr th:only-of-type {\n",
       "        vertical-align: middle;\n",
       "    }\n",
       "\n",
       "    .dataframe tbody tr th {\n",
       "        vertical-align: top;\n",
       "    }\n",
       "\n",
       "    .dataframe thead th {\n",
       "        text-align: right;\n",
       "    }\n",
       "</style>\n",
       "<table border=\"1\" class=\"dataframe\">\n",
       "  <thead>\n",
       "    <tr style=\"text-align: right;\">\n",
       "      <th></th>\n",
       "      <th>Code zone</th>\n",
       "      <th>Année</th>\n",
       "      <th>Zone</th>\n",
       "      <th>Code Élément</th>\n",
       "      <th>Élément</th>\n",
       "      <th>Valeur</th>\n",
       "    </tr>\n",
       "  </thead>\n",
       "  <tbody>\n",
       "    <tr>\n",
       "      <td>32772</td>\n",
       "      <td>351</td>\n",
       "      <td>2017</td>\n",
       "      <td>Chine</td>\n",
       "      <td>511</td>\n",
       "      <td>Population totale</td>\n",
       "      <td>1452625.24</td>\n",
       "    </tr>\n",
       "    <tr>\n",
       "      <td>34131</td>\n",
       "      <td>96</td>\n",
       "      <td>2017</td>\n",
       "      <td>Chine - RAS de Hong-Kong</td>\n",
       "      <td>511</td>\n",
       "      <td>Population totale</td>\n",
       "      <td>7306.32</td>\n",
       "    </tr>\n",
       "    <tr>\n",
       "      <td>35294</td>\n",
       "      <td>128</td>\n",
       "      <td>2017</td>\n",
       "      <td>Chine - RAS de Macao</td>\n",
       "      <td>511</td>\n",
       "      <td>Population totale</td>\n",
       "      <td>622.59</td>\n",
       "    </tr>\n",
       "    <tr>\n",
       "      <td>36355</td>\n",
       "      <td>41</td>\n",
       "      <td>2017</td>\n",
       "      <td>Chine, continentale</td>\n",
       "      <td>511</td>\n",
       "      <td>Population totale</td>\n",
       "      <td>1421021.79</td>\n",
       "    </tr>\n",
       "    <tr>\n",
       "      <td>37530</td>\n",
       "      <td>214</td>\n",
       "      <td>2017</td>\n",
       "      <td>Chine, Taiwan Province de</td>\n",
       "      <td>511</td>\n",
       "      <td>Population totale</td>\n",
       "      <td>23674.55</td>\n",
       "    </tr>\n",
       "  </tbody>\n",
       "</table>\n",
       "</div>"
      ],
      "text/plain": [
       "       Code zone  Année                       Zone  Code Élément  \\\n",
       "32772        351   2017                      Chine           511   \n",
       "34131         96   2017   Chine - RAS de Hong-Kong           511   \n",
       "35294        128   2017       Chine - RAS de Macao           511   \n",
       "36355         41   2017        Chine, continentale           511   \n",
       "37530        214   2017  Chine, Taiwan Province de           511   \n",
       "\n",
       "                 Élément      Valeur  \n",
       "32772  Population totale  1452625.24  \n",
       "34131  Population totale     7306.32  \n",
       "35294  Population totale      622.59  \n",
       "36355  Population totale  1421021.79  \n",
       "37530  Population totale    23674.55  "
      ]
     },
     "execution_count": 9,
     "metadata": {},
     "output_type": "execute_result"
    }
   ],
   "source": [
    "bilanAlimentaire_raw.loc[(bilanAlimentaire_raw['Zone'].str.contains('Chine')) & (filtPopulation2017), colonneUtile]"
   ]
  },
  {
   "cell_type": "markdown",
   "metadata": {},
   "source": [
    "Nous voyons qu'il y a, d'un côté la Chine, et de l'autre un ensemble de 4 autres pays contenant le mot 'Chine' dans leur nom de pays.\n",
    "\n",
    "Nous allons calculer la différence de population entre la Chine et la somme de ces autres pays."
   ]
  },
  {
   "cell_type": "code",
   "execution_count": 10,
   "metadata": {},
   "outputs": [
    {
     "data": {
      "text/plain": [
       "'La différence entre la population de la Chine et des autres pays contenant le mot Chine est de 10.0 habitants'"
      ]
     },
     "execution_count": 10,
     "metadata": {},
     "output_type": "execute_result"
    }
   ],
   "source": [
    "codeZoneChine = 351\n",
    "codeZoneChineAutre = [96, 128, 41, 214]\n",
    "OCR3.differencePopulation(bilanAlimentaire_raw, 2017, 'Code Élément', codeElementPopulation, 'Code zone', codeZoneChine, codeZoneChineAutre)"
   ]
  },
  {
   "cell_type": "markdown",
   "metadata": {},
   "source": [
    "Nous voyons ici que la population chinoise est comptée deux fois ; la différence entre les deux groupes étant très faible, et négligeable. Ainsi, nous allons vérifier si cette erreur s'applique egalement pour la l'année 2013"
   ]
  },
  {
   "cell_type": "code",
   "execution_count": 11,
   "metadata": {},
   "outputs": [
    {
     "data": {
      "text/html": [
       "<div>\n",
       "<style scoped>\n",
       "    .dataframe tbody tr th:only-of-type {\n",
       "        vertical-align: middle;\n",
       "    }\n",
       "\n",
       "    .dataframe tbody tr th {\n",
       "        vertical-align: top;\n",
       "    }\n",
       "\n",
       "    .dataframe thead th {\n",
       "        text-align: right;\n",
       "    }\n",
       "</style>\n",
       "<table border=\"1\" class=\"dataframe\">\n",
       "  <thead>\n",
       "    <tr style=\"text-align: right;\">\n",
       "      <th></th>\n",
       "      <th>Code zone</th>\n",
       "      <th>Année</th>\n",
       "      <th>Zone</th>\n",
       "      <th>Code Élément</th>\n",
       "      <th>Élément</th>\n",
       "      <th>Valeur</th>\n",
       "    </tr>\n",
       "  </thead>\n",
       "  <tbody>\n",
       "    <tr>\n",
       "      <td>205288</td>\n",
       "      <td>351</td>\n",
       "      <td>2013</td>\n",
       "      <td>Chine</td>\n",
       "      <td>511</td>\n",
       "      <td>Population totale</td>\n",
       "      <td>1416667.0</td>\n",
       "    </tr>\n",
       "    <tr>\n",
       "      <td>208072</td>\n",
       "      <td>41</td>\n",
       "      <td>2013</td>\n",
       "      <td>Chine, continentale</td>\n",
       "      <td>511</td>\n",
       "      <td>Population totale</td>\n",
       "      <td>1385567.0</td>\n",
       "    </tr>\n",
       "    <tr>\n",
       "      <td>240711</td>\n",
       "      <td>100</td>\n",
       "      <td>2013</td>\n",
       "      <td>Inde</td>\n",
       "      <td>511</td>\n",
       "      <td>Population totale</td>\n",
       "      <td>1252140.0</td>\n",
       "    </tr>\n",
       "    <tr>\n",
       "      <td>224458</td>\n",
       "      <td>231</td>\n",
       "      <td>2013</td>\n",
       "      <td>États-Unis d'Amérique</td>\n",
       "      <td>511</td>\n",
       "      <td>Population totale</td>\n",
       "      <td>320051.0</td>\n",
       "    </tr>\n",
       "    <tr>\n",
       "      <td>241675</td>\n",
       "      <td>101</td>\n",
       "      <td>2013</td>\n",
       "      <td>Indonésie</td>\n",
       "      <td>511</td>\n",
       "      <td>Population totale</td>\n",
       "      <td>249866.0</td>\n",
       "    </tr>\n",
       "  </tbody>\n",
       "</table>\n",
       "</div>"
      ],
      "text/plain": [
       "        Code zone  Année                   Zone  Code Élément  \\\n",
       "205288        351   2013                  Chine           511   \n",
       "208072         41   2013    Chine, continentale           511   \n",
       "240711        100   2013                   Inde           511   \n",
       "224458        231   2013  États-Unis d'Amérique           511   \n",
       "241675        101   2013              Indonésie           511   \n",
       "\n",
       "                  Élément     Valeur  \n",
       "205288  Population totale  1416667.0  \n",
       "208072  Population totale  1385567.0  \n",
       "240711  Population totale  1252140.0  \n",
       "224458  Population totale   320051.0  \n",
       "241675  Population totale   249866.0  "
      ]
     },
     "execution_count": 11,
     "metadata": {},
     "output_type": "execute_result"
    }
   ],
   "source": [
    "filtPopulation2013 = (bilanAlimentaire_raw[\"Code Élément\"] == codeElementPopulation) & (bilanAlimentaire_raw[\"Année\"] == 2013)\n",
    "bilanAlimentaire_raw.loc[(filtPopulation2013), colonneUtile].nlargest(5, \"Valeur\")"
   ]
  },
  {
   "cell_type": "markdown",
   "metadata": {},
   "source": [
    "Le *Code Element* est le même que pour l'année 2017, soit 511"
   ]
  },
  {
   "cell_type": "code",
   "execution_count": 12,
   "metadata": {},
   "outputs": [
    {
     "data": {
      "text/html": [
       "<div>\n",
       "<style scoped>\n",
       "    .dataframe tbody tr th:only-of-type {\n",
       "        vertical-align: middle;\n",
       "    }\n",
       "\n",
       "    .dataframe tbody tr th {\n",
       "        vertical-align: top;\n",
       "    }\n",
       "\n",
       "    .dataframe thead th {\n",
       "        text-align: right;\n",
       "    }\n",
       "</style>\n",
       "<table border=\"1\" class=\"dataframe\">\n",
       "  <thead>\n",
       "    <tr style=\"text-align: right;\">\n",
       "      <th></th>\n",
       "      <th>Code zone</th>\n",
       "      <th>Année</th>\n",
       "      <th>Zone</th>\n",
       "      <th>Code Élément</th>\n",
       "      <th>Élément</th>\n",
       "      <th>Valeur</th>\n",
       "    </tr>\n",
       "  </thead>\n",
       "  <tbody>\n",
       "    <tr>\n",
       "      <td>205288</td>\n",
       "      <td>351</td>\n",
       "      <td>2013</td>\n",
       "      <td>Chine</td>\n",
       "      <td>511</td>\n",
       "      <td>Population totale</td>\n",
       "      <td>1416667.0</td>\n",
       "    </tr>\n",
       "    <tr>\n",
       "      <td>206407</td>\n",
       "      <td>96</td>\n",
       "      <td>2013</td>\n",
       "      <td>Chine - RAS de Hong-Kong</td>\n",
       "      <td>511</td>\n",
       "      <td>Population totale</td>\n",
       "      <td>7204.0</td>\n",
       "    </tr>\n",
       "    <tr>\n",
       "      <td>207310</td>\n",
       "      <td>128</td>\n",
       "      <td>2013</td>\n",
       "      <td>Chine - RAS de Macao</td>\n",
       "      <td>511</td>\n",
       "      <td>Population totale</td>\n",
       "      <td>566.0</td>\n",
       "    </tr>\n",
       "    <tr>\n",
       "      <td>208072</td>\n",
       "      <td>41</td>\n",
       "      <td>2013</td>\n",
       "      <td>Chine, continentale</td>\n",
       "      <td>511</td>\n",
       "      <td>Population totale</td>\n",
       "      <td>1385567.0</td>\n",
       "    </tr>\n",
       "    <tr>\n",
       "      <td>209061</td>\n",
       "      <td>214</td>\n",
       "      <td>2013</td>\n",
       "      <td>Chine, Taiwan Province de</td>\n",
       "      <td>511</td>\n",
       "      <td>Population totale</td>\n",
       "      <td>23330.0</td>\n",
       "    </tr>\n",
       "  </tbody>\n",
       "</table>\n",
       "</div>"
      ],
      "text/plain": [
       "        Code zone  Année                       Zone  Code Élément  \\\n",
       "205288        351   2013                      Chine           511   \n",
       "206407         96   2013   Chine - RAS de Hong-Kong           511   \n",
       "207310        128   2013       Chine - RAS de Macao           511   \n",
       "208072         41   2013        Chine, continentale           511   \n",
       "209061        214   2013  Chine, Taiwan Province de           511   \n",
       "\n",
       "                  Élément     Valeur  \n",
       "205288  Population totale  1416667.0  \n",
       "206407  Population totale     7204.0  \n",
       "207310  Population totale      566.0  \n",
       "208072  Population totale  1385567.0  \n",
       "209061  Population totale    23330.0  "
      ]
     },
     "execution_count": 12,
     "metadata": {},
     "output_type": "execute_result"
    }
   ],
   "source": [
    "bilanAlimentaire_raw.loc[(bilanAlimentaire_raw['Zone'].str.contains('Chine')) & (filtPopulation2013), colonneUtile]"
   ]
  },
  {
   "cell_type": "markdown",
   "metadata": {},
   "source": [
    "Les *Code Zone* sont les mêmes, et l'anomalie est également présente.\n",
    "Comme sur l'annee 2017, nous voyons qu'il y a, d'un côté la Chine, et de l'autre un ensemble de 4 autres pays contenant le mot 'Chine' dans leur nom de pays.\n",
    "\n",
    "Nous allons calculer la différence de population entre la Chine et la somme de ces autres pays."
   ]
  },
  {
   "cell_type": "code",
   "execution_count": 13,
   "metadata": {},
   "outputs": [
    {
     "data": {
      "text/plain": [
       "\"Il n'y a pas de différence\""
      ]
     },
     "execution_count": 13,
     "metadata": {},
     "output_type": "execute_result"
    }
   ],
   "source": [
    "OCR3.differencePopulation(bilanAlimentaire_raw, 2013, 'Code Élément', codeElementPopulation, 'Code zone', codeZoneChine, codeZoneChineAutre)"
   ]
  },
  {
   "cell_type": "markdown",
   "metadata": {},
   "source": [
    "Ainsi, nous allons enlever les pays en double, c'est-a-dire, les 4 pays autre que la Chine."
   ]
  },
  {
   "cell_type": "code",
   "execution_count": 14,
   "metadata": {},
   "outputs": [],
   "source": [
    "bilanAlimentaire = bilanAlimentaire_raw[~bilanAlimentaire_raw['Code zone'].isin(codeZoneChineAutre)]"
   ]
  },
  {
   "cell_type": "markdown",
   "metadata": {},
   "source": [
    "Nous pouvons calculer les populations pour les années 2017 et 2013"
   ]
  },
  {
   "cell_type": "code",
   "execution_count": 15,
   "metadata": {},
   "outputs": [
    {
     "data": {
      "text/plain": [
       "7329868950.0"
      ]
     },
     "execution_count": 15,
     "metadata": {},
     "output_type": "execute_result"
    }
   ],
   "source": [
    "OCR3.calculPopulation(bilanAlimentaire, 2017)"
   ]
  },
  {
   "cell_type": "code",
   "execution_count": 16,
   "metadata": {},
   "outputs": [
    {
     "data": {
      "text/plain": [
       "6997326000.0"
      ]
     },
     "execution_count": 16,
     "metadata": {},
     "output_type": "execute_result"
    }
   ],
   "source": [
    "OCR3.calculPopulation(bilanAlimentaire, 2013)"
   ]
  },
  {
   "cell_type": "markdown",
   "metadata": {},
   "source": [
    "#### Conclusion"
   ]
  },
  {
   "cell_type": "markdown",
   "metadata": {},
   "source": [
    "Nous avons calculer les populations mondiales pour les deux pays. \n",
    "* Pour l'année 2013, nous avons 6 997 326 000 Habitants\n",
    "* Pour l'année 2017, nous avons 7 329 868 950 Habitants\n",
    "\n",
    "Cela corresponds bien aux données fournis par la FAO"
   ]
  },
  {
   "cell_type": "markdown",
   "metadata": {},
   "source": [
    "## Partie II"
   ]
  },
  {
   "cell_type": "markdown",
   "metadata": {},
   "source": [
    "Nous allons traiter les questions 2, 3, 4 et 5 ensemble, puisqu'elles sont liées"
   ]
  },
  {
   "cell_type": "markdown",
   "metadata": {},
   "source": [
    "### Question 2 : Identifiez ces redondances, en donnant votre réponse sous forme de formule mathématique"
   ]
  },
  {
   "cell_type": "markdown",
   "metadata": {},
   "source": [
    "Nous avons les équivalences suivantes : \n",
    "\n",
    "Disponibilité intérieur = Production + importations – exportations - évolutions du stock = Nourriture + Aliments pour animaux + Semences + Pertes + Traitements + Autres utilisations\n",
    "\n",
    "Nous allons verifier l'exactitude de ces équivalences avec le blé francais\n",
    "\n",
    "Nous utiliserons le *Code Produit* pour :\n",
    "* le blé - 2511\n",
    "\n",
    "le *Code Zone* pour :\n",
    "* la France - 68\n",
    "\n",
    "et les *Code Produit* pour : \n",
    "* la *Disponibilité intérieure* - 5301\n",
    "* la *Production* - 5511\n",
    "* l' *Importations - Quantité* - 5611\n",
    "* l' *Exportations - Quantité* - 5911\n",
    "* la *Variation de stock* - 5072\n",
    "* la *Nourriture* - 5142\n",
    "* l' *Aliments pour animaux* - 5521\n",
    "* la *Semences* - 5527\n",
    "* la *Pertes* - 5123\n",
    "* la *Traitement* - 5131\n",
    "* la *Autres utilisations (non alimentaire)* - 5154"
   ]
  },
  {
   "cell_type": "code",
   "execution_count": 17,
   "metadata": {},
   "outputs": [],
   "source": [
    "ble = 2511\n",
    "france = 68\n",
    "listCodes = (5301, 5511, 5611, 5911, 5072, 5142, 5521, 5527, 5123, 5131, 5154)\n",
    "dispoInterieur, production, importation, exportation, variation, nourriture, alimentAnimaux, semences, pertes, traitement, autres = OCR3.retourneValeurs(bilanAlimentaire, 2017, {'Code zone': france, 'Code Produit' : ble}, 'Code Élément', listCodes, 'Valeur')"
   ]
  },
  {
   "cell_type": "markdown",
   "metadata": {},
   "source": [
    "Nous allons calculer les trois valeurs suivantes :\n",
    "* Disponibilité intérieure\n",
    "* Production + importations – exportations - évolutions du stock nommée 'Variation'\n",
    "* Nourriture + Aliments pour animaux + Semences + Pertes + Traitements + Autres utilisations nommée 'Utilisation'"
   ]
  },
  {
   "cell_type": "code",
   "execution_count": 18,
   "metadata": {},
   "outputs": [],
   "source": [
    "disponibilité_intérieure = dispoInterieur\n",
    "variation = production + importation - exportation - variation\n",
    "utilisation = nourriture + alimentAnimaux + semences + pertes + traitement + autres"
   ]
  },
  {
   "cell_type": "code",
   "execution_count": 19,
   "metadata": {},
   "outputs": [
    {
     "data": {
      "text/plain": [
       "\"En France, nous pouvons voir que la disponibilité intérieure vaut 20665.0 Milliers de Tonnes de blé. Elle est égale a la variation de 20665.0 Milliers de Tonnes de blé, et, est aussi égale a l'utilisation de 20664.0 Milliers de Tonnes de blé.\""
      ]
     },
     "execution_count": 19,
     "metadata": {},
     "output_type": "execute_result"
    }
   ],
   "source": [
    "f\"En France, nous pouvons voir que la disponibilité intérieure vaut {disponibilité_intérieure} Milliers de Tonnes de blé. Elle est égale a la variation de {variation} Milliers de Tonnes de blé, et, est aussi égale a l'utilisation de {utilisation} Milliers de Tonnes de blé.\""
   ]
  },
  {
   "cell_type": "markdown",
   "metadata": {},
   "source": [
    "### Question 3 : Calculez (pour chaque pays et chaque produit) la disponibilité alimentaire en kcal puis en kg de protéines."
   ]
  },
  {
   "cell_type": "markdown",
   "metadata": {},
   "source": [
    "#### Préparation :"
   ]
  },
  {
   "cell_type": "markdown",
   "metadata": {},
   "source": [
    "Nous allons créer, *Data Frame* modifié __bilanAlimentaire__, deux nouvelles lignes pour chaque produit et chaque pays contenant la disponibilité alimentaire en kcal/jour et la la disponibilité en proteines en kg/jour. Elles auront les codes 9664 et 9674. Le 9 des milliers etant pour les nouvelles valeurs calculées\n",
    "\n",
    "Nous allons creer les variables qui serviront a rajouter ces nouvelles lignes"
   ]
  },
  {
   "cell_type": "code",
   "execution_count": 20,
   "metadata": {},
   "outputs": [],
   "source": [
    "codeElementDispoAlimentaireKCal = 664\n",
    "codeElementDispoProteineKg = 674\n",
    "\n",
    "codeDispoAlimentaire = (codeElementDispoAlimentaireKCal, codeElementPopulation)\n",
    "codeDispoProteine = (codeElementDispoProteineKg, codeElementPopulation)\n",
    "\n",
    "nouveauElementDispoAlimentaireKCal = 'Disponibilité alimentaire (Kcal/jour)'\n",
    "nouveauUniteDispoAlimentaireKCal = 'Kcal/jour'\n",
    "nouveauCodeDispoAlimentaireKCal = 9664\n",
    "\n",
    "nouveauElementDispoProteineKg = 'Disponibilité alimentaire de protéines en quantité (Kg/jour)'\n",
    "nouveauUniteDispoProteineKg = 'Kg/jour'\n",
    "nouveauCodeDispoProteineKg = 9674\n",
    "\n",
    "multiplicateurDispoAlimentaire = 1000 #Multiplication pour passer de milliers de personnes a personne\n",
    "multiplicateurDispoProteine = 1000 / 1000 #Division par 1000 pour passer des g en Kg\n",
    "\n",
    "colonne = ['Zone','Valeur','Année']\n",
    "avec = ['Zone', 'Année']"
   ]
  },
  {
   "cell_type": "markdown",
   "metadata": {},
   "source": [
    "#### Calcul, pour chaque pays et chaque produit, la disponibilité alimentaire en kcal"
   ]
  },
  {
   "cell_type": "code",
   "execution_count": 21,
   "metadata": {},
   "outputs": [],
   "source": [
    "bilanAlimentaire = OCR3.ajoutLigne(bilanAlimentaire, 'Code Élément', codeDispoAlimentaire, nouveauElementDispoAlimentaireKCal, nouveauCodeDispoAlimentaireKCal, nouveauUniteDispoAlimentaireKCal, colonne, multiplicateurDispoAlimentaire, avec)"
   ]
  },
  {
   "cell_type": "markdown",
   "metadata": {},
   "source": [
    "Nous avons calculé la disponibilité alimentaire pour chaque produit et chaque pays. Nous allons faire un pivot table pour un affichage plus confortable. L'unité est des KCal/jour."
   ]
  },
  {
   "cell_type": "code",
   "execution_count": 22,
   "metadata": {},
   "outputs": [
    {
     "data": {
      "text/html": [
       "<div>\n",
       "<style scoped>\n",
       "    .dataframe tbody tr th:only-of-type {\n",
       "        vertical-align: middle;\n",
       "    }\n",
       "\n",
       "    .dataframe tbody tr th {\n",
       "        vertical-align: top;\n",
       "    }\n",
       "\n",
       "    .dataframe thead th {\n",
       "        text-align: right;\n",
       "    }\n",
       "</style>\n",
       "<table border=\"1\" class=\"dataframe\">\n",
       "  <thead>\n",
       "    <tr style=\"text-align: right;\">\n",
       "      <th>Produit</th>\n",
       "      <th>Abats Comestible</th>\n",
       "      <th>Agrumes, Autres</th>\n",
       "      <th>Aliments pour enfants</th>\n",
       "      <th>Ananas</th>\n",
       "      <th>Animaux Aquatiques Autre</th>\n",
       "      <th>Arachides Decortiquees</th>\n",
       "      <th>Avoine</th>\n",
       "      <th>Bananes</th>\n",
       "      <th>Bananes plantains</th>\n",
       "      <th>Beurre, Ghee</th>\n",
       "      <th>...</th>\n",
       "      <th>Thé</th>\n",
       "      <th>Tomates</th>\n",
       "      <th>Viande d'Ovins/Caprins</th>\n",
       "      <th>Viande de Anim Aquatiq</th>\n",
       "      <th>Viande de Bovins</th>\n",
       "      <th>Viande de Suides</th>\n",
       "      <th>Viande de Volailles</th>\n",
       "      <th>Viande, Autre</th>\n",
       "      <th>Vin</th>\n",
       "      <th>Épices, Autres</th>\n",
       "    </tr>\n",
       "    <tr>\n",
       "      <th>Zone</th>\n",
       "      <th></th>\n",
       "      <th></th>\n",
       "      <th></th>\n",
       "      <th></th>\n",
       "      <th></th>\n",
       "      <th></th>\n",
       "      <th></th>\n",
       "      <th></th>\n",
       "      <th></th>\n",
       "      <th></th>\n",
       "      <th></th>\n",
       "      <th></th>\n",
       "      <th></th>\n",
       "      <th></th>\n",
       "      <th></th>\n",
       "      <th></th>\n",
       "      <th></th>\n",
       "      <th></th>\n",
       "      <th></th>\n",
       "      <th></th>\n",
       "      <th></th>\n",
       "    </tr>\n",
       "  </thead>\n",
       "  <tbody>\n",
       "    <tr>\n",
       "      <td>Afghanistan</td>\n",
       "      <td>181480550.0</td>\n",
       "      <td>36296110</td>\n",
       "      <td>36296110.0</td>\n",
       "      <td>0.000000e+00</td>\n",
       "      <td>0</td>\n",
       "      <td>0.000000e+00</td>\n",
       "      <td>0.000000e+00</td>\n",
       "      <td>2.177767e+08</td>\n",
       "      <td>0.000000e+00</td>\n",
       "      <td>7.985144e+08</td>\n",
       "      <td>...</td>\n",
       "      <td>72592220.0</td>\n",
       "      <td>0.000000e+00</td>\n",
       "      <td>9.436989e+08</td>\n",
       "      <td>0</td>\n",
       "      <td>5.444416e+08</td>\n",
       "      <td>0.000000e+00</td>\n",
       "      <td>1.814806e+08</td>\n",
       "      <td>36296110.0</td>\n",
       "      <td>0.000000e+00</td>\n",
       "      <td>1.451844e+08</td>\n",
       "    </tr>\n",
       "    <tr>\n",
       "      <td>Afrique du Sud</td>\n",
       "      <td>969165920.0</td>\n",
       "      <td>0</td>\n",
       "      <td>0.0</td>\n",
       "      <td>5.700976e+07</td>\n",
       "      <td>0</td>\n",
       "      <td>8.551464e+08</td>\n",
       "      <td>3.420586e+08</td>\n",
       "      <td>6.841171e+08</td>\n",
       "      <td>0.000000e+00</td>\n",
       "      <td>3.420586e+08</td>\n",
       "      <td>...</td>\n",
       "      <td>0.0</td>\n",
       "      <td>2.850488e+08</td>\n",
       "      <td>1.026176e+09</td>\n",
       "      <td>0</td>\n",
       "      <td>5.814996e+09</td>\n",
       "      <td>2.451420e+09</td>\n",
       "      <td>8.152396e+09</td>\n",
       "      <td>114019520.0</td>\n",
       "      <td>6.841171e+08</td>\n",
       "      <td>5.700976e+07</td>\n",
       "    </tr>\n",
       "    <tr>\n",
       "      <td>Albanie</td>\n",
       "      <td>51915060.0</td>\n",
       "      <td>0</td>\n",
       "      <td>2884170.0</td>\n",
       "      <td>0.000000e+00</td>\n",
       "      <td>0</td>\n",
       "      <td>8.652510e+06</td>\n",
       "      <td>2.884170e+06</td>\n",
       "      <td>4.614672e+07</td>\n",
       "      <td>0.000000e+00</td>\n",
       "      <td>1.038301e+08</td>\n",
       "      <td>...</td>\n",
       "      <td>0.0</td>\n",
       "      <td>1.067143e+08</td>\n",
       "      <td>1.384402e+08</td>\n",
       "      <td>0</td>\n",
       "      <td>1.874711e+08</td>\n",
       "      <td>1.845869e+08</td>\n",
       "      <td>2.451544e+08</td>\n",
       "      <td>2884170.0</td>\n",
       "      <td>5.479923e+07</td>\n",
       "      <td>0.000000e+00</td>\n",
       "    </tr>\n",
       "    <tr>\n",
       "      <td>Algérie</td>\n",
       "      <td>165556760.0</td>\n",
       "      <td>0</td>\n",
       "      <td>165556760.0</td>\n",
       "      <td>0.000000e+00</td>\n",
       "      <td>0</td>\n",
       "      <td>8.277838e+07</td>\n",
       "      <td>0.000000e+00</td>\n",
       "      <td>1.241676e+08</td>\n",
       "      <td>0.000000e+00</td>\n",
       "      <td>2.897243e+08</td>\n",
       "      <td>...</td>\n",
       "      <td>0.0</td>\n",
       "      <td>7.450054e+08</td>\n",
       "      <td>1.531400e+09</td>\n",
       "      <td>0</td>\n",
       "      <td>9.519514e+08</td>\n",
       "      <td>0.000000e+00</td>\n",
       "      <td>9.105622e+08</td>\n",
       "      <td>41389190.0</td>\n",
       "      <td>0.000000e+00</td>\n",
       "      <td>1.241676e+08</td>\n",
       "    </tr>\n",
       "    <tr>\n",
       "      <td>Allemagne</td>\n",
       "      <td>413292050.0</td>\n",
       "      <td>82658410</td>\n",
       "      <td>0.0</td>\n",
       "      <td>3.306336e+08</td>\n",
       "      <td>0</td>\n",
       "      <td>1.653168e+09</td>\n",
       "      <td>7.439257e+08</td>\n",
       "      <td>1.735827e+09</td>\n",
       "      <td>0.000000e+00</td>\n",
       "      <td>8.927108e+09</td>\n",
       "      <td>...</td>\n",
       "      <td>0.0</td>\n",
       "      <td>9.919009e+08</td>\n",
       "      <td>4.132921e+08</td>\n",
       "      <td>0</td>\n",
       "      <td>3.636970e+09</td>\n",
       "      <td>1.934207e+10</td>\n",
       "      <td>5.868747e+09</td>\n",
       "      <td>495950460.0</td>\n",
       "      <td>3.223678e+09</td>\n",
       "      <td>3.306336e+08</td>\n",
       "    </tr>\n",
       "    <tr>\n",
       "      <td>...</td>\n",
       "      <td>...</td>\n",
       "      <td>...</td>\n",
       "      <td>...</td>\n",
       "      <td>...</td>\n",
       "      <td>...</td>\n",
       "      <td>...</td>\n",
       "      <td>...</td>\n",
       "      <td>...</td>\n",
       "      <td>...</td>\n",
       "      <td>...</td>\n",
       "      <td>...</td>\n",
       "      <td>...</td>\n",
       "      <td>...</td>\n",
       "      <td>...</td>\n",
       "      <td>...</td>\n",
       "      <td>...</td>\n",
       "      <td>...</td>\n",
       "      <td>...</td>\n",
       "      <td>...</td>\n",
       "      <td>...</td>\n",
       "      <td>...</td>\n",
       "    </tr>\n",
       "    <tr>\n",
       "      <td>Émirats arabes unis</td>\n",
       "      <td>75897600.0</td>\n",
       "      <td>0</td>\n",
       "      <td>28461600.0</td>\n",
       "      <td>6.641040e+07</td>\n",
       "      <td>0</td>\n",
       "      <td>2.941032e+08</td>\n",
       "      <td>0.000000e+00</td>\n",
       "      <td>2.656416e+08</td>\n",
       "      <td>4.743600e+07</td>\n",
       "      <td>2.941032e+08</td>\n",
       "      <td>...</td>\n",
       "      <td>9487200.0</td>\n",
       "      <td>6.641040e+07</td>\n",
       "      <td>4.364112e+08</td>\n",
       "      <td>0</td>\n",
       "      <td>3.889752e+08</td>\n",
       "      <td>0.000000e+00</td>\n",
       "      <td>1.394618e+09</td>\n",
       "      <td>123333600.0</td>\n",
       "      <td>0.000000e+00</td>\n",
       "      <td>2.751288e+08</td>\n",
       "    </tr>\n",
       "    <tr>\n",
       "      <td>Équateur</td>\n",
       "      <td>117497520.0</td>\n",
       "      <td>16785360</td>\n",
       "      <td>67141440.0</td>\n",
       "      <td>5.035608e+07</td>\n",
       "      <td>0</td>\n",
       "      <td>2.685658e+08</td>\n",
       "      <td>4.028486e+08</td>\n",
       "      <td>3.524926e+08</td>\n",
       "      <td>1.141404e+09</td>\n",
       "      <td>3.357072e+07</td>\n",
       "      <td>...</td>\n",
       "      <td>0.0</td>\n",
       "      <td>5.035608e+07</td>\n",
       "      <td>1.678536e+07</td>\n",
       "      <td>0</td>\n",
       "      <td>1.258902e+09</td>\n",
       "      <td>7.385558e+08</td>\n",
       "      <td>1.393185e+09</td>\n",
       "      <td>0.0</td>\n",
       "      <td>1.678536e+07</td>\n",
       "      <td>3.357072e+07</td>\n",
       "    </tr>\n",
       "    <tr>\n",
       "      <td>États-Unis d'Amérique</td>\n",
       "      <td>325084760.0</td>\n",
       "      <td>0</td>\n",
       "      <td>0.0</td>\n",
       "      <td>2.275593e+09</td>\n",
       "      <td>0</td>\n",
       "      <td>1.755458e+10</td>\n",
       "      <td>5.526441e+09</td>\n",
       "      <td>6.501695e+09</td>\n",
       "      <td>6.501695e+08</td>\n",
       "      <td>1.430373e+10</td>\n",
       "      <td>...</td>\n",
       "      <td>0.0</td>\n",
       "      <td>4.876271e+09</td>\n",
       "      <td>9.752543e+08</td>\n",
       "      <td>0</td>\n",
       "      <td>3.315865e+10</td>\n",
       "      <td>4.323627e+10</td>\n",
       "      <td>7.119356e+10</td>\n",
       "      <td>650169520.0</td>\n",
       "      <td>4.876271e+09</td>\n",
       "      <td>1.300339e+09</td>\n",
       "    </tr>\n",
       "    <tr>\n",
       "      <td>Éthiopie</td>\n",
       "      <td>319199760.0</td>\n",
       "      <td>0</td>\n",
       "      <td>0.0</td>\n",
       "      <td>0.000000e+00</td>\n",
       "      <td>0</td>\n",
       "      <td>1.276799e+09</td>\n",
       "      <td>0.000000e+00</td>\n",
       "      <td>8.511994e+08</td>\n",
       "      <td>0.000000e+00</td>\n",
       "      <td>3.191998e+08</td>\n",
       "      <td>...</td>\n",
       "      <td>0.0</td>\n",
       "      <td>0.000000e+00</td>\n",
       "      <td>4.255997e+08</td>\n",
       "      <td>0</td>\n",
       "      <td>2.340798e+09</td>\n",
       "      <td>0.000000e+00</td>\n",
       "      <td>0.000000e+00</td>\n",
       "      <td>425599680.0</td>\n",
       "      <td>0.000000e+00</td>\n",
       "      <td>3.191998e+08</td>\n",
       "    </tr>\n",
       "    <tr>\n",
       "      <td>Îles Salomon</td>\n",
       "      <td>1272080.0</td>\n",
       "      <td>0</td>\n",
       "      <td>0.0</td>\n",
       "      <td>0.000000e+00</td>\n",
       "      <td>0</td>\n",
       "      <td>1.272080e+06</td>\n",
       "      <td>0.000000e+00</td>\n",
       "      <td>6.360400e+05</td>\n",
       "      <td>0.000000e+00</td>\n",
       "      <td>1.908120e+06</td>\n",
       "      <td>...</td>\n",
       "      <td>0.0</td>\n",
       "      <td>0.000000e+00</td>\n",
       "      <td>6.360400e+05</td>\n",
       "      <td>0</td>\n",
       "      <td>9.540600e+06</td>\n",
       "      <td>2.798576e+07</td>\n",
       "      <td>1.144872e+07</td>\n",
       "      <td>0.0</td>\n",
       "      <td>0.000000e+00</td>\n",
       "      <td>2.544160e+06</td>\n",
       "    </tr>\n",
       "  </tbody>\n",
       "</table>\n",
       "<p>169 rows × 97 columns</p>\n",
       "</div>"
      ],
      "text/plain": [
       "Produit                Abats Comestible  Agrumes, Autres  \\\n",
       "Zone                                                       \n",
       "Afghanistan                 181480550.0         36296110   \n",
       "Afrique du Sud              969165920.0                0   \n",
       "Albanie                      51915060.0                0   \n",
       "Algérie                     165556760.0                0   \n",
       "Allemagne                   413292050.0         82658410   \n",
       "...                                 ...              ...   \n",
       "Émirats arabes unis          75897600.0                0   \n",
       "Équateur                    117497520.0         16785360   \n",
       "États-Unis d'Amérique       325084760.0                0   \n",
       "Éthiopie                    319199760.0                0   \n",
       "Îles Salomon                  1272080.0                0   \n",
       "\n",
       "Produit                Aliments pour enfants        Ananas  \\\n",
       "Zone                                                         \n",
       "Afghanistan                       36296110.0  0.000000e+00   \n",
       "Afrique du Sud                           0.0  5.700976e+07   \n",
       "Albanie                            2884170.0  0.000000e+00   \n",
       "Algérie                          165556760.0  0.000000e+00   \n",
       "Allemagne                                0.0  3.306336e+08   \n",
       "...                                      ...           ...   \n",
       "Émirats arabes unis               28461600.0  6.641040e+07   \n",
       "Équateur                          67141440.0  5.035608e+07   \n",
       "États-Unis d'Amérique                    0.0  2.275593e+09   \n",
       "Éthiopie                                 0.0  0.000000e+00   \n",
       "Îles Salomon                             0.0  0.000000e+00   \n",
       "\n",
       "Produit                Animaux Aquatiques Autre  Arachides Decortiquees  \\\n",
       "Zone                                                                      \n",
       "Afghanistan                                   0            0.000000e+00   \n",
       "Afrique du Sud                                0            8.551464e+08   \n",
       "Albanie                                       0            8.652510e+06   \n",
       "Algérie                                       0            8.277838e+07   \n",
       "Allemagne                                     0            1.653168e+09   \n",
       "...                                         ...                     ...   \n",
       "Émirats arabes unis                           0            2.941032e+08   \n",
       "Équateur                                      0            2.685658e+08   \n",
       "États-Unis d'Amérique                         0            1.755458e+10   \n",
       "Éthiopie                                      0            1.276799e+09   \n",
       "Îles Salomon                                  0            1.272080e+06   \n",
       "\n",
       "Produit                      Avoine       Bananes  Bananes plantains  \\\n",
       "Zone                                                                   \n",
       "Afghanistan            0.000000e+00  2.177767e+08       0.000000e+00   \n",
       "Afrique du Sud         3.420586e+08  6.841171e+08       0.000000e+00   \n",
       "Albanie                2.884170e+06  4.614672e+07       0.000000e+00   \n",
       "Algérie                0.000000e+00  1.241676e+08       0.000000e+00   \n",
       "Allemagne              7.439257e+08  1.735827e+09       0.000000e+00   \n",
       "...                             ...           ...                ...   \n",
       "Émirats arabes unis    0.000000e+00  2.656416e+08       4.743600e+07   \n",
       "Équateur               4.028486e+08  3.524926e+08       1.141404e+09   \n",
       "États-Unis d'Amérique  5.526441e+09  6.501695e+09       6.501695e+08   \n",
       "Éthiopie               0.000000e+00  8.511994e+08       0.000000e+00   \n",
       "Îles Salomon           0.000000e+00  6.360400e+05       0.000000e+00   \n",
       "\n",
       "Produit                Beurre, Ghee  ...         Thé       Tomates  \\\n",
       "Zone                                 ...                             \n",
       "Afghanistan            7.985144e+08  ...  72592220.0  0.000000e+00   \n",
       "Afrique du Sud         3.420586e+08  ...         0.0  2.850488e+08   \n",
       "Albanie                1.038301e+08  ...         0.0  1.067143e+08   \n",
       "Algérie                2.897243e+08  ...         0.0  7.450054e+08   \n",
       "Allemagne              8.927108e+09  ...         0.0  9.919009e+08   \n",
       "...                             ...  ...         ...           ...   \n",
       "Émirats arabes unis    2.941032e+08  ...   9487200.0  6.641040e+07   \n",
       "Équateur               3.357072e+07  ...         0.0  5.035608e+07   \n",
       "États-Unis d'Amérique  1.430373e+10  ...         0.0  4.876271e+09   \n",
       "Éthiopie               3.191998e+08  ...         0.0  0.000000e+00   \n",
       "Îles Salomon           1.908120e+06  ...         0.0  0.000000e+00   \n",
       "\n",
       "Produit                Viande d'Ovins/Caprins  Viande de Anim Aquatiq  \\\n",
       "Zone                                                                    \n",
       "Afghanistan                      9.436989e+08                       0   \n",
       "Afrique du Sud                   1.026176e+09                       0   \n",
       "Albanie                          1.384402e+08                       0   \n",
       "Algérie                          1.531400e+09                       0   \n",
       "Allemagne                        4.132921e+08                       0   \n",
       "...                                       ...                     ...   \n",
       "Émirats arabes unis              4.364112e+08                       0   \n",
       "Équateur                         1.678536e+07                       0   \n",
       "États-Unis d'Amérique            9.752543e+08                       0   \n",
       "Éthiopie                         4.255997e+08                       0   \n",
       "Îles Salomon                     6.360400e+05                       0   \n",
       "\n",
       "Produit                Viande de Bovins  Viande de Suides  \\\n",
       "Zone                                                        \n",
       "Afghanistan                5.444416e+08      0.000000e+00   \n",
       "Afrique du Sud             5.814996e+09      2.451420e+09   \n",
       "Albanie                    1.874711e+08      1.845869e+08   \n",
       "Algérie                    9.519514e+08      0.000000e+00   \n",
       "Allemagne                  3.636970e+09      1.934207e+10   \n",
       "...                                 ...               ...   \n",
       "Émirats arabes unis        3.889752e+08      0.000000e+00   \n",
       "Équateur                   1.258902e+09      7.385558e+08   \n",
       "États-Unis d'Amérique      3.315865e+10      4.323627e+10   \n",
       "Éthiopie                   2.340798e+09      0.000000e+00   \n",
       "Îles Salomon               9.540600e+06      2.798576e+07   \n",
       "\n",
       "Produit                Viande de Volailles  Viande, Autre           Vin  \\\n",
       "Zone                                                                      \n",
       "Afghanistan                   1.814806e+08     36296110.0  0.000000e+00   \n",
       "Afrique du Sud                8.152396e+09    114019520.0  6.841171e+08   \n",
       "Albanie                       2.451544e+08      2884170.0  5.479923e+07   \n",
       "Algérie                       9.105622e+08     41389190.0  0.000000e+00   \n",
       "Allemagne                     5.868747e+09    495950460.0  3.223678e+09   \n",
       "...                                    ...            ...           ...   \n",
       "Émirats arabes unis           1.394618e+09    123333600.0  0.000000e+00   \n",
       "Équateur                      1.393185e+09            0.0  1.678536e+07   \n",
       "États-Unis d'Amérique         7.119356e+10    650169520.0  4.876271e+09   \n",
       "Éthiopie                      0.000000e+00    425599680.0  0.000000e+00   \n",
       "Îles Salomon                  1.144872e+07            0.0  0.000000e+00   \n",
       "\n",
       "Produit                Épices, Autres  \n",
       "Zone                                   \n",
       "Afghanistan              1.451844e+08  \n",
       "Afrique du Sud           5.700976e+07  \n",
       "Albanie                  0.000000e+00  \n",
       "Algérie                  1.241676e+08  \n",
       "Allemagne                3.306336e+08  \n",
       "...                               ...  \n",
       "Émirats arabes unis      2.751288e+08  \n",
       "Équateur                 3.357072e+07  \n",
       "États-Unis d'Amérique    1.300339e+09  \n",
       "Éthiopie                 3.191998e+08  \n",
       "Îles Salomon             2.544160e+06  \n",
       "\n",
       "[169 rows x 97 columns]"
      ]
     },
     "execution_count": 22,
     "metadata": {},
     "output_type": "execute_result"
    }
   ],
   "source": [
    "filt = (bilanAlimentaire['Code Élément'] == nouveauCodeDispoAlimentaireKCal) & (bilanAlimentaire['Année'] == 2017)\n",
    "pd.pivot_table(bilanAlimentaire[filt], index='Zone', columns = 'Produit', values='Valeur', fill_value=0)"
   ]
  },
  {
   "cell_type": "markdown",
   "metadata": {},
   "source": [
    "Nous allons vérifier la véracité de nos calculs, en cherchant la valeur de la disponibilité Alimentaire en Kcal/jour des Abats Comestible pour l'Allemagne."
   ]
  },
  {
   "cell_type": "code",
   "execution_count": 23,
   "metadata": {},
   "outputs": [
    {
     "data": {
      "text/plain": [
       "\"La disponibilté alimentaire de l'Allemagne par jour pour les abats comestible est de 413292050.00000006 KCal/Jour\""
      ]
     },
     "execution_count": 23,
     "metadata": {},
     "output_type": "execute_result"
    }
   ],
   "source": [
    "VerificationProduit = OCR3.retourneValeurs(bilanAlimentaire, 2017, {'Zone': 'Allemagne', 'Produit' : 'Abats Comestible'}, 'Code Élément', [codeElementDispoAlimentaireKCal], 'Valeur')\n",
    "VerificationPopulation = OCR3.retourneValeurs(bilanAlimentaire, 2017, {'Zone': 'Allemagne', 'Produit' : 'Population'}, 'Code Élément', [codeElementPopulation],'Valeur')\n",
    "f\"La disponibilté alimentaire de l'Allemagne par jour pour les abats comestible est de {VerificationProduit[0] * VerificationPopulation[0] * 1000} KCal/Jour\""
   ]
  },
  {
   "cell_type": "markdown",
   "metadata": {},
   "source": [
    "Nous constatons que les deux valeurs sont identiques"
   ]
  },
  {
   "cell_type": "markdown",
   "metadata": {},
   "source": [
    "#### Calcul, pour chaque pays et chaque produit, la disponibilité alimentaire en protéines en kg"
   ]
  },
  {
   "cell_type": "code",
   "execution_count": 24,
   "metadata": {},
   "outputs": [],
   "source": [
    "bilanAlimentaire = OCR3.ajoutLigne(bilanAlimentaire, 'Code Élément', codeDispoProteine, nouveauElementDispoProteineKg, nouveauCodeDispoProteineKg, nouveauUniteDispoProteineKg, colonne, multiplicateurDispoProteine, avec)"
   ]
  },
  {
   "cell_type": "markdown",
   "metadata": {},
   "source": [
    "Nous avons calculé la disponibilité en protéine pour chaque produit et chaque pays. Nous allons faire un *pivot table* pour un affichage plus confortable. L'unité est des Kg/jour."
   ]
  },
  {
   "cell_type": "code",
   "execution_count": 25,
   "metadata": {},
   "outputs": [
    {
     "data": {
      "text/html": [
       "<div>\n",
       "<style scoped>\n",
       "    .dataframe tbody tr th:only-of-type {\n",
       "        vertical-align: middle;\n",
       "    }\n",
       "\n",
       "    .dataframe tbody tr th {\n",
       "        vertical-align: top;\n",
       "    }\n",
       "\n",
       "    .dataframe thead th {\n",
       "        text-align: right;\n",
       "    }\n",
       "</style>\n",
       "<table border=\"1\" class=\"dataframe\">\n",
       "  <thead>\n",
       "    <tr style=\"text-align: right;\">\n",
       "      <th>Produit</th>\n",
       "      <th>Abats Comestible</th>\n",
       "      <th>Agrumes, Autres</th>\n",
       "      <th>Aliments pour enfants</th>\n",
       "      <th>Ananas</th>\n",
       "      <th>Animaux Aquatiques Autre</th>\n",
       "      <th>Arachides Decortiquees</th>\n",
       "      <th>Avoine</th>\n",
       "      <th>Bananes</th>\n",
       "      <th>Bananes plantains</th>\n",
       "      <th>Beurre, Ghee</th>\n",
       "      <th>...</th>\n",
       "      <th>Thé</th>\n",
       "      <th>Tomates</th>\n",
       "      <th>Viande d'Ovins/Caprins</th>\n",
       "      <th>Viande de Anim Aquatiq</th>\n",
       "      <th>Viande de Bovins</th>\n",
       "      <th>Viande de Suides</th>\n",
       "      <th>Viande de Volailles</th>\n",
       "      <th>Viande, Autre</th>\n",
       "      <th>Vin</th>\n",
       "      <th>Épices, Autres</th>\n",
       "    </tr>\n",
       "    <tr>\n",
       "      <th>Zone</th>\n",
       "      <th></th>\n",
       "      <th></th>\n",
       "      <th></th>\n",
       "      <th></th>\n",
       "      <th></th>\n",
       "      <th></th>\n",
       "      <th></th>\n",
       "      <th></th>\n",
       "      <th></th>\n",
       "      <th></th>\n",
       "      <th></th>\n",
       "      <th></th>\n",
       "      <th></th>\n",
       "      <th></th>\n",
       "      <th></th>\n",
       "      <th></th>\n",
       "      <th></th>\n",
       "      <th></th>\n",
       "      <th></th>\n",
       "      <th></th>\n",
       "      <th></th>\n",
       "    </tr>\n",
       "  </thead>\n",
       "  <tbody>\n",
       "    <tr>\n",
       "      <td>Afghanistan</td>\n",
       "      <td>23229.5104</td>\n",
       "      <td>725.9222</td>\n",
       "      <td>1451.8444</td>\n",
       "      <td>0.0000</td>\n",
       "      <td>0.0000</td>\n",
       "      <td>725.9222</td>\n",
       "      <td>0.0000</td>\n",
       "      <td>2540.7277</td>\n",
       "      <td>0.0000</td>\n",
       "      <td>1088.8833</td>\n",
       "      <td>...</td>\n",
       "      <td>21414.7049</td>\n",
       "      <td>0.0000</td>\n",
       "      <td>58799.6982</td>\n",
       "      <td>0</td>\n",
       "      <td>3.956276e+04</td>\n",
       "      <td>0.000000e+00</td>\n",
       "      <td>1.959990e+04</td>\n",
       "      <td>5081.4554</td>\n",
       "      <td>0.0</td>\n",
       "      <td>6533.2998</td>\n",
       "    </tr>\n",
       "    <tr>\n",
       "      <td>Afrique du Sud</td>\n",
       "      <td>154496.4496</td>\n",
       "      <td>0.0000</td>\n",
       "      <td>0.0000</td>\n",
       "      <td>0.0000</td>\n",
       "      <td>0.0000</td>\n",
       "      <td>34775.9536</td>\n",
       "      <td>11401.9520</td>\n",
       "      <td>10831.8544</td>\n",
       "      <td>0.0000</td>\n",
       "      <td>570.0976</td>\n",
       "      <td>...</td>\n",
       "      <td>6271.0736</td>\n",
       "      <td>15392.6352</td>\n",
       "      <td>57009.7600</td>\n",
       "      <td>0</td>\n",
       "      <td>3.785448e+05</td>\n",
       "      <td>6.385093e+04</td>\n",
       "      <td>8.044077e+05</td>\n",
       "      <td>19383.3184</td>\n",
       "      <td>0.0</td>\n",
       "      <td>3420.5856</td>\n",
       "    </tr>\n",
       "    <tr>\n",
       "      <td>Albanie</td>\n",
       "      <td>7643.0505</td>\n",
       "      <td>0.0000</td>\n",
       "      <td>115.3668</td>\n",
       "      <td>0.0000</td>\n",
       "      <td>0.0000</td>\n",
       "      <td>461.4672</td>\n",
       "      <td>115.3668</td>\n",
       "      <td>547.9923</td>\n",
       "      <td>0.0000</td>\n",
       "      <td>115.3668</td>\n",
       "      <td>...</td>\n",
       "      <td>28.8417</td>\n",
       "      <td>4960.7724</td>\n",
       "      <td>9863.8614</td>\n",
       "      <td>0</td>\n",
       "      <td>1.788185e+04</td>\n",
       "      <td>6.258649e+03</td>\n",
       "      <td>1.805490e+04</td>\n",
       "      <td>749.8842</td>\n",
       "      <td>0.0</td>\n",
       "      <td>0.0000</td>\n",
       "    </tr>\n",
       "    <tr>\n",
       "      <td>Algérie</td>\n",
       "      <td>25247.4059</td>\n",
       "      <td>0.0000</td>\n",
       "      <td>7450.0542</td>\n",
       "      <td>0.0000</td>\n",
       "      <td>0.0000</td>\n",
       "      <td>2897.2433</td>\n",
       "      <td>0.0000</td>\n",
       "      <td>2483.3514</td>\n",
       "      <td>0.0000</td>\n",
       "      <td>413.8919</td>\n",
       "      <td>...</td>\n",
       "      <td>3725.0271</td>\n",
       "      <td>35594.7034</td>\n",
       "      <td>101403.5155</td>\n",
       "      <td>0</td>\n",
       "      <td>8.070892e+04</td>\n",
       "      <td>0.000000e+00</td>\n",
       "      <td>8.153670e+04</td>\n",
       "      <td>6208.3785</td>\n",
       "      <td>0.0</td>\n",
       "      <td>5380.5947</td>\n",
       "    </tr>\n",
       "    <tr>\n",
       "      <td>Allemagne</td>\n",
       "      <td>62820.3916</td>\n",
       "      <td>826.5841</td>\n",
       "      <td>0.0000</td>\n",
       "      <td>1653.1682</td>\n",
       "      <td>0.0000</td>\n",
       "      <td>75219.1531</td>\n",
       "      <td>28930.4435</td>\n",
       "      <td>22317.7707</td>\n",
       "      <td>0.0000</td>\n",
       "      <td>11572.1774</td>\n",
       "      <td>...</td>\n",
       "      <td>8265.8410</td>\n",
       "      <td>47941.8778</td>\n",
       "      <td>23144.3548</td>\n",
       "      <td>0</td>\n",
       "      <td>4.413959e+05</td>\n",
       "      <td>1.148125e+06</td>\n",
       "      <td>6.579609e+05</td>\n",
       "      <td>100843.2602</td>\n",
       "      <td>0.0</td>\n",
       "      <td>10745.5933</td>\n",
       "    </tr>\n",
       "    <tr>\n",
       "      <td>...</td>\n",
       "      <td>...</td>\n",
       "      <td>...</td>\n",
       "      <td>...</td>\n",
       "      <td>...</td>\n",
       "      <td>...</td>\n",
       "      <td>...</td>\n",
       "      <td>...</td>\n",
       "      <td>...</td>\n",
       "      <td>...</td>\n",
       "      <td>...</td>\n",
       "      <td>...</td>\n",
       "      <td>...</td>\n",
       "      <td>...</td>\n",
       "      <td>...</td>\n",
       "      <td>...</td>\n",
       "      <td>...</td>\n",
       "      <td>...</td>\n",
       "      <td>...</td>\n",
       "      <td>...</td>\n",
       "      <td>...</td>\n",
       "      <td>...</td>\n",
       "    </tr>\n",
       "    <tr>\n",
       "      <td>Émirats arabes unis</td>\n",
       "      <td>11194.8960</td>\n",
       "      <td>94.8720</td>\n",
       "      <td>1233.3360</td>\n",
       "      <td>379.4880</td>\n",
       "      <td>0.0000</td>\n",
       "      <td>13376.9520</td>\n",
       "      <td>0.0000</td>\n",
       "      <td>3130.7760</td>\n",
       "      <td>474.3600</td>\n",
       "      <td>284.6160</td>\n",
       "      <td>...</td>\n",
       "      <td>1707.6960</td>\n",
       "      <td>3130.7760</td>\n",
       "      <td>30074.4240</td>\n",
       "      <td>0</td>\n",
       "      <td>3.083340e+04</td>\n",
       "      <td>0.000000e+00</td>\n",
       "      <td>1.404106e+05</td>\n",
       "      <td>9297.4560</td>\n",
       "      <td>0.0</td>\n",
       "      <td>8253.8640</td>\n",
       "    </tr>\n",
       "    <tr>\n",
       "      <td>Équateur</td>\n",
       "      <td>20813.8464</td>\n",
       "      <td>335.7072</td>\n",
       "      <td>2685.6576</td>\n",
       "      <td>335.7072</td>\n",
       "      <td>167.8536</td>\n",
       "      <td>12924.7272</td>\n",
       "      <td>16785.3600</td>\n",
       "      <td>4699.9008</td>\n",
       "      <td>10910.4840</td>\n",
       "      <td>0.0000</td>\n",
       "      <td>...</td>\n",
       "      <td>167.8536</td>\n",
       "      <td>1846.3896</td>\n",
       "      <td>1342.8288</td>\n",
       "      <td>0</td>\n",
       "      <td>8.107329e+04</td>\n",
       "      <td>5.874876e+04</td>\n",
       "      <td>1.032300e+05</td>\n",
       "      <td>503.5608</td>\n",
       "      <td>0.0</td>\n",
       "      <td>1174.9752</td>\n",
       "    </tr>\n",
       "    <tr>\n",
       "      <td>États-Unis d'Amérique</td>\n",
       "      <td>65016.9520</td>\n",
       "      <td>0.0000</td>\n",
       "      <td>0.0000</td>\n",
       "      <td>16254.2380</td>\n",
       "      <td>3250.8476</td>\n",
       "      <td>802959.3572</td>\n",
       "      <td>224308.4844</td>\n",
       "      <td>74769.4948</td>\n",
       "      <td>6501.6952</td>\n",
       "      <td>16254.2380</td>\n",
       "      <td>...</td>\n",
       "      <td>35759.3236</td>\n",
       "      <td>230810.1796</td>\n",
       "      <td>61766.1044</td>\n",
       "      <td>0</td>\n",
       "      <td>4.089566e+06</td>\n",
       "      <td>2.616932e+06</td>\n",
       "      <td>6.478939e+06</td>\n",
       "      <td>130033.9040</td>\n",
       "      <td>0.0</td>\n",
       "      <td>35759.3236</td>\n",
       "    </tr>\n",
       "    <tr>\n",
       "      <td>Éthiopie</td>\n",
       "      <td>51071.9616</td>\n",
       "      <td>0.0000</td>\n",
       "      <td>0.0000</td>\n",
       "      <td>0.0000</td>\n",
       "      <td>0.0000</td>\n",
       "      <td>55327.9584</td>\n",
       "      <td>0.0000</td>\n",
       "      <td>9575.9928</td>\n",
       "      <td>0.0000</td>\n",
       "      <td>0.0000</td>\n",
       "      <td>...</td>\n",
       "      <td>2127.9984</td>\n",
       "      <td>0.0000</td>\n",
       "      <td>25535.9808</td>\n",
       "      <td>0</td>\n",
       "      <td>1.510879e+05</td>\n",
       "      <td>1.063999e+03</td>\n",
       "      <td>4.255997e+03</td>\n",
       "      <td>53199.9600</td>\n",
       "      <td>0.0</td>\n",
       "      <td>10639.9920</td>\n",
       "    </tr>\n",
       "    <tr>\n",
       "      <td>Îles Salomon</td>\n",
       "      <td>165.3704</td>\n",
       "      <td>0.0000</td>\n",
       "      <td>6.3604</td>\n",
       "      <td>0.0000</td>\n",
       "      <td>12.7208</td>\n",
       "      <td>63.6040</td>\n",
       "      <td>0.0000</td>\n",
       "      <td>6.3604</td>\n",
       "      <td>0.0000</td>\n",
       "      <td>0.0000</td>\n",
       "      <td>...</td>\n",
       "      <td>31.8020</td>\n",
       "      <td>0.0000</td>\n",
       "      <td>19.0812</td>\n",
       "      <td>0</td>\n",
       "      <td>8.332124e+02</td>\n",
       "      <td>8.777352e+02</td>\n",
       "      <td>9.604204e+02</td>\n",
       "      <td>0.0000</td>\n",
       "      <td>0.0</td>\n",
       "      <td>95.4060</td>\n",
       "    </tr>\n",
       "  </tbody>\n",
       "</table>\n",
       "<p>169 rows × 97 columns</p>\n",
       "</div>"
      ],
      "text/plain": [
       "Produit                Abats Comestible  Agrumes, Autres  \\\n",
       "Zone                                                       \n",
       "Afghanistan                  23229.5104         725.9222   \n",
       "Afrique du Sud              154496.4496           0.0000   \n",
       "Albanie                       7643.0505           0.0000   \n",
       "Algérie                      25247.4059           0.0000   \n",
       "Allemagne                    62820.3916         826.5841   \n",
       "...                                 ...              ...   \n",
       "Émirats arabes unis          11194.8960          94.8720   \n",
       "Équateur                     20813.8464         335.7072   \n",
       "États-Unis d'Amérique        65016.9520           0.0000   \n",
       "Éthiopie                     51071.9616           0.0000   \n",
       "Îles Salomon                   165.3704           0.0000   \n",
       "\n",
       "Produit                Aliments pour enfants      Ananas  \\\n",
       "Zone                                                       \n",
       "Afghanistan                        1451.8444      0.0000   \n",
       "Afrique du Sud                        0.0000      0.0000   \n",
       "Albanie                             115.3668      0.0000   \n",
       "Algérie                            7450.0542      0.0000   \n",
       "Allemagne                             0.0000   1653.1682   \n",
       "...                                      ...         ...   \n",
       "Émirats arabes unis                1233.3360    379.4880   \n",
       "Équateur                           2685.6576    335.7072   \n",
       "États-Unis d'Amérique                 0.0000  16254.2380   \n",
       "Éthiopie                              0.0000      0.0000   \n",
       "Îles Salomon                          6.3604      0.0000   \n",
       "\n",
       "Produit                Animaux Aquatiques Autre  Arachides Decortiquees  \\\n",
       "Zone                                                                      \n",
       "Afghanistan                              0.0000                725.9222   \n",
       "Afrique du Sud                           0.0000              34775.9536   \n",
       "Albanie                                  0.0000                461.4672   \n",
       "Algérie                                  0.0000               2897.2433   \n",
       "Allemagne                                0.0000              75219.1531   \n",
       "...                                         ...                     ...   \n",
       "Émirats arabes unis                      0.0000              13376.9520   \n",
       "Équateur                               167.8536              12924.7272   \n",
       "États-Unis d'Amérique                 3250.8476             802959.3572   \n",
       "Éthiopie                                 0.0000              55327.9584   \n",
       "Îles Salomon                            12.7208                 63.6040   \n",
       "\n",
       "Produit                     Avoine     Bananes  Bananes plantains  \\\n",
       "Zone                                                                \n",
       "Afghanistan                 0.0000   2540.7277             0.0000   \n",
       "Afrique du Sud          11401.9520  10831.8544             0.0000   \n",
       "Albanie                   115.3668    547.9923             0.0000   \n",
       "Algérie                     0.0000   2483.3514             0.0000   \n",
       "Allemagne               28930.4435  22317.7707             0.0000   \n",
       "...                            ...         ...                ...   \n",
       "Émirats arabes unis         0.0000   3130.7760           474.3600   \n",
       "Équateur                16785.3600   4699.9008         10910.4840   \n",
       "États-Unis d'Amérique  224308.4844  74769.4948          6501.6952   \n",
       "Éthiopie                    0.0000   9575.9928             0.0000   \n",
       "Îles Salomon                0.0000      6.3604             0.0000   \n",
       "\n",
       "Produit                Beurre, Ghee  ...         Thé      Tomates  \\\n",
       "Zone                                 ...                            \n",
       "Afghanistan               1088.8833  ...  21414.7049       0.0000   \n",
       "Afrique du Sud             570.0976  ...   6271.0736   15392.6352   \n",
       "Albanie                    115.3668  ...     28.8417    4960.7724   \n",
       "Algérie                    413.8919  ...   3725.0271   35594.7034   \n",
       "Allemagne                11572.1774  ...   8265.8410   47941.8778   \n",
       "...                             ...  ...         ...          ...   \n",
       "Émirats arabes unis        284.6160  ...   1707.6960    3130.7760   \n",
       "Équateur                     0.0000  ...    167.8536    1846.3896   \n",
       "États-Unis d'Amérique    16254.2380  ...  35759.3236  230810.1796   \n",
       "Éthiopie                     0.0000  ...   2127.9984       0.0000   \n",
       "Îles Salomon                 0.0000  ...     31.8020       0.0000   \n",
       "\n",
       "Produit                Viande d'Ovins/Caprins  Viande de Anim Aquatiq  \\\n",
       "Zone                                                                    \n",
       "Afghanistan                        58799.6982                       0   \n",
       "Afrique du Sud                     57009.7600                       0   \n",
       "Albanie                             9863.8614                       0   \n",
       "Algérie                           101403.5155                       0   \n",
       "Allemagne                          23144.3548                       0   \n",
       "...                                       ...                     ...   \n",
       "Émirats arabes unis                30074.4240                       0   \n",
       "Équateur                            1342.8288                       0   \n",
       "États-Unis d'Amérique              61766.1044                       0   \n",
       "Éthiopie                           25535.9808                       0   \n",
       "Îles Salomon                          19.0812                       0   \n",
       "\n",
       "Produit                Viande de Bovins  Viande de Suides  \\\n",
       "Zone                                                        \n",
       "Afghanistan                3.956276e+04      0.000000e+00   \n",
       "Afrique du Sud             3.785448e+05      6.385093e+04   \n",
       "Albanie                    1.788185e+04      6.258649e+03   \n",
       "Algérie                    8.070892e+04      0.000000e+00   \n",
       "Allemagne                  4.413959e+05      1.148125e+06   \n",
       "...                                 ...               ...   \n",
       "Émirats arabes unis        3.083340e+04      0.000000e+00   \n",
       "Équateur                   8.107329e+04      5.874876e+04   \n",
       "États-Unis d'Amérique      4.089566e+06      2.616932e+06   \n",
       "Éthiopie                   1.510879e+05      1.063999e+03   \n",
       "Îles Salomon               8.332124e+02      8.777352e+02   \n",
       "\n",
       "Produit                Viande de Volailles  Viande, Autre  Vin  Épices, Autres  \n",
       "Zone                                                                            \n",
       "Afghanistan                   1.959990e+04      5081.4554  0.0       6533.2998  \n",
       "Afrique du Sud                8.044077e+05     19383.3184  0.0       3420.5856  \n",
       "Albanie                       1.805490e+04       749.8842  0.0          0.0000  \n",
       "Algérie                       8.153670e+04      6208.3785  0.0       5380.5947  \n",
       "Allemagne                     6.579609e+05    100843.2602  0.0      10745.5933  \n",
       "...                                    ...            ...  ...             ...  \n",
       "Émirats arabes unis           1.404106e+05      9297.4560  0.0       8253.8640  \n",
       "Équateur                      1.032300e+05       503.5608  0.0       1174.9752  \n",
       "États-Unis d'Amérique         6.478939e+06    130033.9040  0.0      35759.3236  \n",
       "Éthiopie                      4.255997e+03     53199.9600  0.0      10639.9920  \n",
       "Îles Salomon                  9.604204e+02         0.0000  0.0         95.4060  \n",
       "\n",
       "[169 rows x 97 columns]"
      ]
     },
     "execution_count": 25,
     "metadata": {},
     "output_type": "execute_result"
    }
   ],
   "source": [
    "filt = (bilanAlimentaire['Code Élément'] == nouveauCodeDispoProteineKg) & (bilanAlimentaire['Année'] == 2017)\n",
    "pd.pivot_table(bilanAlimentaire[filt], index='Zone', columns = 'Produit', values='Valeur', fill_value=0)"
   ]
  },
  {
   "cell_type": "markdown",
   "metadata": {},
   "source": [
    "Nous allons vérifier la véracité de nos calculs, en cherchant la valeur de la *disponibilité en protéines* en Kg/jour des Abats Comestible pour l'Allemagne."
   ]
  },
  {
   "cell_type": "code",
   "execution_count": 26,
   "metadata": {},
   "outputs": [
    {
     "data": {
      "text/plain": [
       "\"La disponibilté alimentaire de l'Allemagne par jour pour les abats comestible est de 62820.3916 Kg/Jour\""
      ]
     },
     "execution_count": 26,
     "metadata": {},
     "output_type": "execute_result"
    }
   ],
   "source": [
    "VerificationProduit = OCR3.retourneValeurs(bilanAlimentaire, 2017, {'Zone': 'Allemagne', 'Produit' : 'Abats Comestible'}, 'Code Élément', [codeElementDispoProteineKg], 'Valeur')\n",
    "f\"La disponibilté alimentaire de l'Allemagne par jour pour les abats comestible est de {VerificationProduit[0] * VerificationPopulation[0]} Kg/Jour\""
   ]
  },
  {
   "cell_type": "markdown",
   "metadata": {},
   "source": [
    "Nous constatons que les deux valeurs sont identiques"
   ]
  },
  {
   "cell_type": "markdown",
   "metadata": {},
   "source": [
    "### Question 4 : A partir de ces dernières informations, et à partir du poids de la disponibilité alimentaire (pour chaque pays et chaque produit), calculez pour chaque produit le ratio \"énergie/poids\", que vous donnerez en kcal/kg"
   ]
  },
  {
   "cell_type": "markdown",
   "metadata": {},
   "source": [
    "#### Préparation :"
   ]
  },
  {
   "cell_type": "markdown",
   "metadata": {},
   "source": [
    "__Ratio \"énergie/poids\"__\n",
    "\n",
    "Ce ration peut être calculé par la formule suivante :\n",
    "Ratio = Disponibilité Alimentaire * 365 / Nourriture\n",
    "\n",
    "Nous allons créer, *Data Frame* modifié __bilanAlimentaire__, une nouvelle ligne pour chaque produit et chaque pays contenant le ratio \"énergie/poids\" en kcal/kg. Elles auront le code 9684. Le 9 des milliers etant pour les nouvelles valeurs calculées\n",
    "\n",
    "__Ratio \"protéine/poids\"__\n",
    "\n",
    "Ce ration peut être calculé par la formule suivante :\n",
    "Ratio = Disponibilite en proteines * 365 / Nourriture\n",
    "\n",
    "Nous allons créer, *Data Frame* modifié __bilanAlimentaire__, une nouvelle ligne pour chaque produit et chaque pays contenant le ratio \"protéine/poids\" sans unité. Elles auront le code 9694. Le 9 des milliers etant pour les nouvelles valeurs calculées\n",
    "\n",
    "\n",
    "Nous allons creer les variables qui serviront a rajouter cette nouvelle ligne"
   ]
  },
  {
   "cell_type": "code",
   "execution_count": 27,
   "metadata": {},
   "outputs": [],
   "source": [
    "codeElementDispoAlimentaireKCalTotal = 9664\n",
    "codeElementDispoProteineKgTotal = 9674\n",
    "codeElementNourriture = 5142\n",
    "\n",
    "codeRatioEnergie = (codeElementDispoAlimentaireKCalTotal, codeElementNourriture)\n",
    "codeRatioProteine = (codeElementDispoProteineKgTotal, codeElementNourriture)\n",
    "\n",
    "nouveauElementRatioEnergie = 'Ratio \"énergie/poids\" (Kcal/Kg)'\n",
    "nouveauUniteRatioEnergie = 'Kcal/Kg'\n",
    "nouveauCodeRatioEnergie = 9684\n",
    "\n",
    "nouveauElementRatioProteine = 'Ratio \"protéine/poids\" (Kg/Kg)'\n",
    "nouveauUniteRatioProteine = 'Kg/Kg'\n",
    "nouveauCodeRatioProteine = 9694\n",
    "\n",
    "multiplicateurRatio = 365 / 1000000\n",
    "\n",
    "colonne = ['Zone', 'Valeur', 'Produit', 'Année']\n",
    "avec = ['Zone', 'Année', 'Produit']"
   ]
  },
  {
   "cell_type": "markdown",
   "metadata": {},
   "source": [
    "#### Calcul du ratio \"energie/poids\" :"
   ]
  },
  {
   "cell_type": "code",
   "execution_count": 28,
   "metadata": {},
   "outputs": [],
   "source": [
    "bilanAlimentaire = OCR3.ajoutLigne(bilanAlimentaire, 'Code Élément', codeRatioEnergie, nouveauElementRatioEnergie, nouveauCodeRatioEnergie, nouveauUniteRatioEnergie, colonne, multiplicateurRatio, avec, 'left', 'division')"
   ]
  },
  {
   "cell_type": "markdown",
   "metadata": {},
   "source": [
    "Nous allons faire un pivot table pour un affichage plus confortable. L'unité est des KCal/Kg."
   ]
  },
  {
   "cell_type": "code",
   "execution_count": 29,
   "metadata": {},
   "outputs": [
    {
     "data": {
      "text/html": [
       "<div>\n",
       "<style scoped>\n",
       "    .dataframe tbody tr th:only-of-type {\n",
       "        vertical-align: middle;\n",
       "    }\n",
       "\n",
       "    .dataframe tbody tr th {\n",
       "        vertical-align: top;\n",
       "    }\n",
       "\n",
       "    .dataframe thead th {\n",
       "        text-align: right;\n",
       "    }\n",
       "</style>\n",
       "<table border=\"1\" class=\"dataframe\">\n",
       "  <thead>\n",
       "    <tr style=\"text-align: right;\">\n",
       "      <th>Produit</th>\n",
       "      <th>Abats Comestible</th>\n",
       "      <th>Agrumes, Autres</th>\n",
       "      <th>Aliments pour enfants</th>\n",
       "      <th>Ananas</th>\n",
       "      <th>Animaux Aquatiques Autre</th>\n",
       "      <th>Arachides Decortiquees</th>\n",
       "      <th>Avoine</th>\n",
       "      <th>Bananes</th>\n",
       "      <th>Bananes plantains</th>\n",
       "      <th>Beurre, Ghee</th>\n",
       "      <th>...</th>\n",
       "      <th>Thé</th>\n",
       "      <th>Tomates</th>\n",
       "      <th>Viande d'Ovins/Caprins</th>\n",
       "      <th>Viande de Anim Aquatiq</th>\n",
       "      <th>Viande de Bovins</th>\n",
       "      <th>Viande de Suides</th>\n",
       "      <th>Viande de Volailles</th>\n",
       "      <th>Viande, Autre</th>\n",
       "      <th>Vin</th>\n",
       "      <th>Épices, Autres</th>\n",
       "    </tr>\n",
       "    <tr>\n",
       "      <th>Zone</th>\n",
       "      <th></th>\n",
       "      <th></th>\n",
       "      <th></th>\n",
       "      <th></th>\n",
       "      <th></th>\n",
       "      <th></th>\n",
       "      <th></th>\n",
       "      <th></th>\n",
       "      <th></th>\n",
       "      <th></th>\n",
       "      <th></th>\n",
       "      <th></th>\n",
       "      <th></th>\n",
       "      <th></th>\n",
       "      <th></th>\n",
       "      <th></th>\n",
       "      <th></th>\n",
       "      <th></th>\n",
       "      <th></th>\n",
       "      <th></th>\n",
       "      <th></th>\n",
       "    </tr>\n",
       "  </thead>\n",
       "  <tbody>\n",
       "    <tr>\n",
       "      <td>Afghanistan</td>\n",
       "      <td>1249.818882</td>\n",
       "      <td>276.001670</td>\n",
       "      <td>3312.020037</td>\n",
       "      <td>0.000000</td>\n",
       "      <td>0.0</td>\n",
       "      <td>0.000000</td>\n",
       "      <td>0.000000</td>\n",
       "      <td>597.657751</td>\n",
       "      <td>0.000000</td>\n",
       "      <td>7877.236846</td>\n",
       "      <td>...</td>\n",
       "      <td>335.394434</td>\n",
       "      <td>0.000000</td>\n",
       "      <td>2281.126383</td>\n",
       "      <td>0</td>\n",
       "      <td>2091.802129</td>\n",
       "      <td>0.000000</td>\n",
       "      <td>1204.370923</td>\n",
       "      <td>1204.370923</td>\n",
       "      <td>0.000000</td>\n",
       "      <td>3532.821373</td>\n",
       "    </tr>\n",
       "    <tr>\n",
       "      <td>Afrique du Sud</td>\n",
       "      <td>1254.416882</td>\n",
       "      <td>0.000000</td>\n",
       "      <td>0.000000</td>\n",
       "      <td>612.016541</td>\n",
       "      <td>0.0</td>\n",
       "      <td>3950.992861</td>\n",
       "      <td>2229.488829</td>\n",
       "      <td>616.549997</td>\n",
       "      <td>0.000000</td>\n",
       "      <td>7344.198494</td>\n",
       "      <td>...</td>\n",
       "      <td>0.000000</td>\n",
       "      <td>189.168749</td>\n",
       "      <td>2283.866605</td>\n",
       "      <td>0</td>\n",
       "      <td>2246.003561</td>\n",
       "      <td>3743.799930</td>\n",
       "      <td>1462.223304</td>\n",
       "      <td>1067.105764</td>\n",
       "      <td>658.846303</td>\n",
       "      <td>2312.062489</td>\n",
       "    </tr>\n",
       "    <tr>\n",
       "      <td>Albanie</td>\n",
       "      <td>1114.646876</td>\n",
       "      <td>0.000000</td>\n",
       "      <td>0.000000</td>\n",
       "      <td>0.000000</td>\n",
       "      <td>0.0</td>\n",
       "      <td>3158.166150</td>\n",
       "      <td>0.000000</td>\n",
       "      <td>601.555457</td>\n",
       "      <td>0.000000</td>\n",
       "      <td>7579.598760</td>\n",
       "      <td>...</td>\n",
       "      <td>0.000000</td>\n",
       "      <td>183.729792</td>\n",
       "      <td>1943.486862</td>\n",
       "      <td>0</td>\n",
       "      <td>1629.212696</td>\n",
       "      <td>3208.295771</td>\n",
       "      <td>1903.859027</td>\n",
       "      <td>0.000000</td>\n",
       "      <td>689.714447</td>\n",
       "      <td>0.000000</td>\n",
       "    </tr>\n",
       "    <tr>\n",
       "      <td>Algérie</td>\n",
       "      <td>1060.144165</td>\n",
       "      <td>0.000000</td>\n",
       "      <td>3357.123189</td>\n",
       "      <td>0.000000</td>\n",
       "      <td>0.0</td>\n",
       "      <td>7553.527175</td>\n",
       "      <td>0.000000</td>\n",
       "      <td>526.990268</td>\n",
       "      <td>0.000000</td>\n",
       "      <td>11749.931161</td>\n",
       "      <td>...</td>\n",
       "      <td>0.000000</td>\n",
       "      <td>215.473041</td>\n",
       "      <td>2017.909787</td>\n",
       "      <td>0</td>\n",
       "      <td>1809.699219</td>\n",
       "      <td>0.000000</td>\n",
       "      <td>1258.921196</td>\n",
       "      <td>1007.136957</td>\n",
       "      <td>0.000000</td>\n",
       "      <td>3021.410870</td>\n",
       "    </tr>\n",
       "    <tr>\n",
       "      <td>Allemagne</td>\n",
       "      <td>1300.444813</td>\n",
       "      <td>1005.677322</td>\n",
       "      <td>0.000000</td>\n",
       "      <td>571.949188</td>\n",
       "      <td>0.0</td>\n",
       "      <td>5387.557080</td>\n",
       "      <td>2688.444325</td>\n",
       "      <td>620.545262</td>\n",
       "      <td>0.000000</td>\n",
       "      <td>7208.837438</td>\n",
       "      <td>...</td>\n",
       "      <td>0.000000</td>\n",
       "      <td>311.569566</td>\n",
       "      <td>2218.405857</td>\n",
       "      <td>0</td>\n",
       "      <td>1077.511416</td>\n",
       "      <td>1693.010743</td>\n",
       "      <td>1331.319264</td>\n",
       "      <td>1028.533624</td>\n",
       "      <td>684.492418</td>\n",
       "      <td>3549.449371</td>\n",
       "    </tr>\n",
       "    <tr>\n",
       "      <td>...</td>\n",
       "      <td>...</td>\n",
       "      <td>...</td>\n",
       "      <td>...</td>\n",
       "      <td>...</td>\n",
       "      <td>...</td>\n",
       "      <td>...</td>\n",
       "      <td>...</td>\n",
       "      <td>...</td>\n",
       "      <td>...</td>\n",
       "      <td>...</td>\n",
       "      <td>...</td>\n",
       "      <td>...</td>\n",
       "      <td>...</td>\n",
       "      <td>...</td>\n",
       "      <td>...</td>\n",
       "      <td>...</td>\n",
       "      <td>...</td>\n",
       "      <td>...</td>\n",
       "      <td>...</td>\n",
       "      <td>...</td>\n",
       "      <td>...</td>\n",
       "    </tr>\n",
       "    <tr>\n",
       "      <td>Émirats arabes unis</td>\n",
       "      <td>1108.104960</td>\n",
       "      <td>0.000000</td>\n",
       "      <td>3462.828000</td>\n",
       "      <td>372.919938</td>\n",
       "      <td>0.0</td>\n",
       "      <td>5649.877263</td>\n",
       "      <td>0.000000</td>\n",
       "      <td>598.513481</td>\n",
       "      <td>824.482857</td>\n",
       "      <td>10734.766800</td>\n",
       "      <td>...</td>\n",
       "      <td>577.138000</td>\n",
       "      <td>302.997450</td>\n",
       "      <td>1991.126100</td>\n",
       "      <td>0</td>\n",
       "      <td>2028.227829</td>\n",
       "      <td>0.000000</td>\n",
       "      <td>1235.523583</td>\n",
       "      <td>1731.414000</td>\n",
       "      <td>0.000000</td>\n",
       "      <td>4016.880480</td>\n",
       "    </tr>\n",
       "    <tr>\n",
       "      <td>Équateur</td>\n",
       "      <td>1021.109400</td>\n",
       "      <td>322.455600</td>\n",
       "      <td>3500.946514</td>\n",
       "      <td>282.768757</td>\n",
       "      <td>0.0</td>\n",
       "      <td>3630.611200</td>\n",
       "      <td>2297.496150</td>\n",
       "      <td>606.885775</td>\n",
       "      <td>736.064727</td>\n",
       "      <td>6126.656400</td>\n",
       "      <td>...</td>\n",
       "      <td>0.000000</td>\n",
       "      <td>224.145966</td>\n",
       "      <td>2042.218800</td>\n",
       "      <td>0</td>\n",
       "      <td>2167.449198</td>\n",
       "      <td>1230.926400</td>\n",
       "      <td>1569.482967</td>\n",
       "      <td>0.000000</td>\n",
       "      <td>765.832050</td>\n",
       "      <td>4084.437600</td>\n",
       "    </tr>\n",
       "    <tr>\n",
       "      <td>États-Unis d'Amérique</td>\n",
       "      <td>926.999511</td>\n",
       "      <td>0.000000</td>\n",
       "      <td>0.000000</td>\n",
       "      <td>494.694200</td>\n",
       "      <td>0.0</td>\n",
       "      <td>4218.183423</td>\n",
       "      <td>1781.935456</td>\n",
       "      <td>609.429571</td>\n",
       "      <td>655.557665</td>\n",
       "      <td>7201.187925</td>\n",
       "      <td>...</td>\n",
       "      <td>0.000000</td>\n",
       "      <td>170.221792</td>\n",
       "      <td>2144.384411</td>\n",
       "      <td>0</td>\n",
       "      <td>1003.973921</td>\n",
       "      <td>1617.095981</td>\n",
       "      <td>1435.671287</td>\n",
       "      <td>898.908617</td>\n",
       "      <td>684.290296</td>\n",
       "      <td>3541.968281</td>\n",
       "    </tr>\n",
       "    <tr>\n",
       "      <td>Éthiopie</td>\n",
       "      <td>1088.858994</td>\n",
       "      <td>0.000000</td>\n",
       "      <td>0.000000</td>\n",
       "      <td>0.000000</td>\n",
       "      <td>0.0</td>\n",
       "      <td>4275.519721</td>\n",
       "      <td>0.000000</td>\n",
       "      <td>626.386626</td>\n",
       "      <td>0.000000</td>\n",
       "      <td>58253.956200</td>\n",
       "      <td>...</td>\n",
       "      <td>0.000000</td>\n",
       "      <td>0.000000</td>\n",
       "      <td>2251.360626</td>\n",
       "      <td>0</td>\n",
       "      <td>2278.376954</td>\n",
       "      <td>0.000000</td>\n",
       "      <td>0.000000</td>\n",
       "      <td>1339.171407</td>\n",
       "      <td>0.000000</td>\n",
       "      <td>3426.703306</td>\n",
       "    </tr>\n",
       "    <tr>\n",
       "      <td>Îles Salomon</td>\n",
       "      <td>0.000000</td>\n",
       "      <td>0.000000</td>\n",
       "      <td>0.000000</td>\n",
       "      <td>0.000000</td>\n",
       "      <td>0.0</td>\n",
       "      <td>0.000000</td>\n",
       "      <td>0.000000</td>\n",
       "      <td>0.000000</td>\n",
       "      <td>0.000000</td>\n",
       "      <td>0.000000</td>\n",
       "      <td>...</td>\n",
       "      <td>0.000000</td>\n",
       "      <td>0.000000</td>\n",
       "      <td>0.000000</td>\n",
       "      <td>0</td>\n",
       "      <td>1741.159500</td>\n",
       "      <td>3404.934133</td>\n",
       "      <td>1392.927600</td>\n",
       "      <td>0.000000</td>\n",
       "      <td>0.000000</td>\n",
       "      <td>0.000000</td>\n",
       "    </tr>\n",
       "  </tbody>\n",
       "</table>\n",
       "<p>169 rows × 97 columns</p>\n",
       "</div>"
      ],
      "text/plain": [
       "Produit                Abats Comestible  Agrumes, Autres  \\\n",
       "Zone                                                       \n",
       "Afghanistan                 1249.818882       276.001670   \n",
       "Afrique du Sud              1254.416882         0.000000   \n",
       "Albanie                     1114.646876         0.000000   \n",
       "Algérie                     1060.144165         0.000000   \n",
       "Allemagne                   1300.444813      1005.677322   \n",
       "...                                 ...              ...   \n",
       "Émirats arabes unis         1108.104960         0.000000   \n",
       "Équateur                    1021.109400       322.455600   \n",
       "États-Unis d'Amérique        926.999511         0.000000   \n",
       "Éthiopie                    1088.858994         0.000000   \n",
       "Îles Salomon                   0.000000         0.000000   \n",
       "\n",
       "Produit                Aliments pour enfants      Ananas  \\\n",
       "Zone                                                       \n",
       "Afghanistan                      3312.020037    0.000000   \n",
       "Afrique du Sud                      0.000000  612.016541   \n",
       "Albanie                             0.000000    0.000000   \n",
       "Algérie                          3357.123189    0.000000   \n",
       "Allemagne                           0.000000  571.949188   \n",
       "...                                      ...         ...   \n",
       "Émirats arabes unis              3462.828000  372.919938   \n",
       "Équateur                         3500.946514  282.768757   \n",
       "États-Unis d'Amérique               0.000000  494.694200   \n",
       "Éthiopie                            0.000000    0.000000   \n",
       "Îles Salomon                        0.000000    0.000000   \n",
       "\n",
       "Produit                Animaux Aquatiques Autre  Arachides Decortiquees  \\\n",
       "Zone                                                                      \n",
       "Afghanistan                                 0.0                0.000000   \n",
       "Afrique du Sud                              0.0             3950.992861   \n",
       "Albanie                                     0.0             3158.166150   \n",
       "Algérie                                     0.0             7553.527175   \n",
       "Allemagne                                   0.0             5387.557080   \n",
       "...                                         ...                     ...   \n",
       "Émirats arabes unis                         0.0             5649.877263   \n",
       "Équateur                                    0.0             3630.611200   \n",
       "États-Unis d'Amérique                       0.0             4218.183423   \n",
       "Éthiopie                                    0.0             4275.519721   \n",
       "Îles Salomon                                0.0                0.000000   \n",
       "\n",
       "Produit                     Avoine     Bananes  Bananes plantains  \\\n",
       "Zone                                                                \n",
       "Afghanistan               0.000000  597.657751           0.000000   \n",
       "Afrique du Sud         2229.488829  616.549997           0.000000   \n",
       "Albanie                   0.000000  601.555457           0.000000   \n",
       "Algérie                   0.000000  526.990268           0.000000   \n",
       "Allemagne              2688.444325  620.545262           0.000000   \n",
       "...                            ...         ...                ...   \n",
       "Émirats arabes unis       0.000000  598.513481         824.482857   \n",
       "Équateur               2297.496150  606.885775         736.064727   \n",
       "États-Unis d'Amérique  1781.935456  609.429571         655.557665   \n",
       "Éthiopie                  0.000000  626.386626           0.000000   \n",
       "Îles Salomon              0.000000    0.000000           0.000000   \n",
       "\n",
       "Produit                Beurre, Ghee  ...         Thé     Tomates  \\\n",
       "Zone                                 ...                           \n",
       "Afghanistan             7877.236846  ...  335.394434    0.000000   \n",
       "Afrique du Sud          7344.198494  ...    0.000000  189.168749   \n",
       "Albanie                 7579.598760  ...    0.000000  183.729792   \n",
       "Algérie                11749.931161  ...    0.000000  215.473041   \n",
       "Allemagne               7208.837438  ...    0.000000  311.569566   \n",
       "...                             ...  ...         ...         ...   \n",
       "Émirats arabes unis    10734.766800  ...  577.138000  302.997450   \n",
       "Équateur                6126.656400  ...    0.000000  224.145966   \n",
       "États-Unis d'Amérique   7201.187925  ...    0.000000  170.221792   \n",
       "Éthiopie               58253.956200  ...    0.000000    0.000000   \n",
       "Îles Salomon               0.000000  ...    0.000000    0.000000   \n",
       "\n",
       "Produit                Viande d'Ovins/Caprins  Viande de Anim Aquatiq  \\\n",
       "Zone                                                                    \n",
       "Afghanistan                       2281.126383                       0   \n",
       "Afrique du Sud                    2283.866605                       0   \n",
       "Albanie                           1943.486862                       0   \n",
       "Algérie                           2017.909787                       0   \n",
       "Allemagne                         2218.405857                       0   \n",
       "...                                       ...                     ...   \n",
       "Émirats arabes unis               1991.126100                       0   \n",
       "Équateur                          2042.218800                       0   \n",
       "États-Unis d'Amérique             2144.384411                       0   \n",
       "Éthiopie                          2251.360626                       0   \n",
       "Îles Salomon                         0.000000                       0   \n",
       "\n",
       "Produit                Viande de Bovins  Viande de Suides  \\\n",
       "Zone                                                        \n",
       "Afghanistan                 2091.802129          0.000000   \n",
       "Afrique du Sud              2246.003561       3743.799930   \n",
       "Albanie                     1629.212696       3208.295771   \n",
       "Algérie                     1809.699219          0.000000   \n",
       "Allemagne                   1077.511416       1693.010743   \n",
       "...                                 ...               ...   \n",
       "Émirats arabes unis         2028.227829          0.000000   \n",
       "Équateur                    2167.449198       1230.926400   \n",
       "États-Unis d'Amérique       1003.973921       1617.095981   \n",
       "Éthiopie                    2278.376954          0.000000   \n",
       "Îles Salomon                1741.159500       3404.934133   \n",
       "\n",
       "Produit                Viande de Volailles  Viande, Autre         Vin  \\\n",
       "Zone                                                                    \n",
       "Afghanistan                    1204.370923    1204.370923    0.000000   \n",
       "Afrique du Sud                 1462.223304    1067.105764  658.846303   \n",
       "Albanie                        1903.859027       0.000000  689.714447   \n",
       "Algérie                        1258.921196    1007.136957    0.000000   \n",
       "Allemagne                      1331.319264    1028.533624  684.492418   \n",
       "...                                    ...            ...         ...   \n",
       "Émirats arabes unis            1235.523583    1731.414000    0.000000   \n",
       "Équateur                       1569.482967       0.000000  765.832050   \n",
       "États-Unis d'Amérique          1435.671287     898.908617  684.290296   \n",
       "Éthiopie                          0.000000    1339.171407    0.000000   \n",
       "Îles Salomon                   1392.927600       0.000000    0.000000   \n",
       "\n",
       "Produit                Épices, Autres  \n",
       "Zone                                   \n",
       "Afghanistan               3532.821373  \n",
       "Afrique du Sud            2312.062489  \n",
       "Albanie                      0.000000  \n",
       "Algérie                   3021.410870  \n",
       "Allemagne                 3549.449371  \n",
       "...                               ...  \n",
       "Émirats arabes unis       4016.880480  \n",
       "Équateur                  4084.437600  \n",
       "États-Unis d'Amérique     3541.968281  \n",
       "Éthiopie                  3426.703306  \n",
       "Îles Salomon                 0.000000  \n",
       "\n",
       "[169 rows x 97 columns]"
      ]
     },
     "execution_count": 29,
     "metadata": {},
     "output_type": "execute_result"
    }
   ],
   "source": [
    "filt = (bilanAlimentaire['Code Élément'] == nouveauCodeRatioEnergie) & (bilanAlimentaire['Année'] == 2017)\n",
    "pd.pivot_table(bilanAlimentaire[filt], index='Zone', columns = 'Produit', values='Valeur', fill_value=0)"
   ]
  },
  {
   "cell_type": "markdown",
   "metadata": {},
   "source": [
    "En cherchant sur internet, la valeur calorifique d'un oeufs est de 1470 KCal/Kg. Nous allons calculer la moyenne que nous avons trouvée. Nous allons remplacer les valeurs nulles de notre pivot table par la valeur de 1470, pour ne pas fausser notre moyenne."
   ]
  },
  {
   "cell_type": "code",
   "execution_count": 30,
   "metadata": {},
   "outputs": [
    {
     "data": {
      "text/plain": [
       "'La moyenne du ratio calorifique est de 1354.2024809402674 KCal/Kg'"
      ]
     },
     "execution_count": 30,
     "metadata": {},
     "output_type": "execute_result"
    }
   ],
   "source": [
    "filt = (bilanAlimentaire['Code Élément'] == nouveauCodeRatioEnergie) & (bilanAlimentaire['Produit'] == 'Oeufs')\n",
    "bilanAlimentaire.loc[filt & (bilanAlimentaire['Valeur'] < 1), 'Valeur'] = 1470\n",
    "testUnitaire = bilanAlimentaire.loc[filt, 'Valeur']\n",
    "f\"La moyenne du ratio calorifique est de {testUnitaire.mean()} KCal/Kg\""
   ]
  },
  {
   "cell_type": "code",
   "execution_count": 31,
   "metadata": {},
   "outputs": [
    {
     "data": {
      "text/plain": [
       "<matplotlib.axes._subplots.AxesSubplot at 0x20f36a42d08>"
      ]
     },
     "execution_count": 31,
     "metadata": {},
     "output_type": "execute_result"
    },
    {
     "data": {
      "image/png": "[encoded data removed]",
      "text/plain": [
       "<Figure size 432x288 with 1 Axes>"
      ]
     },
     "metadata": {
      "needs_background": "light"
     },
     "output_type": "display_data"
    }
   ],
   "source": [
    "testUnitaire.hist()"
   ]
  },
  {
   "cell_type": "code",
   "execution_count": 32,
   "metadata": {},
   "outputs": [
    {
     "data": {
      "text/plain": [
       "count     340.000000\n",
       "mean     1354.202481\n",
       "std       162.536915\n",
       "min       704.450000\n",
       "25%      1286.254093\n",
       "50%      1391.200548\n",
       "75%      1431.216690\n",
       "max      2149.302500\n",
       "Name: Valeur, dtype: float64"
      ]
     },
     "execution_count": 32,
     "metadata": {},
     "output_type": "execute_result"
    }
   ],
   "source": [
    "testUnitaire.describe()"
   ]
  },
  {
   "cell_type": "markdown",
   "metadata": {},
   "source": [
    "Nous avons un ratio calorifique de 1354 KCal/Kg. Avec un écart-type de 162 et un interquartile de 144.962597, nous constatons que les valeurs sont autour de la valeur mediane, de 1391.2 KCal/Kg"
   ]
  },
  {
   "cell_type": "markdown",
   "metadata": {},
   "source": [
    "#### Calcul du ratio \"poids de protéines/poids total\" :"
   ]
  },
  {
   "cell_type": "code",
   "execution_count": 33,
   "metadata": {},
   "outputs": [],
   "source": [
    "bilanAlimentaire = OCR3.ajoutLigne(bilanAlimentaire, 'Code Élément', codeRatioProteine, nouveauElementRatioProteine, nouveauCodeRatioProteine, nouveauUniteRatioProteine, colonne, multiplicateurRatio, avec, 'left', 'division')"
   ]
  },
  {
   "cell_type": "markdown",
   "metadata": {},
   "source": [
    "Nous allons faire un pivot table pour un affichage plus confortable. C'est un ratio sans unité."
   ]
  },
  {
   "cell_type": "code",
   "execution_count": 34,
   "metadata": {},
   "outputs": [
    {
     "data": {
      "text/html": [
       "<div>\n",
       "<style scoped>\n",
       "    .dataframe tbody tr th:only-of-type {\n",
       "        vertical-align: middle;\n",
       "    }\n",
       "\n",
       "    .dataframe tbody tr th {\n",
       "        vertical-align: top;\n",
       "    }\n",
       "\n",
       "    .dataframe thead th {\n",
       "        text-align: right;\n",
       "    }\n",
       "</style>\n",
       "<table border=\"1\" class=\"dataframe\">\n",
       "  <thead>\n",
       "    <tr style=\"text-align: right;\">\n",
       "      <th>Produit</th>\n",
       "      <th>Abats Comestible</th>\n",
       "      <th>Agrumes, Autres</th>\n",
       "      <th>Aliments pour enfants</th>\n",
       "      <th>Ananas</th>\n",
       "      <th>Animaux Aquatiques Autre</th>\n",
       "      <th>Arachides Decortiquees</th>\n",
       "      <th>Avoine</th>\n",
       "      <th>Bananes</th>\n",
       "      <th>Bananes plantains</th>\n",
       "      <th>Beurre, Ghee</th>\n",
       "      <th>...</th>\n",
       "      <th>Thé</th>\n",
       "      <th>Tomates</th>\n",
       "      <th>Viande d'Ovins/Caprins</th>\n",
       "      <th>Viande de Anim Aquatiq</th>\n",
       "      <th>Viande de Bovins</th>\n",
       "      <th>Viande de Suides</th>\n",
       "      <th>Viande de Volailles</th>\n",
       "      <th>Viande, Autre</th>\n",
       "      <th>Vin</th>\n",
       "      <th>Épices, Autres</th>\n",
       "    </tr>\n",
       "    <tr>\n",
       "      <th>Zone</th>\n",
       "      <th></th>\n",
       "      <th></th>\n",
       "      <th></th>\n",
       "      <th></th>\n",
       "      <th></th>\n",
       "      <th></th>\n",
       "      <th></th>\n",
       "      <th></th>\n",
       "      <th></th>\n",
       "      <th></th>\n",
       "      <th></th>\n",
       "      <th></th>\n",
       "      <th></th>\n",
       "      <th></th>\n",
       "      <th></th>\n",
       "      <th></th>\n",
       "      <th></th>\n",
       "      <th></th>\n",
       "      <th></th>\n",
       "      <th></th>\n",
       "      <th></th>\n",
       "    </tr>\n",
       "  </thead>\n",
       "  <tbody>\n",
       "    <tr>\n",
       "      <td>Afghanistan</td>\n",
       "      <td>0.159977</td>\n",
       "      <td>0.005520</td>\n",
       "      <td>0.132481</td>\n",
       "      <td>0.000000</td>\n",
       "      <td>0.000000</td>\n",
       "      <td>0.264962</td>\n",
       "      <td>0.000000</td>\n",
       "      <td>0.006973</td>\n",
       "      <td>0.000000</td>\n",
       "      <td>0.010742</td>\n",
       "      <td>...</td>\n",
       "      <td>0.098941</td>\n",
       "      <td>0.000000</td>\n",
       "      <td>0.142132</td>\n",
       "      <td>0</td>\n",
       "      <td>0.152004</td>\n",
       "      <td>0.000000</td>\n",
       "      <td>0.130072</td>\n",
       "      <td>0.168612</td>\n",
       "      <td>0.0</td>\n",
       "      <td>0.158977</td>\n",
       "    </tr>\n",
       "    <tr>\n",
       "      <td>Afrique du Sud</td>\n",
       "      <td>0.199969</td>\n",
       "      <td>0.000000</td>\n",
       "      <td>0.000000</td>\n",
       "      <td>0.000000</td>\n",
       "      <td>0.000000</td>\n",
       "      <td>0.160674</td>\n",
       "      <td>0.074316</td>\n",
       "      <td>0.009762</td>\n",
       "      <td>0.000000</td>\n",
       "      <td>0.012240</td>\n",
       "      <td>...</td>\n",
       "      <td>0.099519</td>\n",
       "      <td>0.010215</td>\n",
       "      <td>0.126881</td>\n",
       "      <td>0</td>\n",
       "      <td>0.146210</td>\n",
       "      <td>0.097513</td>\n",
       "      <td>0.144280</td>\n",
       "      <td>0.181408</td>\n",
       "      <td>0.0</td>\n",
       "      <td>0.138724</td>\n",
       "    </tr>\n",
       "    <tr>\n",
       "      <td>Albanie</td>\n",
       "      <td>0.164101</td>\n",
       "      <td>0.000000</td>\n",
       "      <td>0.000000</td>\n",
       "      <td>0.000000</td>\n",
       "      <td>0.000000</td>\n",
       "      <td>0.168436</td>\n",
       "      <td>0.000000</td>\n",
       "      <td>0.007143</td>\n",
       "      <td>0.000000</td>\n",
       "      <td>0.008422</td>\n",
       "      <td>...</td>\n",
       "      <td>0.000000</td>\n",
       "      <td>0.008541</td>\n",
       "      <td>0.138473</td>\n",
       "      <td>0</td>\n",
       "      <td>0.155402</td>\n",
       "      <td>0.108781</td>\n",
       "      <td>0.140214</td>\n",
       "      <td>0.000000</td>\n",
       "      <td>0.0</td>\n",
       "      <td>0.000000</td>\n",
       "    </tr>\n",
       "    <tr>\n",
       "      <td>Algérie</td>\n",
       "      <td>0.161672</td>\n",
       "      <td>0.000000</td>\n",
       "      <td>0.151071</td>\n",
       "      <td>0.000000</td>\n",
       "      <td>0.000000</td>\n",
       "      <td>0.264373</td>\n",
       "      <td>0.000000</td>\n",
       "      <td>0.010540</td>\n",
       "      <td>0.000000</td>\n",
       "      <td>0.016786</td>\n",
       "      <td>...</td>\n",
       "      <td>0.097117</td>\n",
       "      <td>0.010295</td>\n",
       "      <td>0.133618</td>\n",
       "      <td>0</td>\n",
       "      <td>0.153431</td>\n",
       "      <td>0.000000</td>\n",
       "      <td>0.112731</td>\n",
       "      <td>0.151071</td>\n",
       "      <td>0.0</td>\n",
       "      <td>0.130928</td>\n",
       "    </tr>\n",
       "    <tr>\n",
       "      <td>Allemagne</td>\n",
       "      <td>0.197668</td>\n",
       "      <td>0.010057</td>\n",
       "      <td>0.000000</td>\n",
       "      <td>0.002860</td>\n",
       "      <td>0.000000</td>\n",
       "      <td>0.245134</td>\n",
       "      <td>0.104551</td>\n",
       "      <td>0.007978</td>\n",
       "      <td>0.000000</td>\n",
       "      <td>0.009345</td>\n",
       "      <td>...</td>\n",
       "      <td>0.097324</td>\n",
       "      <td>0.015059</td>\n",
       "      <td>0.124231</td>\n",
       "      <td>0</td>\n",
       "      <td>0.130771</td>\n",
       "      <td>0.100495</td>\n",
       "      <td>0.149258</td>\n",
       "      <td>0.209135</td>\n",
       "      <td>0.0</td>\n",
       "      <td>0.115357</td>\n",
       "    </tr>\n",
       "    <tr>\n",
       "      <td>...</td>\n",
       "      <td>...</td>\n",
       "      <td>...</td>\n",
       "      <td>...</td>\n",
       "      <td>...</td>\n",
       "      <td>...</td>\n",
       "      <td>...</td>\n",
       "      <td>...</td>\n",
       "      <td>...</td>\n",
       "      <td>...</td>\n",
       "      <td>...</td>\n",
       "      <td>...</td>\n",
       "      <td>...</td>\n",
       "      <td>...</td>\n",
       "      <td>...</td>\n",
       "      <td>...</td>\n",
       "      <td>...</td>\n",
       "      <td>...</td>\n",
       "      <td>...</td>\n",
       "      <td>...</td>\n",
       "      <td>...</td>\n",
       "      <td>...</td>\n",
       "    </tr>\n",
       "    <tr>\n",
       "      <td>Émirats arabes unis</td>\n",
       "      <td>0.163445</td>\n",
       "      <td>0.008657</td>\n",
       "      <td>0.150056</td>\n",
       "      <td>0.002131</td>\n",
       "      <td>0.000000</td>\n",
       "      <td>0.256978</td>\n",
       "      <td>0.000000</td>\n",
       "      <td>0.007054</td>\n",
       "      <td>0.008245</td>\n",
       "      <td>0.010388</td>\n",
       "      <td>...</td>\n",
       "      <td>0.103885</td>\n",
       "      <td>0.014284</td>\n",
       "      <td>0.137215</td>\n",
       "      <td>0</td>\n",
       "      <td>0.160774</td>\n",
       "      <td>0.000000</td>\n",
       "      <td>0.124393</td>\n",
       "      <td>0.130522</td>\n",
       "      <td>0.0</td>\n",
       "      <td>0.120506</td>\n",
       "    </tr>\n",
       "    <tr>\n",
       "      <td>Équateur</td>\n",
       "      <td>0.180882</td>\n",
       "      <td>0.006449</td>\n",
       "      <td>0.140038</td>\n",
       "      <td>0.001885</td>\n",
       "      <td>0.010211</td>\n",
       "      <td>0.174723</td>\n",
       "      <td>0.095729</td>\n",
       "      <td>0.008092</td>\n",
       "      <td>0.007036</td>\n",
       "      <td>0.000000</td>\n",
       "      <td>...</td>\n",
       "      <td>0.061267</td>\n",
       "      <td>0.008219</td>\n",
       "      <td>0.163378</td>\n",
       "      <td>0</td>\n",
       "      <td>0.139584</td>\n",
       "      <td>0.097915</td>\n",
       "      <td>0.116293</td>\n",
       "      <td>0.183800</td>\n",
       "      <td>0.0</td>\n",
       "      <td>0.142955</td>\n",
       "    </tr>\n",
       "    <tr>\n",
       "      <td>États-Unis d'Amérique</td>\n",
       "      <td>0.185400</td>\n",
       "      <td>0.000000</td>\n",
       "      <td>0.000000</td>\n",
       "      <td>0.003534</td>\n",
       "      <td>0.084754</td>\n",
       "      <td>0.192943</td>\n",
       "      <td>0.072326</td>\n",
       "      <td>0.007008</td>\n",
       "      <td>0.006556</td>\n",
       "      <td>0.008183</td>\n",
       "      <td>...</td>\n",
       "      <td>0.084754</td>\n",
       "      <td>0.008057</td>\n",
       "      <td>0.135811</td>\n",
       "      <td>0</td>\n",
       "      <td>0.123823</td>\n",
       "      <td>0.097877</td>\n",
       "      <td>0.130653</td>\n",
       "      <td>0.179782</td>\n",
       "      <td>0.0</td>\n",
       "      <td>0.097404</td>\n",
       "    </tr>\n",
       "    <tr>\n",
       "      <td>Éthiopie</td>\n",
       "      <td>0.174217</td>\n",
       "      <td>0.000000</td>\n",
       "      <td>0.000000</td>\n",
       "      <td>0.000000</td>\n",
       "      <td>0.000000</td>\n",
       "      <td>0.185273</td>\n",
       "      <td>0.000000</td>\n",
       "      <td>0.007047</td>\n",
       "      <td>0.000000</td>\n",
       "      <td>0.000000</td>\n",
       "      <td>...</td>\n",
       "      <td>0.086302</td>\n",
       "      <td>0.000000</td>\n",
       "      <td>0.135082</td>\n",
       "      <td>0</td>\n",
       "      <td>0.147059</td>\n",
       "      <td>0.194180</td>\n",
       "      <td>0.110960</td>\n",
       "      <td>0.167396</td>\n",
       "      <td>0.0</td>\n",
       "      <td>0.114223</td>\n",
       "    </tr>\n",
       "    <tr>\n",
       "      <td>Îles Salomon</td>\n",
       "      <td>0.000000</td>\n",
       "      <td>0.000000</td>\n",
       "      <td>0.000000</td>\n",
       "      <td>0.000000</td>\n",
       "      <td>0.000000</td>\n",
       "      <td>0.000000</td>\n",
       "      <td>0.000000</td>\n",
       "      <td>0.000000</td>\n",
       "      <td>0.000000</td>\n",
       "      <td>0.000000</td>\n",
       "      <td>...</td>\n",
       "      <td>0.000000</td>\n",
       "      <td>0.000000</td>\n",
       "      <td>0.000000</td>\n",
       "      <td>0</td>\n",
       "      <td>0.152061</td>\n",
       "      <td>0.106791</td>\n",
       "      <td>0.116851</td>\n",
       "      <td>0.000000</td>\n",
       "      <td>0.0</td>\n",
       "      <td>0.000000</td>\n",
       "    </tr>\n",
       "  </tbody>\n",
       "</table>\n",
       "<p>169 rows × 97 columns</p>\n",
       "</div>"
      ],
      "text/plain": [
       "Produit                Abats Comestible  Agrumes, Autres  \\\n",
       "Zone                                                       \n",
       "Afghanistan                    0.159977         0.005520   \n",
       "Afrique du Sud                 0.199969         0.000000   \n",
       "Albanie                        0.164101         0.000000   \n",
       "Algérie                        0.161672         0.000000   \n",
       "Allemagne                      0.197668         0.010057   \n",
       "...                                 ...              ...   \n",
       "Émirats arabes unis            0.163445         0.008657   \n",
       "Équateur                       0.180882         0.006449   \n",
       "États-Unis d'Amérique          0.185400         0.000000   \n",
       "Éthiopie                       0.174217         0.000000   \n",
       "Îles Salomon                   0.000000         0.000000   \n",
       "\n",
       "Produit                Aliments pour enfants    Ananas  \\\n",
       "Zone                                                     \n",
       "Afghanistan                         0.132481  0.000000   \n",
       "Afrique du Sud                      0.000000  0.000000   \n",
       "Albanie                             0.000000  0.000000   \n",
       "Algérie                             0.151071  0.000000   \n",
       "Allemagne                           0.000000  0.002860   \n",
       "...                                      ...       ...   \n",
       "Émirats arabes unis                 0.150056  0.002131   \n",
       "Équateur                            0.140038  0.001885   \n",
       "États-Unis d'Amérique               0.000000  0.003534   \n",
       "Éthiopie                            0.000000  0.000000   \n",
       "Îles Salomon                        0.000000  0.000000   \n",
       "\n",
       "Produit                Animaux Aquatiques Autre  Arachides Decortiquees  \\\n",
       "Zone                                                                      \n",
       "Afghanistan                            0.000000                0.264962   \n",
       "Afrique du Sud                         0.000000                0.160674   \n",
       "Albanie                                0.000000                0.168436   \n",
       "Algérie                                0.000000                0.264373   \n",
       "Allemagne                              0.000000                0.245134   \n",
       "...                                         ...                     ...   \n",
       "Émirats arabes unis                    0.000000                0.256978   \n",
       "Équateur                               0.010211                0.174723   \n",
       "États-Unis d'Amérique                  0.084754                0.192943   \n",
       "Éthiopie                               0.000000                0.185273   \n",
       "Îles Salomon                           0.000000                0.000000   \n",
       "\n",
       "Produit                  Avoine   Bananes  Bananes plantains  Beurre, Ghee  \\\n",
       "Zone                                                                         \n",
       "Afghanistan            0.000000  0.006973           0.000000      0.010742   \n",
       "Afrique du Sud         0.074316  0.009762           0.000000      0.012240   \n",
       "Albanie                0.000000  0.007143           0.000000      0.008422   \n",
       "Algérie                0.000000  0.010540           0.000000      0.016786   \n",
       "Allemagne              0.104551  0.007978           0.000000      0.009345   \n",
       "...                         ...       ...                ...           ...   \n",
       "Émirats arabes unis    0.000000  0.007054           0.008245      0.010388   \n",
       "Équateur               0.095729  0.008092           0.007036      0.000000   \n",
       "États-Unis d'Amérique  0.072326  0.007008           0.006556      0.008183   \n",
       "Éthiopie               0.000000  0.007047           0.000000      0.000000   \n",
       "Îles Salomon           0.000000  0.000000           0.000000      0.000000   \n",
       "\n",
       "Produit                ...       Thé   Tomates  Viande d'Ovins/Caprins  \\\n",
       "Zone                   ...                                               \n",
       "Afghanistan            ...  0.098941  0.000000                0.142132   \n",
       "Afrique du Sud         ...  0.099519  0.010215                0.126881   \n",
       "Albanie                ...  0.000000  0.008541                0.138473   \n",
       "Algérie                ...  0.097117  0.010295                0.133618   \n",
       "Allemagne              ...  0.097324  0.015059                0.124231   \n",
       "...                    ...       ...       ...                     ...   \n",
       "Émirats arabes unis    ...  0.103885  0.014284                0.137215   \n",
       "Équateur               ...  0.061267  0.008219                0.163378   \n",
       "États-Unis d'Amérique  ...  0.084754  0.008057                0.135811   \n",
       "Éthiopie               ...  0.086302  0.000000                0.135082   \n",
       "Îles Salomon           ...  0.000000  0.000000                0.000000   \n",
       "\n",
       "Produit                Viande de Anim Aquatiq  Viande de Bovins  \\\n",
       "Zone                                                              \n",
       "Afghanistan                                 0          0.152004   \n",
       "Afrique du Sud                              0          0.146210   \n",
       "Albanie                                     0          0.155402   \n",
       "Algérie                                     0          0.153431   \n",
       "Allemagne                                   0          0.130771   \n",
       "...                                       ...               ...   \n",
       "Émirats arabes unis                         0          0.160774   \n",
       "Équateur                                    0          0.139584   \n",
       "États-Unis d'Amérique                       0          0.123823   \n",
       "Éthiopie                                    0          0.147059   \n",
       "Îles Salomon                                0          0.152061   \n",
       "\n",
       "Produit                Viande de Suides  Viande de Volailles  Viande, Autre  \\\n",
       "Zone                                                                          \n",
       "Afghanistan                    0.000000             0.130072       0.168612   \n",
       "Afrique du Sud                 0.097513             0.144280       0.181408   \n",
       "Albanie                        0.108781             0.140214       0.000000   \n",
       "Algérie                        0.000000             0.112731       0.151071   \n",
       "Allemagne                      0.100495             0.149258       0.209135   \n",
       "...                                 ...                  ...            ...   \n",
       "Émirats arabes unis            0.000000             0.124393       0.130522   \n",
       "Équateur                       0.097915             0.116293       0.183800   \n",
       "États-Unis d'Amérique          0.097877             0.130653       0.179782   \n",
       "Éthiopie                       0.194180             0.110960       0.167396   \n",
       "Îles Salomon                   0.106791             0.116851       0.000000   \n",
       "\n",
       "Produit                Vin  Épices, Autres  \n",
       "Zone                                        \n",
       "Afghanistan            0.0        0.158977  \n",
       "Afrique du Sud         0.0        0.138724  \n",
       "Albanie                0.0        0.000000  \n",
       "Algérie                0.0        0.130928  \n",
       "Allemagne              0.0        0.115357  \n",
       "...                    ...             ...  \n",
       "Émirats arabes unis    0.0        0.120506  \n",
       "Équateur               0.0        0.142955  \n",
       "États-Unis d'Amérique  0.0        0.097404  \n",
       "Éthiopie               0.0        0.114223  \n",
       "Îles Salomon           0.0        0.000000  \n",
       "\n",
       "[169 rows x 97 columns]"
      ]
     },
     "execution_count": 34,
     "metadata": {},
     "output_type": "execute_result"
    }
   ],
   "source": [
    "filt = (bilanAlimentaire['Code Élément'] == nouveauCodeRatioProteine) & (bilanAlimentaire['Année'] == 2017)\n",
    "pd.pivot_table(bilanAlimentaire[filt], index='Zone', columns = 'Produit', values='Valeur', fill_value=0)"
   ]
  },
  {
   "cell_type": "markdown",
   "metadata": {},
   "source": [
    "En cherchant sur internet, la valeur protéinique de l'avoine est de 10,70 %. Nous allons calculer la moyenne que nous avons trouvée. Nous allons remplacer les valeurs proche de zéro de notre pivot table par la valeur de 0.1070, pour ne pas fausser notre moyenne."
   ]
  },
  {
   "cell_type": "code",
   "execution_count": 35,
   "metadata": {},
   "outputs": [
    {
     "data": {
      "text/plain": [
       "'La moyenne du ratio protéinique est de 0.09915773534398087 '"
      ]
     },
     "execution_count": 35,
     "metadata": {},
     "output_type": "execute_result"
    }
   ],
   "source": [
    "filt = (bilanAlimentaire['Code Élément'] == nouveauCodeRatioProteine) & (bilanAlimentaire['Produit'] == 'Avoine')\n",
    "bilanAlimentaire.loc[filt & (bilanAlimentaire['Valeur'] < 0.000001), 'Valeur'] = 0.1070\n",
    "testUnitaire = bilanAlimentaire.loc[filt, 'Valeur']\n",
    "f\"La moyenne du ratio protéinique est de {testUnitaire.mean()} \""
   ]
  },
  {
   "cell_type": "code",
   "execution_count": 36,
   "metadata": {},
   "outputs": [
    {
     "data": {
      "text/plain": [
       "<matplotlib.axes._subplots.AxesSubplot at 0x20f357ca388>"
      ]
     },
     "execution_count": 36,
     "metadata": {},
     "output_type": "execute_result"
    },
    {
     "data": {
      "image/png": "[encoded data removed]",
      "text/plain": [
       "<Figure size 432x288 with 1 Axes>"
      ]
     },
     "metadata": {
      "needs_background": "light"
     },
     "output_type": "display_data"
    }
   ],
   "source": [
    "testUnitaire.hist()"
   ]
  },
  {
   "cell_type": "code",
   "execution_count": 37,
   "metadata": {},
   "outputs": [
    {
     "data": {
      "text/plain": [
       "count    311.000000\n",
       "mean       0.099158\n",
       "std        0.024223\n",
       "min        0.030536\n",
       "25%        0.085729\n",
       "50%        0.107000\n",
       "75%        0.107000\n",
       "max        0.232384\n",
       "Name: Valeur, dtype: float64"
      ]
     },
     "execution_count": 37,
     "metadata": {},
     "output_type": "execute_result"
    }
   ],
   "source": [
    "testUnitaire.describe()"
   ]
  },
  {
   "cell_type": "markdown",
   "metadata": {},
   "source": [
    "Nous avons un ratio protéine/poids de 0.099. Avec un écart-type de 0.024 et un interquartile de 0,021271, nous constatons que les valeurs sont légérement dispersées, néanmoins la valeur médiane est de 0.107"
   ]
  },
  {
   "cell_type": "markdown",
   "metadata": {},
   "source": [
    "### Question 5 : Citez 5 aliments parmi les 20 aliments les plus caloriques, en utilisant le ratio énergie/poids."
   ]
  },
  {
   "cell_type": "markdown",
   "metadata": {},
   "source": [
    "Pour faire le calcul, nous enlevons d'abord toutes les lignes ayant une valeur nulle, ensuite, nous groupons les produits ensemble, et enfin nous calculons la valeur médiane"
   ]
  },
  {
   "cell_type": "code",
   "execution_count": 38,
   "metadata": {},
   "outputs": [],
   "source": [
    "colonneUtile = ['Produit', 'Valeur']\n",
    "filt = (bilanAlimentaire['Code Élément'] == nouveauCodeRatioEnergie) & (bilanAlimentaire['Valeur'] > 0)\n",
    "bilanAlimentaire_gb = bilanAlimentaire.loc[filt, colonneUtile].groupby('Produit').median()"
   ]
  },
  {
   "cell_type": "markdown",
   "metadata": {},
   "source": [
    "Nous citons 5 aliments parmi les 20 aliments les plus caloriques, en utilisant le ratio énergie/poids."
   ]
  },
  {
   "cell_type": "code",
   "execution_count": 39,
   "metadata": {},
   "outputs": [
    {
     "data": {
      "text/html": [
       "<div>\n",
       "<style scoped>\n",
       "    .dataframe tbody tr th:only-of-type {\n",
       "        vertical-align: middle;\n",
       "    }\n",
       "\n",
       "    .dataframe tbody tr th {\n",
       "        vertical-align: top;\n",
       "    }\n",
       "\n",
       "    .dataframe thead th {\n",
       "        text-align: right;\n",
       "    }\n",
       "</style>\n",
       "<table border=\"1\" class=\"dataframe\">\n",
       "  <thead>\n",
       "    <tr style=\"text-align: right;\">\n",
       "      <th></th>\n",
       "      <th>Valeur</th>\n",
       "    </tr>\n",
       "    <tr>\n",
       "      <th>Produit</th>\n",
       "      <th></th>\n",
       "    </tr>\n",
       "  </thead>\n",
       "  <tbody>\n",
       "    <tr>\n",
       "      <td>Palmistes</td>\n",
       "      <td>6496.635000</td>\n",
       "    </tr>\n",
       "    <tr>\n",
       "      <td>Huiles de Poissons</td>\n",
       "      <td>9015.630237</td>\n",
       "    </tr>\n",
       "    <tr>\n",
       "      <td>Huile Graines de Coton</td>\n",
       "      <td>8803.120155</td>\n",
       "    </tr>\n",
       "    <tr>\n",
       "      <td>Huile de Palmistes</td>\n",
       "      <td>8768.820833</td>\n",
       "    </tr>\n",
       "    <tr>\n",
       "      <td>Huile de Tournesol</td>\n",
       "      <td>8853.733375</td>\n",
       "    </tr>\n",
       "  </tbody>\n",
       "</table>\n",
       "</div>"
      ],
      "text/plain": [
       "                             Valeur\n",
       "Produit                            \n",
       "Palmistes               6496.635000\n",
       "Huiles de Poissons      9015.630237\n",
       "Huile Graines de Coton  8803.120155\n",
       "Huile de Palmistes      8768.820833\n",
       "Huile de Tournesol      8853.733375"
      ]
     },
     "execution_count": 39,
     "metadata": {},
     "output_type": "execute_result"
    }
   ],
   "source": [
    "bilanAlimentaire_gb.nlargest(20, ['Valeur']).sample(5)"
   ]
  },
  {
   "cell_type": "markdown",
   "metadata": {},
   "source": [
    "Nous remarquons qu'en utilisant la moyenne pour calculer les valeurs calorifiques des aliments, nous nous heurtons à des inexactitudes, certaines valeurs ont un ratio trop important. Ce problème est dû à la presence de valeurs extrêmes très grandes ou très faible qui fausse la moyenne. Ainsi, en prenant la valeur médiane, nous savons que l'influence des valeurs extrêmes est presque nulle, ainsi ces valeurs sont plus justes."
   ]
  },
  {
   "cell_type": "code",
   "execution_count": 117,
   "metadata": {},
   "outputs": [],
   "source": [
    "colonneUtile = ['Produit', 'Valeur']\n",
    "filt = (bilanAlimentaire['Code Élément'] == nouveauCodeRatioProteine) & (bilanAlimentaire['Valeur'] > 0)\n",
    "bilanAlimentaire_gb = bilanAlimentaire.loc[filt, colonneUtile].groupby('Produit').median()"
   ]
  },
  {
   "cell_type": "markdown",
   "metadata": {},
   "source": [
    "Nous citons 5 aliments parmi les 20 aliments les plus caloriques, en utilisant le ratio protéines/poids."
   ]
  },
  {
   "cell_type": "code",
   "execution_count": 120,
   "metadata": {},
   "outputs": [
    {
     "data": {
      "text/html": [
       "<div>\n",
       "<style scoped>\n",
       "    .dataframe tbody tr th:only-of-type {\n",
       "        vertical-align: middle;\n",
       "    }\n",
       "\n",
       "    .dataframe tbody tr th {\n",
       "        vertical-align: top;\n",
       "    }\n",
       "\n",
       "    .dataframe thead th {\n",
       "        text-align: right;\n",
       "    }\n",
       "</style>\n",
       "<table border=\"1\" class=\"dataframe\">\n",
       "  <thead>\n",
       "    <tr style=\"text-align: right;\">\n",
       "      <th></th>\n",
       "      <th>Valeur</th>\n",
       "    </tr>\n",
       "    <tr>\n",
       "      <th>Produit</th>\n",
       "      <th></th>\n",
       "    </tr>\n",
       "  </thead>\n",
       "  <tbody>\n",
       "    <tr>\n",
       "      <td>Arachides Decortiquees</td>\n",
       "      <td>0.231137</td>\n",
       "    </tr>\n",
       "    <tr>\n",
       "      <td>Abats Comestible</td>\n",
       "      <td>0.178313</td>\n",
       "    </tr>\n",
       "    <tr>\n",
       "      <td>Pois</td>\n",
       "      <td>0.225036</td>\n",
       "    </tr>\n",
       "    <tr>\n",
       "      <td>Poissons Pelagiques</td>\n",
       "      <td>0.116518</td>\n",
       "    </tr>\n",
       "    <tr>\n",
       "      <td>Soja</td>\n",
       "      <td>0.322787</td>\n",
       "    </tr>\n",
       "  </tbody>\n",
       "</table>\n",
       "</div>"
      ],
      "text/plain": [
       "                          Valeur\n",
       "Produit                         \n",
       "Arachides Decortiquees  0.231137\n",
       "Abats Comestible        0.178313\n",
       "Pois                    0.225036\n",
       "Poissons Pelagiques     0.116518\n",
       "Soja                    0.322787"
      ]
     },
     "execution_count": 120,
     "metadata": {},
     "output_type": "execute_result"
    }
   ],
   "source": [
    "bilanAlimentaire_gb.nlargest(20, ['Valeur']).sample(5)"
   ]
  },
  {
   "cell_type": "markdown",
   "metadata": {},
   "source": [
    "## Partie III"
   ]
  },
  {
   "cell_type": "markdown",
   "metadata": {},
   "source": [
    "Nous allons traiter les questions de 6 à 9 ensemble"
   ]
  },
  {
   "cell_type": "markdown",
   "metadata": {},
   "source": [
    "### Question 6 : Calculez, pour les produits végétaux uniquement, la disponibilité intérieure mondiale exprimée en kcal."
   ]
  },
  {
   "cell_type": "markdown",
   "metadata": {},
   "source": [
    "Nous devons créer une liste contenant les produits végétaux uniquement. Pour cela, nous allons afficher tous les produits"
   ]
  },
  {
   "cell_type": "code",
   "execution_count": 40,
   "metadata": {},
   "outputs": [
    {
     "data": {
      "text/plain": [
       "array(['Population', 'Blé', 'Riz (Eq Blanchi)', 'Orge', 'Maïs', 'Seigle',\n",
       "       'Avoine', 'Millet', 'Sorgho', 'Céréales, Autres',\n",
       "       'Pommes de Terre', 'Ignames', 'Racines nda', 'Sucre, canne',\n",
       "       'Sucre, betterave', 'Sucre Eq Brut', 'Edulcorants Autres', 'Miel',\n",
       "       'Haricots', 'Pois', 'Légumineuses Autres', 'Noix', 'Soja',\n",
       "       'Arachides Decortiquees', 'Graines de tournesol',\n",
       "       'Graines Colza/Moutarde', 'Graines de coton', 'Coco (Incl Coprah)',\n",
       "       'Sésame', 'Olives', 'Plantes Oleiferes, Autre', 'Huile de Soja',\n",
       "       \"Huile d'Arachide\", 'Huile de Tournesol',\n",
       "       'Huile de Colza&Moutarde', 'Huile Graines de Coton',\n",
       "       'Huile de Palmistes', 'Huile de Palme', 'Huile de Coco',\n",
       "       'Huile de Sésame', \"Huile d'Olive\", 'Huile de Son de Riz',\n",
       "       'Huile de Germe de Maïs', 'Huil Plantes Oleif Autr', 'Tomates',\n",
       "       'Oignons', 'Légumes, Autres', 'Oranges, Mandarines',\n",
       "       'Citrons & Limes', 'Pamplemousse', 'Agrumes, Autres', 'Bananes',\n",
       "       'Pommes', 'Ananas', 'Dattes', 'Raisin', 'Fruits, Autres', 'Café',\n",
       "       'Feve de Cacao', 'Thé', 'Poivre', 'Piments', 'Girofles',\n",
       "       'Épices, Autres', 'Vin', 'Bière', 'Boissons Fermentés',\n",
       "       'Boissons Alcooliques', 'Alcool, non Comestible',\n",
       "       'Viande de Bovins', \"Viande d'Ovins/Caprins\", 'Viande de Suides',\n",
       "       'Viande de Volailles', 'Viande, Autre', 'Abats Comestible',\n",
       "       'Beurre, Ghee', 'Crème', 'Graisses Animales Crue', 'Oeufs',\n",
       "       'Lait - Excl Beurre', 'Poissons Eau Douce',\n",
       "       'Aliments pour enfants', 'Miscellanees', 'Manioc',\n",
       "       'Patates douces', 'Palmistes', 'Bananes plantains',\n",
       "       'Huiles de Poissons', 'Huiles de Foie de Poisso', 'Perciform',\n",
       "       'Poissons Pelagiques', 'Poissons Marins, Autres', 'Crustacés',\n",
       "       'Cephalopodes', 'Mollusques, Autres', 'Animaux Aquatiques Autre',\n",
       "       'Plantes Aquatiques', 'Sucre non centrifugé',\n",
       "       'Viande de Anim Aquatiq'], dtype=object)"
      ]
     },
     "execution_count": 40,
     "metadata": {},
     "output_type": "execute_result"
    }
   ],
   "source": [
    "bilanAlimentaire['Produit'].unique()"
   ]
  },
  {
   "cell_type": "markdown",
   "metadata": {},
   "source": [
    "Et sélectionner que les produits végétaux"
   ]
  },
  {
   "cell_type": "code",
   "execution_count": 41,
   "metadata": {},
   "outputs": [],
   "source": [
    "vegetaux = ['Blé', 'Riz (Eq Blanchi)', 'Orge', 'Maïs', 'Seigle', 'Avoine', 'Millet', 'Sorgho', 'Céréales, Autres', \n",
    "       'Pommes de Terre', 'Ignames', 'Racines nda', 'Sucre, canne',\n",
    "       'Sucre, betterave',\n",
    "       'Haricots', 'Pois', 'Légumineuses Autres', 'Noix', 'Soja',\n",
    "       'Arachides Decortiquees', 'Graines de tournesol',\n",
    "       'Graines Colza/Moutarde', 'Graines de coton', 'Coco (Incl Coprah)',\n",
    "       'Sésame', 'Olives', 'Plantes Oleiferes, Autre', 'Tomates',\n",
    "       'Oignons', 'Légumes, Autres', 'Oranges, Mandarines',\n",
    "       'Citrons & Limes', 'Pamplemousse', 'Agrumes, Autres', 'Bananes',\n",
    "       'Pommes', 'Ananas', 'Dattes', 'Raisin', 'Fruits, Autres', 'Café',\n",
    "       'Feve de Cacao', 'Thé', 'Poivre', 'Piments', 'Girofles',\n",
    "       'Épices, Autres', 'Manioc',\n",
    "       'Patates douces', 'Palmistes', 'Bananes plantains',\n",
    "       'Plantes Aquatiques']"
   ]
  },
  {
   "cell_type": "markdown",
   "metadata": {},
   "source": [
    "Nous créons une nouvelle colonne pour contenir cette information."
   ]
  },
  {
   "cell_type": "code",
   "execution_count": 42,
   "metadata": {},
   "outputs": [],
   "source": [
    "bilanAlimentaire['_calc_Vegetaux'] = 0\n",
    "bilanAlimentaire.loc[bilanAlimentaire['Produit'].isin(vegetaux),'_calc_Vegetaux'] = 1"
   ]
  },
  {
   "cell_type": "markdown",
   "metadata": {},
   "source": [
    "Nous créons 2 nouvelles colonnes qui contiennent la disponibilité Intérieur annuelle en KCal et en Kg de protéine pour chaque pays et chaque Produit."
   ]
  },
  {
   "cell_type": "code",
   "execution_count": 43,
   "metadata": {},
   "outputs": [],
   "source": [
    "codeElementDisponibilitéIntérieure = 5301\n",
    "\n",
    "energieDisponibilitéIntérieureKCal = ('Disponibilité intérieure (Kcal)', 9665)\n",
    "proteineDisponibilitéIntérieureKg = ('Disponibilité intérieure de protéines en quantité (Kg)', 9675)\n",
    "\n",
    "multiplicateurDisponibilitéIntérieure = 1000000\n",
    "\n",
    "bilanAlimentaire = OCR3.creatLigneRatio(bilanAlimentaire, codeElementDisponibilitéIntérieure, energieDisponibilitéIntérieureKCal, proteineDisponibilitéIntérieureKg, multiplicateurDisponibilitéIntérieure)\n",
    "\n",
    "textDisponibiliteInterieureKCal = ('La disponibilité intérieure mondiale, pour les produits végétaux uniquement, est de','KCal')"
   ]
  },
  {
   "cell_type": "code",
   "execution_count": 44,
   "metadata": {},
   "outputs": [
    {
     "data": {
      "text/plain": [
       "'En 2017, La disponibilité intérieure mondiale, pour les produits végétaux uniquement, est de 1.102810821436841e+16 KCal'"
      ]
     },
     "execution_count": 44,
     "metadata": {},
     "output_type": "execute_result"
    }
   ],
   "source": [
    "OCR3.sommeSerie(bilanAlimentaire, 2017, 'Code Élément', 9665, textDisponibiliteInterieureKCal, 1, '_calc_Vegetaux', 1)"
   ]
  },
  {
   "cell_type": "code",
   "execution_count": 45,
   "metadata": {
    "scrolled": true
   },
   "outputs": [
    {
     "data": {
      "text/plain": [
       "'En 2013, La disponibilité intérieure mondiale, pour les produits végétaux uniquement, est de 1.0057492347665806e+16 KCal'"
      ]
     },
     "execution_count": 45,
     "metadata": {},
     "output_type": "execute_result"
    }
   ],
   "source": [
    "OCR3.sommeSerie(bilanAlimentaire, 2013, 'Code Élément', 9665, textDisponibiliteInterieureKCal, 1, '_calc_Vegetaux', 1)"
   ]
  },
  {
   "cell_type": "markdown",
   "metadata": {},
   "source": [
    "### Question 7 : Combien d'humains pourraient être nourris si toute la disponibilité intérieure mondiale de produits végétaux était utilisée pour de la nourriture ? Donnez les résultats en termes de calories, puis de protéines, et exprimez ensuite ces 2 résultats en pourcentage de la population mondiale."
   ]
  },
  {
   "cell_type": "markdown",
   "metadata": {},
   "source": [
    "Les recommandations de la FAO sont de 2720 KCal par jour et par personne. Avec cette indication, nous allons calculer combien d'humains peuvent etre nourris en termes de calories, et les recommandations de la FAO sont de 56 grammes par jour et par personne. Avec cette indication, nous allons calculer combien d'humains peuvent etre nourris en termes de protéines."
   ]
  },
  {
   "cell_type": "code",
   "execution_count": 46,
   "metadata": {},
   "outputs": [
    {
     "data": {
      "text/plain": [
       "'En 2017, la Disponibilité intérieure (Kcal), permet de nourrir 11108086436.712742 personnes en Kcal soit 151.54549845959718 % de la population mondiale. Et, la Disponibilité intérieure de protéines en quantité (Kg), permet de nourrir 15347025790.304302 personnes en Kg de Protéines soit 209.37653722041375 % de la population mondiale'"
      ]
     },
     "execution_count": 46,
     "metadata": {},
     "output_type": "execute_result"
    }
   ],
   "source": [
    "OCR3.calculNourriturePersonne(bilanAlimentaire, 2017, (9665, 9675), veg = 1)"
   ]
  },
  {
   "cell_type": "code",
   "execution_count": 47,
   "metadata": {},
   "outputs": [
    {
     "data": {
      "text/plain": [
       "'En 2013, la Disponibilité intérieure (Kcal), permet de nourrir 10130431454.135582 personnes en Kcal soit 144.7757536827008 % de la population mondiale. Et, la Disponibilité intérieure de protéines en quantité (Kg), permet de nourrir 14138586829.340693 personnes en Kg de Protéines soit 202.05699762081534 % de la population mondiale'"
      ]
     },
     "execution_count": 47,
     "metadata": {},
     "output_type": "execute_result"
    }
   ],
   "source": [
    "OCR3.calculNourriturePersonne(bilanAlimentaire, 2013, (9665, 9675), veg = 1)"
   ]
  },
  {
   "cell_type": "markdown",
   "metadata": {},
   "source": [
    "### Question 8 : Combien d'humains pourraient être nourris si toute la disponibilité alimentaire en produits végétaux (Food) la nourriture végétale destinée aux animaux (Feed) et les pertes de produits végétaux (Waste) étaient utilisés pour de la nourriture ? Donnez les résultats en termes de calories, puis de protéines, et exprimez ensuite ces 2 résultats en pourcentage de la population mondiale."
   ]
  },
  {
   "cell_type": "markdown",
   "metadata": {},
   "source": [
    "Nous allons calculer la somme des produits végétaux pour la nourriture (Code = 5142), la nourriture destinée aux animaux (Code = 5521) et les pertes (Code = 5123) "
   ]
  },
  {
   "cell_type": "code",
   "execution_count": 48,
   "metadata": {},
   "outputs": [
    {
     "data": {
      "text/plain": [
       "'En 2017, la Disponibilité Alimentaire (Food/Feed/Waste) (Kcal), permet de nourrir 7912980520.49443 personnes en Kcal soit 107.95527961648523 % de la population mondiale. Et, la Disponibilité Alimentaire de protéines en quantité (Food/Feed/Waste) (Kg), permet de nourrir 10120921022.863829 personnes en Kg de Protéines soit 138.07778954716275 % de la population mondiale'"
      ]
     },
     "execution_count": 48,
     "metadata": {},
     "output_type": "execute_result"
    }
   ],
   "source": [
    "OCR3.calculNourriture(bilanAlimentaire, 2017)"
   ]
  },
  {
   "cell_type": "code",
   "execution_count": 49,
   "metadata": {},
   "outputs": [
    {
     "data": {
      "text/plain": [
       "'En 2013, la Disponibilité Alimentaire (Food/Feed/Waste) (Kcal), permet de nourrir 6253164902.254302 personnes en Kcal soit 89.36506462975002 % de la population mondiale. Et, la Disponibilité Alimentaire de protéines en quantité (Food/Feed/Waste) (Kg), permet de nourrir 7991762590.581506 personnes en Kg de Protéines soit 114.21166586466754 % de la population mondiale'"
      ]
     },
     "execution_count": 49,
     "metadata": {},
     "output_type": "execute_result"
    }
   ],
   "source": [
    "OCR3.calculNourriture(bilanAlimentaire, 2013)"
   ]
  },
  {
   "cell_type": "markdown",
   "metadata": {},
   "source": [
    "### Question 9 : Combien d'humains pourraient être nourris avec la disponibilité alimentaire mondiale ? Donnez les résultats en termes de calories, puis de protéines, et exprimez ensuite ces 2 résultats en pourcentage de la population mondiale."
   ]
  },
  {
   "cell_type": "code",
   "execution_count": 50,
   "metadata": {},
   "outputs": [
    {
     "data": {
      "text/plain": [
       "'En 2017, la Disponibilité alimentaire (Kcal/jour), permet de nourrir 7854635256.713235 personnes en Kcal soit 107.15928634321948 % de la population mondiale. Et, la Disponibilité alimentaire de protéines en quantité (Kg/jour), permet de nourrir 10842362661.266071 personnes en Kg de Protéines soit 147.9202798198196 % de la population mondiale'"
      ]
     },
     "execution_count": 50,
     "metadata": {},
     "output_type": "execute_result"
    }
   ],
   "source": [
    "OCR3.calculNourriturePersonne(bilanAlimentaire, 2017, (9664, 9674), veg = 0, jour = 1)"
   ]
  },
  {
   "cell_type": "code",
   "execution_count": 51,
   "metadata": {},
   "outputs": [
    {
     "data": {
      "text/plain": [
       "'En 2013, la Disponibilité alimentaire (Kcal/jour), permet de nourrir 7417845843.75 personnes en Kcal soit 106.00972205311001 % de la population mondiale. Et, la Disponibilité alimentaire de protéines en quantité (Kg/jour), permet de nourrir 10139390631.964285 personnes en Kg de Protéines soit 144.90379084759357 % de la population mondiale'"
      ]
     },
     "execution_count": 51,
     "metadata": {},
     "output_type": "execute_result"
    }
   ],
   "source": [
    "OCR3.calculNourriturePersonne(bilanAlimentaire, 2013, (9664, 9674), veg = 0, jour = 1)"
   ]
  },
  {
   "cell_type": "markdown",
   "metadata": {},
   "source": [
    "###  Question 10 : A partir des données téléchargées qui concernent la sous-nutrition, répondez à cette question : Quelle proportion de la population mondiale est considérée comme étant en sous-nutrition ?"
   ]
  },
  {
   "cell_type": "markdown",
   "metadata": {},
   "source": [
    "Nous allons lire les données venant des fichiers *Données de la sécurité alimentaire* pour les années 2013 et 2017, disponible à cette adresse : [Données de la sécurité alimentaire](http://www.fao.org/faostat/fr/#data/FS)\n",
    "\n",
    "Nous allons selectionner tous les pays à l'exception de ceux en double (cf. Question 1). De plus nous choisissons uniquement la population en sous-alimentation"
   ]
  },
  {
   "cell_type": "code",
   "execution_count": 52,
   "metadata": {},
   "outputs": [],
   "source": [
    "securiteAlimentaire_raw = pd.read_csv('SecuriteAlimentaires.csv', sep=',')"
   ]
  },
  {
   "cell_type": "markdown",
   "metadata": {},
   "source": [
    "Nous allons modifier la colonne *Année* pour y mettre soit 2013, soit 2017"
   ]
  },
  {
   "cell_type": "code",
   "execution_count": 53,
   "metadata": {},
   "outputs": [],
   "source": [
    "securiteAlimentaire_raw.loc[securiteAlimentaire_raw['Année'] == '2012-2014', 'Année'] = 2013\n",
    "securiteAlimentaire_raw.loc[securiteAlimentaire_raw['Année'] == '2016-2018', 'Année'] = 2017"
   ]
  },
  {
   "cell_type": "markdown",
   "metadata": {},
   "source": [
    "Ensuite, nous allons mettre les *NaN* à zéro, et les valeurs inferieur à 0.1 à 0.05, pour les Valeurs de population"
   ]
  },
  {
   "cell_type": "code",
   "execution_count": 54,
   "metadata": {},
   "outputs": [],
   "source": [
    "securiteAlimentaire_raw.loc[securiteAlimentaire_raw['Valeur'].isna(), 'Valeur'] = 0\n",
    "securiteAlimentaire_raw.loc[securiteAlimentaire_raw['Valeur'] == '<0.1', 'Valeur'] = 0.05"
   ]
  },
  {
   "cell_type": "markdown",
   "metadata": {},
   "source": [
    "Nous allons rajouter une colonne pour identifier les pays où la population est sous-alimentée, avec un seuil supérieur à 0.1"
   ]
  },
  {
   "cell_type": "code",
   "execution_count": 55,
   "metadata": {},
   "outputs": [],
   "source": [
    "securiteAlimentaire_raw['Valeur'] = securiteAlimentaire_raw['Valeur'].apply(float)\n",
    "securiteAlimentaire_raw['_calc_Sous Alimentée'] = 0\n",
    "securiteAlimentaire_raw.loc[securiteAlimentaire_raw['Valeur'] > 0.1, '_calc_Sous Alimentée'] = 1"
   ]
  },
  {
   "cell_type": "markdown",
   "metadata": {},
   "source": [
    "Nous calculons le pourcentage de la population sous-alimentée :"
   ]
  },
  {
   "cell_type": "code",
   "execution_count": 56,
   "metadata": {},
   "outputs": [],
   "source": [
    "populationSousAlimentee2017 = securiteAlimentaire_raw.loc[securiteAlimentaire_raw['Année'] == 2017, 'Valeur'].apply(float).sum() * 1000000 / OCR3.calculPopulation(bilanAlimentaire, 2017)\n",
    "populationSousAlimentee2013 = securiteAlimentaire_raw.loc[securiteAlimentaire_raw['Année'] == 2013, 'Valeur'].apply(float).sum() * 1000000 / OCR3.calculPopulation(bilanAlimentaire, 2013)"
   ]
  },
  {
   "cell_type": "code",
   "execution_count": 57,
   "metadata": {},
   "outputs": [
    {
     "data": {
      "text/plain": [
       "'En 2017, La population sous alimentée est de 10.262120716360146 % de la population mondiale'"
      ]
     },
     "execution_count": 57,
     "metadata": {},
     "output_type": "execute_result"
    }
   ],
   "source": [
    "f'En 2017, La population sous alimentée est de {populationSousAlimentee2017 * 100} % de la population mondiale'"
   ]
  },
  {
   "cell_type": "code",
   "execution_count": 58,
   "metadata": {},
   "outputs": [
    {
     "data": {
      "text/plain": [
       "'En 2013, La population sous alimentée est de 10.645495150576092 % de la population mondiale'"
      ]
     },
     "execution_count": 58,
     "metadata": {},
     "output_type": "execute_result"
    }
   ],
   "source": [
    "f'En 2013, La population sous alimentée est de {populationSousAlimentee2013 * 100} % de la population mondiale'"
   ]
  },
  {
   "cell_type": "markdown",
   "metadata": {},
   "source": [
    "### Question 11 : En ne prenant en compte que les céréales destinées à l'alimentation (humaine et animale), quelle proportion (en termes de poids) est destinée à l'alimentation animale ?"
   ]
  },
  {
   "cell_type": "markdown",
   "metadata": {},
   "source": [
    "Nous devons créer une liste contenant les produits céréaliers uniquement. Pour cela, nous allons afficher tous les produits"
   ]
  },
  {
   "cell_type": "code",
   "execution_count": 59,
   "metadata": {
    "scrolled": true
   },
   "outputs": [
    {
     "data": {
      "text/plain": [
       "array(['Population', 'Blé', 'Riz (Eq Blanchi)', 'Orge', 'Maïs', 'Seigle',\n",
       "       'Avoine', 'Millet', 'Sorgho', 'Céréales, Autres',\n",
       "       'Pommes de Terre', 'Ignames', 'Racines nda', 'Sucre, canne',\n",
       "       'Sucre, betterave', 'Sucre Eq Brut', 'Edulcorants Autres', 'Miel',\n",
       "       'Haricots', 'Pois', 'Légumineuses Autres', 'Noix', 'Soja',\n",
       "       'Arachides Decortiquees', 'Graines de tournesol',\n",
       "       'Graines Colza/Moutarde', 'Graines de coton', 'Coco (Incl Coprah)',\n",
       "       'Sésame', 'Olives', 'Plantes Oleiferes, Autre', 'Huile de Soja',\n",
       "       \"Huile d'Arachide\", 'Huile de Tournesol',\n",
       "       'Huile de Colza&Moutarde', 'Huile Graines de Coton',\n",
       "       'Huile de Palmistes', 'Huile de Palme', 'Huile de Coco',\n",
       "       'Huile de Sésame', \"Huile d'Olive\", 'Huile de Son de Riz',\n",
       "       'Huile de Germe de Maïs', 'Huil Plantes Oleif Autr', 'Tomates',\n",
       "       'Oignons', 'Légumes, Autres', 'Oranges, Mandarines',\n",
       "       'Citrons & Limes', 'Pamplemousse', 'Agrumes, Autres', 'Bananes',\n",
       "       'Pommes', 'Ananas', 'Dattes', 'Raisin', 'Fruits, Autres', 'Café',\n",
       "       'Feve de Cacao', 'Thé', 'Poivre', 'Piments', 'Girofles',\n",
       "       'Épices, Autres', 'Vin', 'Bière', 'Boissons Fermentés',\n",
       "       'Boissons Alcooliques', 'Alcool, non Comestible',\n",
       "       'Viande de Bovins', \"Viande d'Ovins/Caprins\", 'Viande de Suides',\n",
       "       'Viande de Volailles', 'Viande, Autre', 'Abats Comestible',\n",
       "       'Beurre, Ghee', 'Crème', 'Graisses Animales Crue', 'Oeufs',\n",
       "       'Lait - Excl Beurre', 'Poissons Eau Douce',\n",
       "       'Aliments pour enfants', 'Miscellanees', 'Manioc',\n",
       "       'Patates douces', 'Palmistes', 'Bananes plantains',\n",
       "       'Huiles de Poissons', 'Huiles de Foie de Poisso', 'Perciform',\n",
       "       'Poissons Pelagiques', 'Poissons Marins, Autres', 'Crustacés',\n",
       "       'Cephalopodes', 'Mollusques, Autres', 'Animaux Aquatiques Autre',\n",
       "       'Plantes Aquatiques', 'Sucre non centrifugé',\n",
       "       'Viande de Anim Aquatiq'], dtype=object)"
      ]
     },
     "execution_count": 59,
     "metadata": {},
     "output_type": "execute_result"
    }
   ],
   "source": [
    "bilanAlimentaire['Produit'].unique()"
   ]
  },
  {
   "cell_type": "markdown",
   "metadata": {},
   "source": [
    "Et sélectionner que les produits céréaliers"
   ]
  },
  {
   "cell_type": "code",
   "execution_count": 60,
   "metadata": {},
   "outputs": [],
   "source": [
    "cereales = ['Blé', 'Riz (Eq Blanchi)', 'Orge', 'Maïs', 'Seigle', 'Avoine', 'Millet', 'Sorgho', 'Céréales, Autres']"
   ]
  },
  {
   "cell_type": "markdown",
   "metadata": {},
   "source": [
    "Nous créons une nouvelle colonne pour contenir cette information."
   ]
  },
  {
   "cell_type": "code",
   "execution_count": 61,
   "metadata": {},
   "outputs": [],
   "source": [
    "bilanAlimentaire['_calc_Cereales'] = 0\n",
    "bilanAlimentaire.loc[bilanAlimentaire['Produit'].isin(cereales),'_calc_Cereales'] = 1"
   ]
  },
  {
   "cell_type": "markdown",
   "metadata": {},
   "source": [
    "Nous allons calculer les valeurs pour l'alimentation animale (Code = 5521) et humaine (Code = 5142)"
   ]
  },
  {
   "cell_type": "code",
   "execution_count": 62,
   "metadata": {},
   "outputs": [],
   "source": [
    "ProportionAnimale = OCR3.sommeSerie(bilanAlimentaire, 2017, 'Code Élément', 5521, 0, 1, '_calc_Cereales', 1)\n",
    "ProportionHumaine = OCR3.sommeSerie(bilanAlimentaire, 2017, 'Code Élément', 5142, 0, 1, '_calc_Cereales', 1)"
   ]
  },
  {
   "cell_type": "code",
   "execution_count": 63,
   "metadata": {},
   "outputs": [
    {
     "data": {
      "text/plain": [
       "\"En 2017, la proportion de céréales utilisée pour l'alimentation animale est de 43.83346329892333 % soit 1005626.0 Milliers de Tonnes\""
      ]
     },
     "execution_count": 63,
     "metadata": {},
     "output_type": "execute_result"
    }
   ],
   "source": [
    "f\"En 2017, la proportion de céréales utilisée pour l'alimentation animale est de {ProportionAnimale / (ProportionAnimale + ProportionHumaine) * 100} % soit {ProportionAnimale} Milliers de Tonnes\""
   ]
  },
  {
   "cell_type": "code",
   "execution_count": 64,
   "metadata": {},
   "outputs": [],
   "source": [
    "ProportionAnimale = OCR3.sommeSerie(bilanAlimentaire, 2013, 'Code Élément', 5521, 0, 1, '_calc_Cereales', 1)\n",
    "ProportionHumaine = OCR3.sommeSerie(bilanAlimentaire, 2013, 'Code Élément', 5142, 0, 1, '_calc_Cereales', 1)"
   ]
  },
  {
   "cell_type": "code",
   "execution_count": 65,
   "metadata": {},
   "outputs": [
    {
     "data": {
      "text/plain": [
       "\"En 2013, la proportion de céréales utilisée pour l'alimentation animale est de 45.91400584899829 % soit 873536.0 Milliers de Tonnes\""
      ]
     },
     "execution_count": 65,
     "metadata": {},
     "output_type": "execute_result"
    }
   ],
   "source": [
    "f\"En 2013, la proportion de céréales utilisée pour l'alimentation animale est de {ProportionAnimale / (ProportionAnimale + ProportionHumaine) * 100} % soit {ProportionAnimale} Milliers de Tonnes\""
   ]
  },
  {
   "cell_type": "markdown",
   "metadata": {},
   "source": [
    "Nous constatons qu'une grande partie de la production de céréales est consacrée a l'alimentation animale. "
   ]
  },
  {
   "cell_type": "markdown",
   "metadata": {},
   "source": [
    "### Question 12 : Donnez les 3 produits qui ont la plus grande valeur pour chacun des 2 ratios (vous aurez donc 6 produits à citer)"
   ]
  },
  {
   "cell_type": "markdown",
   "metadata": {},
   "source": [
    "#### Préparation :"
   ]
  },
  {
   "cell_type": "markdown",
   "metadata": {},
   "source": [
    "Sélectionnez parmi les données des bilans alimentaires les informations relatives aux pays dans lesquels la FAO recense des personnes en sous-nutrition, pour une année choisie.\n",
    "\n",
    "Repérez les 15 produits les plus exportés par ce groupe de pays sur l'année choisie.\n",
    "\n",
    "Parmi les données des bilans alimentaires au niveau mondial, sélectionnez les 200 plus grandes importations de ces produits (1 importation = une quantité d'un produit donné importée par un pays donné sur l'année choisie)\n",
    "\n",
    "Groupez ces importations par produit, afin d'avoir une table contenant 1 ligne pour chacun des 15 produits. Ensuite, calculez pour chaque produit les 2 quantités suivantes :\n",
    "\n",
    "    le ratio entre la quantité destinés aux \"Autres utilisations\" (Other uses) et la disponibilité intérieure.\n",
    "    le ratio entre la quantité destinée à la nourriture animale et la quantité destinée à la nourriture (animale + humaine)\n"
   ]
  },
  {
   "cell_type": "markdown",
   "metadata": {},
   "source": [
    "Nous allons trouver, tout d'abord, les 15 produits les exportés par ces pays. Nous allons merger les deux *data frame* pour avoir la colonne des pays où la population est sous-alimentée dans *bilanAlimentaire*"
   ]
  },
  {
   "cell_type": "code",
   "execution_count": 66,
   "metadata": {},
   "outputs": [],
   "source": [
    "colonne = ('Zone', 'Année', '_calc_Sous Alimentée')\n",
    "bilanAlimentaire = pd.merge(bilanAlimentaire, securiteAlimentaire_raw.loc[: , colonne], how = 'left', on = ['Zone', 'Année'])"
   ]
  },
  {
   "cell_type": "markdown",
   "metadata": {},
   "source": [
    "Ensuite, nous allons, avec un filtre, prendre les exportations des pays où la population est sous-alimentée, les additionner par produits et prendre les 15 plus grandes valeurs."
   ]
  },
  {
   "cell_type": "code",
   "execution_count": 67,
   "metadata": {},
   "outputs": [
    {
     "data": {
      "text/html": [
       "<div>\n",
       "<style scoped>\n",
       "    .dataframe tbody tr th:only-of-type {\n",
       "        vertical-align: middle;\n",
       "    }\n",
       "\n",
       "    .dataframe tbody tr th {\n",
       "        vertical-align: top;\n",
       "    }\n",
       "\n",
       "    .dataframe thead th {\n",
       "        text-align: right;\n",
       "    }\n",
       "</style>\n",
       "<table border=\"1\" class=\"dataframe\">\n",
       "  <thead>\n",
       "    <tr style=\"text-align: right;\">\n",
       "      <th></th>\n",
       "      <th>Valeur</th>\n",
       "    </tr>\n",
       "    <tr>\n",
       "      <th>Produit</th>\n",
       "      <th></th>\n",
       "    </tr>\n",
       "  </thead>\n",
       "  <tbody>\n",
       "    <tr>\n",
       "      <td>Maïs</td>\n",
       "      <td>57241.0</td>\n",
       "    </tr>\n",
       "    <tr>\n",
       "      <td>Riz (Eq Blanchi)</td>\n",
       "      <td>53157.0</td>\n",
       "    </tr>\n",
       "    <tr>\n",
       "      <td>Blé</td>\n",
       "      <td>48008.0</td>\n",
       "    </tr>\n",
       "    <tr>\n",
       "      <td>Huile de Palme</td>\n",
       "      <td>44183.0</td>\n",
       "    </tr>\n",
       "    <tr>\n",
       "      <td>Manioc</td>\n",
       "      <td>40175.0</td>\n",
       "    </tr>\n",
       "    <tr>\n",
       "      <td>Sucre Eq Brut</td>\n",
       "      <td>24608.0</td>\n",
       "    </tr>\n",
       "    <tr>\n",
       "      <td>Légumes, Autres</td>\n",
       "      <td>23943.0</td>\n",
       "    </tr>\n",
       "    <tr>\n",
       "      <td>Bananes</td>\n",
       "      <td>19109.0</td>\n",
       "    </tr>\n",
       "    <tr>\n",
       "      <td>Soja</td>\n",
       "      <td>17564.0</td>\n",
       "    </tr>\n",
       "    <tr>\n",
       "      <td>Fruits, Autres</td>\n",
       "      <td>16439.0</td>\n",
       "    </tr>\n",
       "    <tr>\n",
       "      <td>Poissons Pelagiques</td>\n",
       "      <td>13836.0</td>\n",
       "    </tr>\n",
       "    <tr>\n",
       "      <td>Orge</td>\n",
       "      <td>9861.0</td>\n",
       "    </tr>\n",
       "    <tr>\n",
       "      <td>Lait - Excl Beurre</td>\n",
       "      <td>8893.0</td>\n",
       "    </tr>\n",
       "    <tr>\n",
       "      <td>Tomates</td>\n",
       "      <td>8813.0</td>\n",
       "    </tr>\n",
       "    <tr>\n",
       "      <td>Ananas</td>\n",
       "      <td>8777.0</td>\n",
       "    </tr>\n",
       "  </tbody>\n",
       "</table>\n",
       "</div>"
      ],
      "text/plain": [
       "                      Valeur\n",
       "Produit                     \n",
       "Maïs                 57241.0\n",
       "Riz (Eq Blanchi)     53157.0\n",
       "Blé                  48008.0\n",
       "Huile de Palme       44183.0\n",
       "Manioc               40175.0\n",
       "Sucre Eq Brut        24608.0\n",
       "Légumes, Autres      23943.0\n",
       "Bananes              19109.0\n",
       "Soja                 17564.0\n",
       "Fruits, Autres       16439.0\n",
       "Poissons Pelagiques  13836.0\n",
       "Orge                  9861.0\n",
       "Lait - Excl Beurre    8893.0\n",
       "Tomates               8813.0\n",
       "Ananas                8777.0"
      ]
     },
     "execution_count": 67,
     "metadata": {},
     "output_type": "execute_result"
    }
   ],
   "source": [
    "filt = (bilanAlimentaire['_calc_Sous Alimentée'] == 1) & (bilanAlimentaire['Code Élément'] == 5911)\n",
    "bilanAlimentaire.loc[filt & (bilanAlimentaire['Année'] == 2017), ['Produit', 'Valeur']].groupby('Produit').sum().nlargest(15, 'Valeur')"
   ]
  },
  {
   "cell_type": "markdown",
   "metadata": {},
   "source": [
    "Voici la liste des produits exportés pour l'année 2017"
   ]
  },
  {
   "cell_type": "code",
   "execution_count": 68,
   "metadata": {},
   "outputs": [
    {
     "data": {
      "text/html": [
       "<div>\n",
       "<style scoped>\n",
       "    .dataframe tbody tr th:only-of-type {\n",
       "        vertical-align: middle;\n",
       "    }\n",
       "\n",
       "    .dataframe tbody tr th {\n",
       "        vertical-align: top;\n",
       "    }\n",
       "\n",
       "    .dataframe thead th {\n",
       "        text-align: right;\n",
       "    }\n",
       "</style>\n",
       "<table border=\"1\" class=\"dataframe\">\n",
       "  <thead>\n",
       "    <tr style=\"text-align: right;\">\n",
       "      <th></th>\n",
       "      <th>Valeur</th>\n",
       "    </tr>\n",
       "    <tr>\n",
       "      <th>Produit</th>\n",
       "      <th></th>\n",
       "    </tr>\n",
       "  </thead>\n",
       "  <tbody>\n",
       "    <tr>\n",
       "      <td>Huile de Palme</td>\n",
       "      <td>46297.0</td>\n",
       "    </tr>\n",
       "    <tr>\n",
       "      <td>Maïs</td>\n",
       "      <td>37888.0</td>\n",
       "    </tr>\n",
       "    <tr>\n",
       "      <td>Manioc</td>\n",
       "      <td>35923.0</td>\n",
       "    </tr>\n",
       "    <tr>\n",
       "      <td>Riz (Eq Blanchi)</td>\n",
       "      <td>32798.0</td>\n",
       "    </tr>\n",
       "    <tr>\n",
       "      <td>Sucre Eq Brut</td>\n",
       "      <td>25297.0</td>\n",
       "    </tr>\n",
       "    <tr>\n",
       "      <td>Blé</td>\n",
       "      <td>24916.0</td>\n",
       "    </tr>\n",
       "    <tr>\n",
       "      <td>Légumes, Autres</td>\n",
       "      <td>19970.0</td>\n",
       "    </tr>\n",
       "    <tr>\n",
       "      <td>Bananes</td>\n",
       "      <td>17822.0</td>\n",
       "    </tr>\n",
       "    <tr>\n",
       "      <td>Fruits, Autres</td>\n",
       "      <td>15263.0</td>\n",
       "    </tr>\n",
       "    <tr>\n",
       "      <td>Lait - Excl Beurre</td>\n",
       "      <td>14557.0</td>\n",
       "    </tr>\n",
       "    <tr>\n",
       "      <td>Soja</td>\n",
       "      <td>14408.0</td>\n",
       "    </tr>\n",
       "    <tr>\n",
       "      <td>Poissons Pelagiques</td>\n",
       "      <td>13684.0</td>\n",
       "    </tr>\n",
       "    <tr>\n",
       "      <td>Tomates</td>\n",
       "      <td>8901.0</td>\n",
       "    </tr>\n",
       "    <tr>\n",
       "      <td>Pommes</td>\n",
       "      <td>7841.0</td>\n",
       "    </tr>\n",
       "    <tr>\n",
       "      <td>Oranges, Mandarines</td>\n",
       "      <td>6916.0</td>\n",
       "    </tr>\n",
       "  </tbody>\n",
       "</table>\n",
       "</div>"
      ],
      "text/plain": [
       "                      Valeur\n",
       "Produit                     \n",
       "Huile de Palme       46297.0\n",
       "Maïs                 37888.0\n",
       "Manioc               35923.0\n",
       "Riz (Eq Blanchi)     32798.0\n",
       "Sucre Eq Brut        25297.0\n",
       "Blé                  24916.0\n",
       "Légumes, Autres      19970.0\n",
       "Bananes              17822.0\n",
       "Fruits, Autres       15263.0\n",
       "Lait - Excl Beurre   14557.0\n",
       "Soja                 14408.0\n",
       "Poissons Pelagiques  13684.0\n",
       "Tomates               8901.0\n",
       "Pommes                7841.0\n",
       "Oranges, Mandarines   6916.0"
      ]
     },
     "execution_count": 68,
     "metadata": {},
     "output_type": "execute_result"
    }
   ],
   "source": [
    "bilanAlimentaire.loc[filt & (bilanAlimentaire['Année'] == 2013), ['Produit', 'Valeur']].groupby('Produit').sum().nlargest(15, 'Valeur')"
   ]
  },
  {
   "cell_type": "markdown",
   "metadata": {},
   "source": [
    "Voici la liste des produits exportés pour l'année 2013"
   ]
  },
  {
   "cell_type": "markdown",
   "metadata": {},
   "source": [
    "Nous mettons ces produits dans la variable *produitExporte2017* et *produitExporte2013*"
   ]
  },
  {
   "cell_type": "code",
   "execution_count": 69,
   "metadata": {},
   "outputs": [],
   "source": [
    "produitExporte2017 = bilanAlimentaire.loc[filt & (bilanAlimentaire['Année'] == 2017), ['Produit', 'Valeur']].groupby('Produit').sum().nlargest(15, 'Valeur').index\n",
    "produitExporte2013 = bilanAlimentaire.loc[filt & (bilanAlimentaire['Année'] == 2013), ['Produit', 'Valeur']].groupby('Produit').sum().nlargest(15, 'Valeur').index"
   ]
  },
  {
   "cell_type": "markdown",
   "metadata": {},
   "source": [
    "Nous allons calculer quels sont les 200 plus gros importateurs de ces produits. Nous créeons un filtre, que l'on appliquera à notre *dataframe*"
   ]
  },
  {
   "cell_type": "code",
   "execution_count": 70,
   "metadata": {},
   "outputs": [],
   "source": [
    "filt = (bilanAlimentaire['Code Élément'] == 5611) & (bilanAlimentaire['Produit'].isin(produitExporte2017))"
   ]
  },
  {
   "cell_type": "code",
   "execution_count": 71,
   "metadata": {
    "scrolled": false
   },
   "outputs": [
    {
     "data": {
      "text/html": [
       "<div>\n",
       "<style scoped>\n",
       "    .dataframe tbody tr th:only-of-type {\n",
       "        vertical-align: middle;\n",
       "    }\n",
       "\n",
       "    .dataframe tbody tr th {\n",
       "        vertical-align: top;\n",
       "    }\n",
       "\n",
       "    .dataframe thead th {\n",
       "        text-align: right;\n",
       "    }\n",
       "</style>\n",
       "<table border=\"1\" class=\"dataframe\">\n",
       "  <thead>\n",
       "    <tr style=\"text-align: right;\">\n",
       "      <th></th>\n",
       "      <th>Valeur</th>\n",
       "    </tr>\n",
       "    <tr>\n",
       "      <th>Produit</th>\n",
       "      <th></th>\n",
       "    </tr>\n",
       "  </thead>\n",
       "  <tbody>\n",
       "    <tr>\n",
       "      <td>Blé</td>\n",
       "      <td>190801.0</td>\n",
       "    </tr>\n",
       "    <tr>\n",
       "      <td>Maïs</td>\n",
       "      <td>141404.0</td>\n",
       "    </tr>\n",
       "    <tr>\n",
       "      <td>Soja</td>\n",
       "      <td>135379.0</td>\n",
       "    </tr>\n",
       "    <tr>\n",
       "      <td>Lait - Excl Beurre</td>\n",
       "      <td>66928.0</td>\n",
       "    </tr>\n",
       "    <tr>\n",
       "      <td>Sucre Eq Brut</td>\n",
       "      <td>41035.0</td>\n",
       "    </tr>\n",
       "    <tr>\n",
       "      <td>Manioc</td>\n",
       "      <td>38452.0</td>\n",
       "    </tr>\n",
       "    <tr>\n",
       "      <td>Orge</td>\n",
       "      <td>31210.0</td>\n",
       "    </tr>\n",
       "    <tr>\n",
       "      <td>Légumes, Autres</td>\n",
       "      <td>29498.0</td>\n",
       "    </tr>\n",
       "    <tr>\n",
       "      <td>Riz (Eq Blanchi)</td>\n",
       "      <td>28209.0</td>\n",
       "    </tr>\n",
       "    <tr>\n",
       "      <td>Huile de Palme</td>\n",
       "      <td>27587.0</td>\n",
       "    </tr>\n",
       "    <tr>\n",
       "      <td>Fruits, Autres</td>\n",
       "      <td>14844.0</td>\n",
       "    </tr>\n",
       "    <tr>\n",
       "      <td>Poissons Pelagiques</td>\n",
       "      <td>11758.0</td>\n",
       "    </tr>\n",
       "    <tr>\n",
       "      <td>Bananes</td>\n",
       "      <td>9181.0</td>\n",
       "    </tr>\n",
       "    <tr>\n",
       "      <td>Tomates</td>\n",
       "      <td>4285.0</td>\n",
       "    </tr>\n",
       "    <tr>\n",
       "      <td>Ananas</td>\n",
       "      <td>1717.0</td>\n",
       "    </tr>\n",
       "  </tbody>\n",
       "</table>\n",
       "</div>"
      ],
      "text/plain": [
       "                       Valeur\n",
       "Produit                      \n",
       "Blé                  190801.0\n",
       "Maïs                 141404.0\n",
       "Soja                 135379.0\n",
       "Lait - Excl Beurre    66928.0\n",
       "Sucre Eq Brut         41035.0\n",
       "Manioc                38452.0\n",
       "Orge                  31210.0\n",
       "Légumes, Autres       29498.0\n",
       "Riz (Eq Blanchi)      28209.0\n",
       "Huile de Palme        27587.0\n",
       "Fruits, Autres        14844.0\n",
       "Poissons Pelagiques   11758.0\n",
       "Bananes                9181.0\n",
       "Tomates                4285.0\n",
       "Ananas                 1717.0"
      ]
     },
     "execution_count": 71,
     "metadata": {},
     "output_type": "execute_result"
    }
   ],
   "source": [
    "bilanAlimentaire.loc[filt & (bilanAlimentaire['Année'] == 2017), ['Zone', 'Produit', 'Valeur']].nlargest(200, 'Valeur').groupby('Produit').sum().sort_values('Valeur', ascending=False)"
   ]
  },
  {
   "cell_type": "markdown",
   "metadata": {},
   "source": [
    "Voici la liste la somme des 200 produits les plus importées en 2017"
   ]
  },
  {
   "cell_type": "code",
   "execution_count": 72,
   "metadata": {},
   "outputs": [],
   "source": [
    "filt = (bilanAlimentaire['Code Élément'] == 5611) & (bilanAlimentaire['Produit'].isin(produitExporte2013))"
   ]
  },
  {
   "cell_type": "code",
   "execution_count": 73,
   "metadata": {},
   "outputs": [
    {
     "data": {
      "text/html": [
       "<div>\n",
       "<style scoped>\n",
       "    .dataframe tbody tr th:only-of-type {\n",
       "        vertical-align: middle;\n",
       "    }\n",
       "\n",
       "    .dataframe tbody tr th {\n",
       "        vertical-align: top;\n",
       "    }\n",
       "\n",
       "    .dataframe thead th {\n",
       "        text-align: right;\n",
       "    }\n",
       "</style>\n",
       "<table border=\"1\" class=\"dataframe\">\n",
       "  <thead>\n",
       "    <tr style=\"text-align: right;\">\n",
       "      <th></th>\n",
       "      <th>Valeur</th>\n",
       "    </tr>\n",
       "    <tr>\n",
       "      <th>Produit</th>\n",
       "      <th></th>\n",
       "    </tr>\n",
       "  </thead>\n",
       "  <tbody>\n",
       "    <tr>\n",
       "      <td>Blé</td>\n",
       "      <td>150140.0</td>\n",
       "    </tr>\n",
       "    <tr>\n",
       "      <td>Maïs</td>\n",
       "      <td>102489.0</td>\n",
       "    </tr>\n",
       "    <tr>\n",
       "      <td>Soja</td>\n",
       "      <td>93497.0</td>\n",
       "    </tr>\n",
       "    <tr>\n",
       "      <td>Lait - Excl Beurre</td>\n",
       "      <td>91023.0</td>\n",
       "    </tr>\n",
       "    <tr>\n",
       "      <td>Sucre Eq Brut</td>\n",
       "      <td>35071.0</td>\n",
       "    </tr>\n",
       "    <tr>\n",
       "      <td>Manioc</td>\n",
       "      <td>34751.0</td>\n",
       "    </tr>\n",
       "    <tr>\n",
       "      <td>Huile de Palme</td>\n",
       "      <td>30034.0</td>\n",
       "    </tr>\n",
       "    <tr>\n",
       "      <td>Légumes, Autres</td>\n",
       "      <td>29625.0</td>\n",
       "    </tr>\n",
       "    <tr>\n",
       "      <td>Oranges, Mandarines</td>\n",
       "      <td>22945.0</td>\n",
       "    </tr>\n",
       "    <tr>\n",
       "      <td>Fruits, Autres</td>\n",
       "      <td>16951.0</td>\n",
       "    </tr>\n",
       "    <tr>\n",
       "      <td>Riz (Eq Blanchi)</td>\n",
       "      <td>14460.0</td>\n",
       "    </tr>\n",
       "    <tr>\n",
       "      <td>Poissons Pelagiques</td>\n",
       "      <td>14371.0</td>\n",
       "    </tr>\n",
       "    <tr>\n",
       "      <td>Bananes</td>\n",
       "      <td>9663.0</td>\n",
       "    </tr>\n",
       "    <tr>\n",
       "      <td>Pommes</td>\n",
       "      <td>8518.0</td>\n",
       "    </tr>\n",
       "    <tr>\n",
       "      <td>Tomates</td>\n",
       "      <td>7143.0</td>\n",
       "    </tr>\n",
       "  </tbody>\n",
       "</table>\n",
       "</div>"
      ],
      "text/plain": [
       "                       Valeur\n",
       "Produit                      \n",
       "Blé                  150140.0\n",
       "Maïs                 102489.0\n",
       "Soja                  93497.0\n",
       "Lait - Excl Beurre    91023.0\n",
       "Sucre Eq Brut         35071.0\n",
       "Manioc                34751.0\n",
       "Huile de Palme        30034.0\n",
       "Légumes, Autres       29625.0\n",
       "Oranges, Mandarines   22945.0\n",
       "Fruits, Autres        16951.0\n",
       "Riz (Eq Blanchi)      14460.0\n",
       "Poissons Pelagiques   14371.0\n",
       "Bananes                9663.0\n",
       "Pommes                 8518.0\n",
       "Tomates                7143.0"
      ]
     },
     "execution_count": 73,
     "metadata": {},
     "output_type": "execute_result"
    }
   ],
   "source": [
    "bilanAlimentaire.loc[filt & (bilanAlimentaire['Année'] == 2013), ['Zone', 'Produit', 'Valeur']].nlargest(200, 'Valeur').groupby('Produit').sum().sort_values('Valeur', ascending=False)"
   ]
  },
  {
   "cell_type": "markdown",
   "metadata": {},
   "source": [
    "Voici la liste la somme des 200 produits les plus importées en 2013"
   ]
  },
  {
   "cell_type": "markdown",
   "metadata": {},
   "source": [
    "Nous allons calculer les ratios entre la quantité destinés aux \"Autres utilisations\" (Other uses : Code = 5154) et la disponibilité intérieure (Code = 5301)"
   ]
  },
  {
   "cell_type": "code",
   "execution_count": 74,
   "metadata": {},
   "outputs": [],
   "source": [
    "codeElementAutre = 5154\n",
    "codeElementDispoInt = 5301\n",
    "    \n",
    "colonne = ['Zone', 'Valeur', 'Produit', 'Année']\n",
    "avec = ['Zone', 'Année', 'Produit']\n",
    "\n",
    "codeRatio = (codeElementAutre, codeElementDispoInt)\n",
    "    \n",
    "nouveauElementRatio = 'Ratio Autres Utilisation / Disponibilité Interieur '\n",
    "nouveauUniteRatio = '-'\n",
    "nouveauCodeRatio = 9154"
   ]
  },
  {
   "cell_type": "code",
   "execution_count": 75,
   "metadata": {},
   "outputs": [],
   "source": [
    "bilanAlimentaire = OCR3.ajoutLigne(bilanAlimentaire, 'Code Élément', codeRatio, nouveauElementRatio, nouveauCodeRatio, nouveauUniteRatio, colonne, 1, avec, 'left', 'division')"
   ]
  },
  {
   "cell_type": "code",
   "execution_count": 76,
   "metadata": {},
   "outputs": [
    {
     "data": {
      "text/html": [
       "<div>\n",
       "<style scoped>\n",
       "    .dataframe tbody tr th:only-of-type {\n",
       "        vertical-align: middle;\n",
       "    }\n",
       "\n",
       "    .dataframe tbody tr th {\n",
       "        vertical-align: top;\n",
       "    }\n",
       "\n",
       "    .dataframe thead th {\n",
       "        text-align: right;\n",
       "    }\n",
       "</style>\n",
       "<table border=\"1\" class=\"dataframe\">\n",
       "  <thead>\n",
       "    <tr style=\"text-align: right;\">\n",
       "      <th></th>\n",
       "      <th>Valeur</th>\n",
       "    </tr>\n",
       "    <tr>\n",
       "      <th>Produit</th>\n",
       "      <th></th>\n",
       "    </tr>\n",
       "  </thead>\n",
       "  <tbody>\n",
       "    <tr>\n",
       "      <td>Huile de Palme</td>\n",
       "      <td>0.491384</td>\n",
       "    </tr>\n",
       "    <tr>\n",
       "      <td>Manioc</td>\n",
       "      <td>0.287415</td>\n",
       "    </tr>\n",
       "    <tr>\n",
       "      <td>Sucre Eq Brut</td>\n",
       "      <td>0.154218</td>\n",
       "    </tr>\n",
       "  </tbody>\n",
       "</table>\n",
       "</div>"
      ],
      "text/plain": [
       "                  Valeur\n",
       "Produit                 \n",
       "Huile de Palme  0.491384\n",
       "Manioc          0.287415\n",
       "Sucre Eq Brut   0.154218"
      ]
     },
     "execution_count": 76,
     "metadata": {},
     "output_type": "execute_result"
    }
   ],
   "source": [
    "filt = (bilanAlimentaire['Code Élément'] == 9154) & (bilanAlimentaire['Produit'].isin(produitExporte2017))\n",
    "bilanAlimentaire.loc[filt & (bilanAlimentaire['Année'] == 2017), ['Zone', 'Produit', 'Valeur']].groupby('Produit').mean().nlargest(3, 'Valeur')"
   ]
  },
  {
   "cell_type": "markdown",
   "metadata": {},
   "source": [
    "Voici la liste des 3 produits les plus utilisés à d'autre fin qu'alimentaire en 2017. Nous constatons que la moitié de l'Huile de Palme, produit le plus exporté par des pays souffrant de malnutrition en 2013, est utilisé à des fins non-alimentaires."
   ]
  },
  {
   "cell_type": "code",
   "execution_count": 77,
   "metadata": {
    "scrolled": true
   },
   "outputs": [
    {
     "data": {
      "text/html": [
       "<div>\n",
       "<style scoped>\n",
       "    .dataframe tbody tr th:only-of-type {\n",
       "        vertical-align: middle;\n",
       "    }\n",
       "\n",
       "    .dataframe tbody tr th {\n",
       "        vertical-align: top;\n",
       "    }\n",
       "\n",
       "    .dataframe thead th {\n",
       "        text-align: right;\n",
       "    }\n",
       "</style>\n",
       "<table border=\"1\" class=\"dataframe\">\n",
       "  <thead>\n",
       "    <tr style=\"text-align: right;\">\n",
       "      <th></th>\n",
       "      <th>Valeur</th>\n",
       "    </tr>\n",
       "    <tr>\n",
       "      <th>Produit</th>\n",
       "      <th></th>\n",
       "    </tr>\n",
       "  </thead>\n",
       "  <tbody>\n",
       "    <tr>\n",
       "      <td>Huile de Palme</td>\n",
       "      <td>0.571938</td>\n",
       "    </tr>\n",
       "    <tr>\n",
       "      <td>Manioc</td>\n",
       "      <td>0.238643</td>\n",
       "    </tr>\n",
       "    <tr>\n",
       "      <td>Sucre Eq Brut</td>\n",
       "      <td>0.144430</td>\n",
       "    </tr>\n",
       "  </tbody>\n",
       "</table>\n",
       "</div>"
      ],
      "text/plain": [
       "                  Valeur\n",
       "Produit                 \n",
       "Huile de Palme  0.571938\n",
       "Manioc          0.238643\n",
       "Sucre Eq Brut   0.144430"
      ]
     },
     "execution_count": 77,
     "metadata": {},
     "output_type": "execute_result"
    }
   ],
   "source": [
    "filt = (bilanAlimentaire['Code Élément'] == 9154) & (bilanAlimentaire['Produit'].isin(produitExporte2013))\n",
    "bilanAlimentaire.loc[filt & (bilanAlimentaire['Année'] == 2013), ['Zone', 'Produit', 'Valeur']].groupby('Produit').mean().nlargest(3, 'Valeur')"
   ]
  },
  {
   "cell_type": "markdown",
   "metadata": {},
   "source": [
    "Voici la liste des 3 produits les plus utilisés à d'autre fin qu'alimentaire en 2013. Nous constatons que plus de la moitié de l'Huile de Palme, produit le plus exporté par des pays souffrant de malnutrition en 2013, est utilisé à des fins non-alimentaires."
   ]
  },
  {
   "cell_type": "markdown",
   "metadata": {},
   "source": [
    "Nous allons calculer les ratios entre la quantité destinée à la nourriture animale(code = 5521) et la quantité destinée à la nourriture (animale + humaine - Code = 5142)"
   ]
  },
  {
   "cell_type": "code",
   "execution_count": 78,
   "metadata": {},
   "outputs": [],
   "source": [
    "codeElementAnimaux = 5521\n",
    "codeElementNourriture = 5142\n",
    "    \n",
    "colonne = ['Zone', 'Valeur', 'Produit', 'Année']\n",
    "avec = ['Zone', 'Année', 'Produit']\n",
    "\n",
    "codeAdd = (codeElementAnimaux, codeElementNourriture)\n",
    "\n",
    "nouveauElementAdd = 'Nourriture Animaux + Nourriture Humaines'\n",
    "nouveauUniteAdd = 'Milliers de Tonnes'\n",
    "nouveauCodeAdd = 9141\n",
    "\n",
    "nouveauElementRatio = 'Ratio Animaux / Nourriture Total'\n",
    "nouveauUniteRatio = '-'\n",
    "nouveauCodeRatio = 9142\n",
    "\n",
    "codeRatio = (codeElementAnimaux, nouveauCodeAdd)"
   ]
  },
  {
   "cell_type": "code",
   "execution_count": 79,
   "metadata": {},
   "outputs": [],
   "source": [
    "bilanAlimentaire = OCR3.ajoutLigne(bilanAlimentaire, 'Code Élément', codeAdd, nouveauElementAdd, nouveauCodeAdd, nouveauUniteAdd, colonne, 1, avec, 'left', 'add')"
   ]
  },
  {
   "cell_type": "code",
   "execution_count": 80,
   "metadata": {},
   "outputs": [],
   "source": [
    "bilanAlimentaire = OCR3.ajoutLigne(bilanAlimentaire, 'Code Élément', codeRatio, nouveauElementRatio, nouveauCodeRatio, nouveauUniteRatio, colonne, 1, avec, 'left', 'division')"
   ]
  },
  {
   "cell_type": "code",
   "execution_count": 81,
   "metadata": {
    "scrolled": true
   },
   "outputs": [
    {
     "data": {
      "text/html": [
       "<div>\n",
       "<style scoped>\n",
       "    .dataframe tbody tr th:only-of-type {\n",
       "        vertical-align: middle;\n",
       "    }\n",
       "\n",
       "    .dataframe tbody tr th {\n",
       "        vertical-align: top;\n",
       "    }\n",
       "\n",
       "    .dataframe thead th {\n",
       "        text-align: right;\n",
       "    }\n",
       "</style>\n",
       "<table border=\"1\" class=\"dataframe\">\n",
       "  <thead>\n",
       "    <tr style=\"text-align: right;\">\n",
       "      <th></th>\n",
       "      <th>Valeur</th>\n",
       "    </tr>\n",
       "    <tr>\n",
       "      <th>Produit</th>\n",
       "      <th></th>\n",
       "    </tr>\n",
       "  </thead>\n",
       "  <tbody>\n",
       "    <tr>\n",
       "      <td>Maïs</td>\n",
       "      <td>0.582678</td>\n",
       "    </tr>\n",
       "    <tr>\n",
       "      <td>Orge</td>\n",
       "      <td>0.536719</td>\n",
       "    </tr>\n",
       "    <tr>\n",
       "      <td>Soja</td>\n",
       "      <td>0.480653</td>\n",
       "    </tr>\n",
       "  </tbody>\n",
       "</table>\n",
       "</div>"
      ],
      "text/plain": [
       "           Valeur\n",
       "Produit          \n",
       "Maïs     0.582678\n",
       "Orge     0.536719\n",
       "Soja     0.480653"
      ]
     },
     "execution_count": 81,
     "metadata": {},
     "output_type": "execute_result"
    }
   ],
   "source": [
    "filt = (bilanAlimentaire['Code Élément'] == 9142) & (bilanAlimentaire['Produit'].isin(produitExporte2017))\n",
    "bilanAlimentaire.loc[filt & (bilanAlimentaire['Année'] == 2017), ['Zone', 'Produit', 'Valeur']].groupby('Produit').mean().nlargest(3, 'Valeur')"
   ]
  },
  {
   "cell_type": "markdown",
   "metadata": {},
   "source": [
    "Nous avons les 3 produits les plus utilisés dans l'alimentation animale. Le Maïs est le produit le plus exporté en 2017 par des pays souffrant de malnutrition.Il est utilisé principalement pour l'élevage.En 2017, l'Orge et le Soja font également partis des produits les plus exportés par ces pays."
   ]
  },
  {
   "cell_type": "code",
   "execution_count": 82,
   "metadata": {},
   "outputs": [
    {
     "data": {
      "text/html": [
       "<div>\n",
       "<style scoped>\n",
       "    .dataframe tbody tr th:only-of-type {\n",
       "        vertical-align: middle;\n",
       "    }\n",
       "\n",
       "    .dataframe tbody tr th {\n",
       "        vertical-align: top;\n",
       "    }\n",
       "\n",
       "    .dataframe thead th {\n",
       "        text-align: right;\n",
       "    }\n",
       "</style>\n",
       "<table border=\"1\" class=\"dataframe\">\n",
       "  <thead>\n",
       "    <tr style=\"text-align: right;\">\n",
       "      <th></th>\n",
       "      <th>Valeur</th>\n",
       "    </tr>\n",
       "    <tr>\n",
       "      <th>Produit</th>\n",
       "      <th></th>\n",
       "    </tr>\n",
       "  </thead>\n",
       "  <tbody>\n",
       "    <tr>\n",
       "      <td>Maïs</td>\n",
       "      <td>0.607727</td>\n",
       "    </tr>\n",
       "    <tr>\n",
       "      <td>Soja</td>\n",
       "      <td>0.591048</td>\n",
       "    </tr>\n",
       "    <tr>\n",
       "      <td>Blé</td>\n",
       "      <td>0.264171</td>\n",
       "    </tr>\n",
       "  </tbody>\n",
       "</table>\n",
       "</div>"
      ],
      "text/plain": [
       "           Valeur\n",
       "Produit          \n",
       "Maïs     0.607727\n",
       "Soja     0.591048\n",
       "Blé      0.264171"
      ]
     },
     "execution_count": 82,
     "metadata": {},
     "output_type": "execute_result"
    }
   ],
   "source": [
    "filt = (bilanAlimentaire['Code Élément'] == 9142) & (bilanAlimentaire['Produit'].isin(produitExporte2013))\n",
    "bilanAlimentaire.loc[filt & (bilanAlimentaire['Année'] == 2013), ['Zone', 'Produit', 'Valeur']].groupby('Produit').mean().nlargest(3, 'Valeur')"
   ]
  },
  {
   "cell_type": "markdown",
   "metadata": {},
   "source": [
    "Nous avons les 3 produits les plus utilisés dans l'alimentation animale. Le Maïs est le produit le plus exporté en 2017 par des pays souffrant de malnutrition.Il est utilisé principalement pour l'élevage.En 2013, le Blé et le Soja font également partis des produits les plus exportés par ces pays."
   ]
  },
  {
   "cell_type": "markdown",
   "metadata": {},
   "source": [
    "### Question 13 : Combien de tonnes de céréales pourraient être libérées si les USA diminuaient leur production de produits animaux de 10% ?"
   ]
  },
  {
   "cell_type": "markdown",
   "metadata": {},
   "source": [
    "Nous allons calculer la production de céréales pour les années 2017 et 2013. Nous multiplions par 1000 pour passer de Milliers de Tonnes en Tonnes et par 0.1 pour avoir 10% de la production."
   ]
  },
  {
   "cell_type": "code",
   "execution_count": 83,
   "metadata": {},
   "outputs": [],
   "source": [
    "USA = 231\n",
    "productionAnimale = 5521\n",
    "noText = 0\n",
    "multiplicateur = 0.1 * 1000 "
   ]
  },
  {
   "cell_type": "code",
   "execution_count": 84,
   "metadata": {},
   "outputs": [],
   "source": [
    "Proportion2017 = OCR3.sommeSerie(bilanAlimentaire[bilanAlimentaire['Code zone'] == USA], 2017, 'Code Élément', productionAnimale, noText, multiplicateur, '_calc_Cereales', 1)"
   ]
  },
  {
   "cell_type": "code",
   "execution_count": 85,
   "metadata": {},
   "outputs": [],
   "source": [
    "Proportion2013 = OCR3.sommeSerie(bilanAlimentaire[bilanAlimentaire['Code zone'] == USA], 2013, 'Code Élément', productionAnimale, noText, multiplicateur, '_calc_Cereales', 1)"
   ]
  },
  {
   "cell_type": "code",
   "execution_count": 86,
   "metadata": {},
   "outputs": [
    {
     "data": {
      "text/plain": [
       "'14042400.0 Tonnes de céréales seraient libérées si les USA diminuaient leur production de produits animaux de 10%'"
      ]
     },
     "execution_count": 86,
     "metadata": {},
     "output_type": "execute_result"
    }
   ],
   "source": [
    "f\"{Proportion2017} Tonnes de céréales seraient libérées si les USA diminuaient leur production de produits animaux de 10%\""
   ]
  },
  {
   "cell_type": "code",
   "execution_count": 87,
   "metadata": {},
   "outputs": [
    {
     "data": {
      "text/plain": [
       "'14009600.0 Tonnes de céréales seraient libérées si les USA diminuaient leur production de produits animaux de 10%'"
      ]
     },
     "execution_count": 87,
     "metadata": {},
     "output_type": "execute_result"
    }
   ],
   "source": [
    "f\"{Proportion2013} Tonnes de céréales seraient libérées si les USA diminuaient leur production de produits animaux de 10%\""
   ]
  },
  {
   "cell_type": "markdown",
   "metadata": {},
   "source": [
    "### Question 14 : En Thaïlande, quelle proportion de manioc est exportée ? Quelle est la proportion de personnes en sous-nutrition?"
   ]
  },
  {
   "cell_type": "markdown",
   "metadata": {},
   "source": [
    "Nous allons calculer les valeurs de production (Code = 5511) et d'exportation (Code = 5911) de manioc de Thaïlande pour 2017 "
   ]
  },
  {
   "cell_type": "code",
   "execution_count": 88,
   "metadata": {},
   "outputs": [],
   "source": [
    "manioc = 2532\n",
    "thailande = 216\n",
    "listCodes = (5911, 5511)\n",
    "exportation, production = OCR3.retourneValeurs(bilanAlimentaire, 2017, {'Code zone': thailande, 'Code Produit' : manioc}, 'Code Élément', listCodes, 'Valeur')"
   ]
  },
  {
   "cell_type": "code",
   "execution_count": 89,
   "metadata": {},
   "outputs": [
    {
     "data": {
      "text/plain": [
       "'En 2017, la proportion de manioc exportée depuis la Thailande par rapport à sa production est de 48.704912059885395 %'"
      ]
     },
     "execution_count": 89,
     "metadata": {},
     "output_type": "execute_result"
    }
   ],
   "source": [
    "f\"En 2017, la proportion de manioc exportée depuis la Thailande par rapport à sa production est de {exportation / (exportation + production) * 100} %\""
   ]
  },
  {
   "cell_type": "markdown",
   "metadata": {},
   "source": [
    "Nous allons calculer les valeurs de production (Code = 5511) et d'exportation (Code = 5911) de manioc de Thaïlande pour 2013"
   ]
  },
  {
   "cell_type": "code",
   "execution_count": 90,
   "metadata": {},
   "outputs": [],
   "source": [
    "exportation, production = OCR3.retourneValeurs(bilanAlimentaire, 2013, {'Code zone': thailande, 'Code Produit' : manioc}, 'Code Élément', listCodes, 'Valeur')"
   ]
  },
  {
   "cell_type": "code",
   "execution_count": 91,
   "metadata": {},
   "outputs": [
    {
     "data": {
      "text/plain": [
       "'En 2013, La proportion de manioc exportée depuis la Thailande par rapport à sa production est de 45.47815735363082 %'"
      ]
     },
     "execution_count": 91,
     "metadata": {},
     "output_type": "execute_result"
    }
   ],
   "source": [
    "f\"En 2013, La proportion de manioc exportée depuis la Thailande par rapport à sa production est de {exportation / (exportation + production) * 100} %\""
   ]
  },
  {
   "cell_type": "markdown",
   "metadata": {},
   "source": [
    "Nous allons calculer les personnes en sous nutrition, et la proportion avec la population en Thailande (code = 210011)"
   ]
  },
  {
   "cell_type": "code",
   "execution_count": 92,
   "metadata": {},
   "outputs": [],
   "source": [
    "sousNourris = 210011"
   ]
  },
  {
   "cell_type": "code",
   "execution_count": 93,
   "metadata": {},
   "outputs": [],
   "source": [
    "valeurs = float(OCR3.retourneValeur(securiteAlimentaire_raw, 2017, {'Code zone': thailande, 'Code Produit' : sousNourris}, 'Valeur')[0])\n",
    "population = OCR3.retourneValeur(bilanAlimentaire, 2017, {'Code zone': thailande, 'Code Élément' : 511}, 'Valeur')[0]"
   ]
  },
  {
   "cell_type": "code",
   "execution_count": 94,
   "metadata": {},
   "outputs": [
    {
     "data": {
      "text/plain": [
       "'La population étant sous alimentée est de 5.4 millions de personnes soit 7.802362121785915 %'"
      ]
     },
     "execution_count": 94,
     "metadata": {},
     "output_type": "execute_result"
    }
   ],
   "source": [
    "f\"La population étant sous alimentée est de {valeurs} millions de personnes soit {valeurs * 1000 * 100 / population} %\""
   ]
  },
  {
   "cell_type": "code",
   "execution_count": 95,
   "metadata": {},
   "outputs": [],
   "source": [
    "valeurs = float(OCR3.retourneValeur(securiteAlimentaire_raw, 2013, {'Code zone': thailande, 'Code Produit' : sousNourris}, 'Valeur')[0])\n",
    "population = OCR3.retourneValeur(bilanAlimentaire, 2013, {'Code zone': thailande, 'Code Élément' : 511}, 'Valeur')[0]"
   ]
  },
  {
   "cell_type": "code",
   "execution_count": 96,
   "metadata": {},
   "outputs": [
    {
     "data": {
      "text/plain": [
       "'La population étant sous alimentée est de 5.6 millions de personnes soit 8.356836937219262 %'"
      ]
     },
     "execution_count": 96,
     "metadata": {},
     "output_type": "execute_result"
    }
   ],
   "source": [
    "f\"La population étant sous alimentée est de {valeurs} millions de personnes soit {valeurs * 1000 * 100 / population} %\""
   ]
  },
  {
   "cell_type": "markdown",
   "metadata": {},
   "source": [
    "En 2017, presque la moitié du manioc est exportée alors que 7.80 % de la population est sous alimentée"
   ]
  },
  {
   "cell_type": "markdown",
   "metadata": {},
   "source": [
    "## Partie IV"
   ]
  },
  {
   "cell_type": "markdown",
   "metadata": {},
   "source": [
    "Nous allons traiter dans cette partie des questions sur les bases de données"
   ]
  },
  {
   "cell_type": "markdown",
   "metadata": {},
   "source": [
    "### Préparation"
   ]
  },
  {
   "cell_type": "markdown",
   "metadata": {},
   "source": [
    "Tout d'abord, nous allons lire toutes les fichiers que nous allons utiliser pour peupler notre base de donnée"
   ]
  },
  {
   "cell_type": "code",
   "execution_count": 97,
   "metadata": {},
   "outputs": [],
   "source": [
    "db_population_raw = pd.read_csv('db_Population.csv', sep=',')\n",
    "db_bilanAlimentaireOld_raw = pd.read_csv('db_BilansAlimentairesHistoriqueOld.csv', sep=',')\n",
    "db_bilanAlimentaireNew_raw = pd.read_csv('db_BilansAlimentairesHistoriqueNew.csv', sep=',')\n",
    "db_equilibreProdOld_raw = pd.read_csv('db_EquilibreProdHistoriqueOld.csv', sep=',')\n",
    "db_equilibreProdNew_raw = pd.read_csv('db_EquilibreProdHistoriqueNew.csv', sep=',')\n",
    "db_securiteAlimentaire_raw = pd.read_csv('db_SecuriteAlimentaire.csv', sep=',')"
   ]
  },
  {
   "cell_type": "markdown",
   "metadata": {},
   "source": [
    "Ensuite, nous allons concatener les deux fichiers bilanAlimentaire, et les deux fichiers equilibreProdNew ensemble"
   ]
  },
  {
   "cell_type": "code",
   "execution_count": 98,
   "metadata": {},
   "outputs": [],
   "source": [
    "db_bilanAlimentaire_raw = pd.concat([db_bilanAlimentaireOld_raw, db_bilanAlimentaireNew_raw], ignore_index=True, sort=False)\n",
    "db_equilibreProd_raw = pd.concat([db_equilibreProdOld_raw, db_equilibreProdNew_raw], ignore_index=True, sort=False)"
   ]
  },
  {
   "cell_type": "markdown",
   "metadata": {},
   "source": [
    "Nous allons enlever les colonnes dont nous nous servirons pas  "
   ]
  },
  {
   "cell_type": "code",
   "execution_count": 99,
   "metadata": {},
   "outputs": [],
   "source": [
    "db_population = db_population_raw.drop([\"Code Domaine\", \"Domaine\", \"Code Élément\", \"Élément\", \"Code Produit\", \"Produit\", \"Code année\", \"Unité\", \"Symbole\", \"Description du Symbole\", \"Note\"], axis=1).fillna(0)\n",
    "db_bilanAlimentaire = db_bilanAlimentaire_raw.drop([\"Code Domaine\", \"Domaine\", \"Code année\", \"Unité\", \"Symbole\", \"Description du Symbole\"], axis=1).fillna(0)\n",
    "db_equilibreProd = db_equilibreProd_raw.drop([\"Code Domaine\", \"Domaine\", \"Code année\", \"Unité\", \"Symbole\", \"Description du Symbole\"], axis=1).fillna(0)\n",
    "db_securiteAlimentaire = db_securiteAlimentaire_raw.drop([\"Code Domaine\", \"Domaine\", \"Code Élément\", \"Élément\", \"Code Produit\", \"Produit\", \"Code année\", \"Unité\", \"Symbole\", \"Description du Symbole\", \"Note\"], axis=1).fillna(0)"
   ]
  },
  {
   "cell_type": "markdown",
   "metadata": {},
   "source": [
    "Nous rajoutons une colonne dans la data frame db_bilanAlimentaire pour différencier l'origine des produits"
   ]
  },
  {
   "cell_type": "code",
   "execution_count": 100,
   "metadata": {
    "scrolled": true
   },
   "outputs": [],
   "source": [
    "db_bilanAlimentaire['origin'] = 'animal'\n",
    "db_bilanAlimentaire.loc[db_bilanAlimentaire['Produit'].isin(vegetaux),'origin'] = 'végétal'"
   ]
  },
  {
   "cell_type": "markdown",
   "metadata": {},
   "source": [
    "Nous allons préparer les data frames en mettant en forme selon les tables de la base de donnée."
   ]
  },
  {
   "cell_type": "code",
   "execution_count": 101,
   "metadata": {},
   "outputs": [],
   "source": [
    "code = {645 : 'dispo_alim_tonnes', 664 : 'dispo_alim_kcal_p_j', 674 : 'dispo_prot', 684 : 'dispo_mat_gr'}\n",
    "db_bilanAlimentaire = OCR3.ligneToColonne(db_bilanAlimentaire, code)"
   ]
  },
  {
   "cell_type": "code",
   "execution_count": 102,
   "metadata": {},
   "outputs": [],
   "source": [
    "code = {5301 : 'dispo_int', 664 : 'alim_ani', 5527 : 'semences', 5123 : 'pertes', 5131 : 'transfo', 5142 : 'nourriture', 5154 : 'autres_utilisations'}\n",
    "db_equilibreProd = OCR3.ligneToColonne(db_equilibreProd, code)"
   ]
  },
  {
   "cell_type": "markdown",
   "metadata": {},
   "source": [
    "Nous mettons les valeurs notées sous forme de chaine de caractères en float, puis nous multiplions par 1 million pour avoir la valeur en millier d'habitants"
   ]
  },
  {
   "cell_type": "code",
   "execution_count": 103,
   "metadata": {},
   "outputs": [],
   "source": [
    "db_securiteAlimentaire.loc[db_securiteAlimentaire['Valeur'] == '<0.1', 'Valeur'] = 0.05\n",
    "db_securiteAlimentaire['Valeur'] = db_securiteAlimentaire['Valeur'].astype(float) * 1000"
   ]
  },
  {
   "cell_type": "markdown",
   "metadata": {},
   "source": [
    "Nous renommons les colonnes selon la nomenclature de la base de données, pour les data frames db_bilanAlimentaire et db_equilibreProd, la fonction ligneToColonne a déjà réaliser le renommage des colonnes"
   ]
  },
  {
   "cell_type": "code",
   "execution_count": 104,
   "metadata": {},
   "outputs": [],
   "source": [
    "db_population.rename(columns={'Code zone': 'code_pays', 'Zone': 'pays', 'Année': 'annee', 'Valeur': 'population'}, inplace=True)\n",
    "db_securiteAlimentaire.rename(columns={'Code zone': 'code_pays', 'Zone': 'pays', 'Année': 'annee', 'Valeur': 'nb_personnes'}, inplace=True)"
   ]
  },
  {
   "cell_type": "markdown",
   "metadata": {},
   "source": [
    "Nous remplaçons également les années, qui sont une chaîne de caractère, en nombre entier."
   ]
  },
  {
   "cell_type": "code",
   "execution_count": 105,
   "metadata": {},
   "outputs": [],
   "source": [
    "db_securiteAlimentaire['annee'] = db_securiteAlimentaire['annee'].str[0:4].astype(int) + 1"
   ]
  },
  {
   "cell_type": "markdown",
   "metadata": {},
   "source": [
    "### Question 15 : Proposez une clé primaire pertinente pour cette table."
   ]
  },
  {
   "cell_type": "markdown",
   "metadata": {},
   "source": [
    "Pour la table Population, nous pouvons choisir soit une clé primaire auto-incrementée. Mais, également, il est possible de prendre une nouvelle colonne composée des nombres de code_pays et d'année. Cela peut permettre de faire des jointure plus facilement avec la table sous-nutrition."
   ]
  },
  {
   "cell_type": "markdown",
   "metadata": {},
   "source": [
    "### Question 16 : Proposez une clé primaire pertinente pour cette table."
   ]
  },
  {
   "cell_type": "markdown",
   "metadata": {},
   "source": [
    "Pour la table Dispo_alim, nous pouvons choisir soit une clé primaire auto-incrementée. Mais, également, il est possible de prendre une nouvelle colonne composée des nombres de code_pays, code_produit et d'année."
   ]
  },
  {
   "cell_type": "markdown",
   "metadata": {},
   "source": [
    "### Question 17 : Proposez une clé primaire pertinente pour cette table."
   ]
  },
  {
   "cell_type": "markdown",
   "metadata": {},
   "source": [
    "Pour la table Equilibre_prod, nous pouvons choisir soit une clé primaire auto-incrementée. Mais, également, il est possible de prendre une nouvelle colonne composée des nombres de code_pays, code_produit et d'année. "
   ]
  },
  {
   "cell_type": "markdown",
   "metadata": {},
   "source": [
    "### Question 18 : Vous vous en doutez... proposez encore une fois une clé primaire pertinente pour cette table !"
   ]
  },
  {
   "cell_type": "markdown",
   "metadata": {},
   "source": [
    "Pour la table Sous-nutrition, nous pouvons choisir soit une clé primaire auto-incrementée. Mais, également, il est possible de prendre une nouvelle colonne composée des nombres de code_pays et d'année. Cela peut permettre de faire des jointure plus facilement avec la table Population."
   ]
  },
  {
   "cell_type": "markdown",
   "metadata": {},
   "source": [
    "#### Ouverture de la base de donnée"
   ]
  },
  {
   "cell_type": "markdown",
   "metadata": {},
   "source": [
    "Après avoir déterminer les clés utilisées, nous allons ouvrir un connecteur vers la base de donnée *fao* et un curseur pour effectuer les requêtes."
   ]
  },
  {
   "cell_type": "code",
   "execution_count": 106,
   "metadata": {
    "scrolled": true
   },
   "outputs": [],
   "source": [
    "conn = sqlite3.connect(\"fao.db\")\n",
    "cur = conn.cursor()"
   ]
  },
  {
   "cell_type": "markdown",
   "metadata": {},
   "source": [
    "Nous allons créer les 4 tables demandées, à savoir population, dispo_alim, equibre_prod et sous_nutrition"
   ]
  },
  {
   "cell_type": "code",
   "execution_count": 107,
   "metadata": {},
   "outputs": [],
   "source": [
    "cur.execute(\"CREATE TABLE population (pays TEXT, code_pays INTEGER NOT NULL, annee INTEGER NOT NULL, population REAL, PRIMARY KEY (code_pays, annee))\")\n",
    "cur.execute(\"CREATE TABLE dispo_alim (pays TEXT, code_pays INTEGER NOT NULL, annee INTEGER NOT NULL, produit TEXT, code_produit INTEGER NOT NULL, origin TEXT, dispo_alim_tonnes REAL, dispo_alim_kcal_p_j REAL, dispo_prot REAL, dispo_mat_gr REAL, PRIMARY KEY (code_pays, annee, code_produit))\")\n",
    "cur.execute(\"CREATE TABLE equilibre_prod (pays TEXT, code_pays INTEGER NOT NULL, annee INTEGER NOT NULL, produit TEXT, code_produit INTEGER NOT NULL, dispo_int REAL, alim_ani REAL, semences REAL, pertes REAL, transfo REAL, nourriture REAL, autres_utilisations REAL, PRIMARY KEY (code_pays, annee, code_produit))\")\n",
    "cur.execute(\"CREATE TABLE sous_nutrition (pays TEXT, code_pays INTEGER NOT NULL, annee INTEGER NOT NULL, nb_personnes REAL, PRIMARY KEY (code_pays, annee))\")\n",
    "conn.commit()"
   ]
  },
  {
   "cell_type": "markdown",
   "metadata": {},
   "source": [
    "Nous enlevons tous les lignes en double pour éviter d'avoir des doublons avec la même clés."
   ]
  },
  {
   "cell_type": "code",
   "execution_count": 108,
   "metadata": {},
   "outputs": [],
   "source": [
    "db_population.drop_duplicates(inplace=True)\n",
    "db_securiteAlimentaire.drop_duplicates(inplace=True)"
   ]
  },
  {
   "cell_type": "markdown",
   "metadata": {},
   "source": [
    "Nous insérons les données des data frames dans la base de données "
   ]
  },
  {
   "cell_type": "code",
   "execution_count": 109,
   "metadata": {},
   "outputs": [],
   "source": [
    "db_population.to_sql(\"population\", conn, if_exists='append', index=False)\n",
    "db_bilanAlimentaire.to_sql(\"dispo_alim\", conn, if_exists='append', index=False)\n",
    "db_equilibreProd.to_sql(\"equilibre_prod\", conn, if_exists='append', index=False)\n",
    "db_securiteAlimentaire.to_sql(\"sous_nutrition\", conn, if_exists='append', index=False)"
   ]
  },
  {
   "cell_type": "markdown",
   "metadata": {},
   "source": [
    "### Question 19 : Écrivez les requêtes SQL permettant de connaître…"
   ]
  },
  {
   "cell_type": "markdown",
   "metadata": {},
   "source": [
    "* Les 10 pays ayant le plus haut ratio disponibilité alimentaire/habitant en termes de protéines (en kg) par habitant, puis en termes de kcal par habitant.\n"
   ]
  },
  {
   "cell_type": "code",
   "execution_count": 110,
   "metadata": {
    "scrolled": true
   },
   "outputs": [
    {
     "data": {
      "text/html": [
       "<div>\n",
       "<style scoped>\n",
       "    .dataframe tbody tr th:only-of-type {\n",
       "        vertical-align: middle;\n",
       "    }\n",
       "\n",
       "    .dataframe tbody tr th {\n",
       "        vertical-align: top;\n",
       "    }\n",
       "\n",
       "    .dataframe thead th {\n",
       "        text-align: right;\n",
       "    }\n",
       "</style>\n",
       "<table border=\"1\" class=\"dataframe\">\n",
       "  <thead>\n",
       "    <tr style=\"text-align: right;\">\n",
       "      <th></th>\n",
       "      <th>pays</th>\n",
       "      <th>annee</th>\n",
       "      <th>total_dispo_prot</th>\n",
       "    </tr>\n",
       "  </thead>\n",
       "  <tbody>\n",
       "    <tr>\n",
       "      <td>0</td>\n",
       "      <td>Islande</td>\n",
       "      <td>2017</td>\n",
       "      <td>141.34</td>\n",
       "    </tr>\n",
       "    <tr>\n",
       "      <td>1</td>\n",
       "      <td>Islande</td>\n",
       "      <td>2016</td>\n",
       "      <td>139.74</td>\n",
       "    </tr>\n",
       "    <tr>\n",
       "      <td>2</td>\n",
       "      <td>Islande</td>\n",
       "      <td>2015</td>\n",
       "      <td>139.13</td>\n",
       "    </tr>\n",
       "    <tr>\n",
       "      <td>3</td>\n",
       "      <td>Islande</td>\n",
       "      <td>2014</td>\n",
       "      <td>135.33</td>\n",
       "    </tr>\n",
       "    <tr>\n",
       "      <td>4</td>\n",
       "      <td>Islande</td>\n",
       "      <td>2012</td>\n",
       "      <td>134.59</td>\n",
       "    </tr>\n",
       "    <tr>\n",
       "      <td>5</td>\n",
       "      <td>Islande</td>\n",
       "      <td>2013</td>\n",
       "      <td>133.06</td>\n",
       "    </tr>\n",
       "    <tr>\n",
       "      <td>6</td>\n",
       "      <td>Israël</td>\n",
       "      <td>2013</td>\n",
       "      <td>128.00</td>\n",
       "    </tr>\n",
       "    <tr>\n",
       "      <td>7</td>\n",
       "      <td>Lituanie</td>\n",
       "      <td>2016</td>\n",
       "      <td>127.78</td>\n",
       "    </tr>\n",
       "    <tr>\n",
       "      <td>8</td>\n",
       "      <td>Israël</td>\n",
       "      <td>2012</td>\n",
       "      <td>127.75</td>\n",
       "    </tr>\n",
       "    <tr>\n",
       "      <td>9</td>\n",
       "      <td>Lituanie</td>\n",
       "      <td>2017</td>\n",
       "      <td>125.06</td>\n",
       "    </tr>\n",
       "  </tbody>\n",
       "</table>\n",
       "</div>"
      ],
      "text/plain": [
       "       pays  annee  total_dispo_prot\n",
       "0   Islande   2017            141.34\n",
       "1   Islande   2016            139.74\n",
       "2   Islande   2015            139.13\n",
       "3   Islande   2014            135.33\n",
       "4   Islande   2012            134.59\n",
       "5   Islande   2013            133.06\n",
       "6    Israël   2013            128.00\n",
       "7  Lituanie   2016            127.78\n",
       "8    Israël   2012            127.75\n",
       "9  Lituanie   2017            125.06"
      ]
     },
     "execution_count": 110,
     "metadata": {},
     "output_type": "execute_result"
    }
   ],
   "source": [
    "pd.read_sql_query(\"SELECT pays, annee, sum(dispo_prot) AS total_dispo_prot FROM dispo_alim GROUP BY pays, annee ORDER BY total_dispo_prot DESC LIMIT 10\", conn)"
   ]
  },
  {
   "cell_type": "code",
   "execution_count": 111,
   "metadata": {},
   "outputs": [
    {
     "data": {
      "text/html": [
       "<div>\n",
       "<style scoped>\n",
       "    .dataframe tbody tr th:only-of-type {\n",
       "        vertical-align: middle;\n",
       "    }\n",
       "\n",
       "    .dataframe tbody tr th {\n",
       "        vertical-align: top;\n",
       "    }\n",
       "\n",
       "    .dataframe thead th {\n",
       "        text-align: right;\n",
       "    }\n",
       "</style>\n",
       "<table border=\"1\" class=\"dataframe\">\n",
       "  <thead>\n",
       "    <tr style=\"text-align: right;\">\n",
       "      <th></th>\n",
       "      <th>pays</th>\n",
       "      <th>annee</th>\n",
       "      <th>dispo_alim_kcal_p_j</th>\n",
       "    </tr>\n",
       "  </thead>\n",
       "  <tbody>\n",
       "    <tr>\n",
       "      <td>0</td>\n",
       "      <td>Belgique</td>\n",
       "      <td>2015</td>\n",
       "      <td>3845.0</td>\n",
       "    </tr>\n",
       "    <tr>\n",
       "      <td>1</td>\n",
       "      <td>Autriche</td>\n",
       "      <td>2013</td>\n",
       "      <td>3770.0</td>\n",
       "    </tr>\n",
       "    <tr>\n",
       "      <td>2</td>\n",
       "      <td>Belgique</td>\n",
       "      <td>2017</td>\n",
       "      <td>3770.0</td>\n",
       "    </tr>\n",
       "    <tr>\n",
       "      <td>3</td>\n",
       "      <td>Belgique</td>\n",
       "      <td>2016</td>\n",
       "      <td>3762.0</td>\n",
       "    </tr>\n",
       "    <tr>\n",
       "      <td>4</td>\n",
       "      <td>États-Unis d'Amérique</td>\n",
       "      <td>2017</td>\n",
       "      <td>3762.0</td>\n",
       "    </tr>\n",
       "    <tr>\n",
       "      <td>5</td>\n",
       "      <td>Irlande</td>\n",
       "      <td>2016</td>\n",
       "      <td>3754.0</td>\n",
       "    </tr>\n",
       "    <tr>\n",
       "      <td>6</td>\n",
       "      <td>Irlande</td>\n",
       "      <td>2015</td>\n",
       "      <td>3749.0</td>\n",
       "    </tr>\n",
       "    <tr>\n",
       "      <td>7</td>\n",
       "      <td>États-Unis d'Amérique</td>\n",
       "      <td>2016</td>\n",
       "      <td>3747.0</td>\n",
       "    </tr>\n",
       "    <tr>\n",
       "      <td>8</td>\n",
       "      <td>Belgique</td>\n",
       "      <td>2014</td>\n",
       "      <td>3745.0</td>\n",
       "    </tr>\n",
       "    <tr>\n",
       "      <td>9</td>\n",
       "      <td>Belgique</td>\n",
       "      <td>2013</td>\n",
       "      <td>3737.0</td>\n",
       "    </tr>\n",
       "  </tbody>\n",
       "</table>\n",
       "</div>"
      ],
      "text/plain": [
       "                    pays  annee  dispo_alim_kcal_p_j\n",
       "0               Belgique   2015               3845.0\n",
       "1               Autriche   2013               3770.0\n",
       "2               Belgique   2017               3770.0\n",
       "3               Belgique   2016               3762.0\n",
       "4  États-Unis d'Amérique   2017               3762.0\n",
       "5                Irlande   2016               3754.0\n",
       "6                Irlande   2015               3749.0\n",
       "7  États-Unis d'Amérique   2016               3747.0\n",
       "8               Belgique   2014               3745.0\n",
       "9               Belgique   2013               3737.0"
      ]
     },
     "execution_count": 111,
     "metadata": {},
     "output_type": "execute_result"
    }
   ],
   "source": [
    "pd.read_sql_query(\"SELECT pays, annee, sum(dispo_alim_kcal_p_j) AS dispo_alim_kcal_p_j FROM dispo_alim GROUP BY pays, annee ORDER BY dispo_alim_kcal_p_j DESC LIMIT 10\", conn)"
   ]
  },
  {
   "cell_type": "markdown",
   "metadata": {},
   "source": [
    "* Pour chaque année disponible, les 10 pays ayant le plus faible ratio disponibilité alimentaire/habitant en termes de protéines (en kg) par habitant. Le nombre de lignes de la table renvoyée sera donc égal à 10 fois le nombre d'années disponibles."
   ]
  },
  {
   "cell_type": "code",
   "execution_count": 112,
   "metadata": {},
   "outputs": [
    {
     "data": {
      "text/html": [
       "<div>\n",
       "<style scoped>\n",
       "    .dataframe tbody tr th:only-of-type {\n",
       "        vertical-align: middle;\n",
       "    }\n",
       "\n",
       "    .dataframe tbody tr th {\n",
       "        vertical-align: top;\n",
       "    }\n",
       "\n",
       "    .dataframe thead th {\n",
       "        text-align: right;\n",
       "    }\n",
       "</style>\n",
       "<table border=\"1\" class=\"dataframe\">\n",
       "  <thead>\n",
       "    <tr style=\"text-align: right;\">\n",
       "      <th></th>\n",
       "      <th>pays</th>\n",
       "      <th>annee</th>\n",
       "      <th>total_dispo_prot</th>\n",
       "    </tr>\n",
       "  </thead>\n",
       "  <tbody>\n",
       "    <tr>\n",
       "      <td>0</td>\n",
       "      <td>Libéria</td>\n",
       "      <td>2012</td>\n",
       "      <td>38.07</td>\n",
       "    </tr>\n",
       "    <tr>\n",
       "      <td>1</td>\n",
       "      <td>Guinée-Bissau</td>\n",
       "      <td>2012</td>\n",
       "      <td>43.80</td>\n",
       "    </tr>\n",
       "    <tr>\n",
       "      <td>2</td>\n",
       "      <td>Mozambique</td>\n",
       "      <td>2012</td>\n",
       "      <td>46.92</td>\n",
       "    </tr>\n",
       "    <tr>\n",
       "      <td>3</td>\n",
       "      <td>Haïti</td>\n",
       "      <td>2012</td>\n",
       "      <td>47.21</td>\n",
       "    </tr>\n",
       "    <tr>\n",
       "      <td>4</td>\n",
       "      <td>Madagascar</td>\n",
       "      <td>2012</td>\n",
       "      <td>47.25</td>\n",
       "    </tr>\n",
       "    <tr>\n",
       "      <td>5</td>\n",
       "      <td>Congo</td>\n",
       "      <td>2012</td>\n",
       "      <td>49.49</td>\n",
       "    </tr>\n",
       "    <tr>\n",
       "      <td>6</td>\n",
       "      <td>Zimbabwe</td>\n",
       "      <td>2012</td>\n",
       "      <td>50.72</td>\n",
       "    </tr>\n",
       "    <tr>\n",
       "      <td>7</td>\n",
       "      <td>République centrafricaine</td>\n",
       "      <td>2012</td>\n",
       "      <td>52.80</td>\n",
       "    </tr>\n",
       "    <tr>\n",
       "      <td>8</td>\n",
       "      <td>Sao Tomé-et-Principe</td>\n",
       "      <td>2012</td>\n",
       "      <td>53.04</td>\n",
       "    </tr>\n",
       "    <tr>\n",
       "      <td>9</td>\n",
       "      <td>Ouganda</td>\n",
       "      <td>2012</td>\n",
       "      <td>53.69</td>\n",
       "    </tr>\n",
       "    <tr>\n",
       "      <td>10</td>\n",
       "      <td>Libéria</td>\n",
       "      <td>2013</td>\n",
       "      <td>37.66</td>\n",
       "    </tr>\n",
       "    <tr>\n",
       "      <td>11</td>\n",
       "      <td>Guinée-Bissau</td>\n",
       "      <td>2013</td>\n",
       "      <td>44.05</td>\n",
       "    </tr>\n",
       "    <tr>\n",
       "      <td>12</td>\n",
       "      <td>Mozambique</td>\n",
       "      <td>2013</td>\n",
       "      <td>45.68</td>\n",
       "    </tr>\n",
       "    <tr>\n",
       "      <td>13</td>\n",
       "      <td>République centrafricaine</td>\n",
       "      <td>2013</td>\n",
       "      <td>46.04</td>\n",
       "    </tr>\n",
       "    <tr>\n",
       "      <td>14</td>\n",
       "      <td>Madagascar</td>\n",
       "      <td>2013</td>\n",
       "      <td>46.69</td>\n",
       "    </tr>\n",
       "    <tr>\n",
       "      <td>15</td>\n",
       "      <td>Haïti</td>\n",
       "      <td>2013</td>\n",
       "      <td>47.70</td>\n",
       "    </tr>\n",
       "    <tr>\n",
       "      <td>16</td>\n",
       "      <td>Zimbabwe</td>\n",
       "      <td>2013</td>\n",
       "      <td>48.32</td>\n",
       "    </tr>\n",
       "    <tr>\n",
       "      <td>17</td>\n",
       "      <td>Congo</td>\n",
       "      <td>2013</td>\n",
       "      <td>51.41</td>\n",
       "    </tr>\n",
       "    <tr>\n",
       "      <td>18</td>\n",
       "      <td>Ouganda</td>\n",
       "      <td>2013</td>\n",
       "      <td>52.64</td>\n",
       "    </tr>\n",
       "    <tr>\n",
       "      <td>19</td>\n",
       "      <td>Sao Tomé-et-Principe</td>\n",
       "      <td>2013</td>\n",
       "      <td>53.10</td>\n",
       "    </tr>\n",
       "    <tr>\n",
       "      <td>20</td>\n",
       "      <td>Libéria</td>\n",
       "      <td>2014</td>\n",
       "      <td>38.50</td>\n",
       "    </tr>\n",
       "    <tr>\n",
       "      <td>21</td>\n",
       "      <td>Guinée-Bissau</td>\n",
       "      <td>2014</td>\n",
       "      <td>41.23</td>\n",
       "    </tr>\n",
       "    <tr>\n",
       "      <td>22</td>\n",
       "      <td>Madagascar</td>\n",
       "      <td>2014</td>\n",
       "      <td>44.32</td>\n",
       "    </tr>\n",
       "    <tr>\n",
       "      <td>23</td>\n",
       "      <td>République centrafricaine</td>\n",
       "      <td>2014</td>\n",
       "      <td>46.22</td>\n",
       "    </tr>\n",
       "    <tr>\n",
       "      <td>24</td>\n",
       "      <td>Haïti</td>\n",
       "      <td>2014</td>\n",
       "      <td>47.42</td>\n",
       "    </tr>\n",
       "    <tr>\n",
       "      <td>25</td>\n",
       "      <td>Mozambique</td>\n",
       "      <td>2014</td>\n",
       "      <td>48.80</td>\n",
       "    </tr>\n",
       "    <tr>\n",
       "      <td>26</td>\n",
       "      <td>Congo</td>\n",
       "      <td>2014</td>\n",
       "      <td>51.41</td>\n",
       "    </tr>\n",
       "    <tr>\n",
       "      <td>27</td>\n",
       "      <td>Zimbabwe</td>\n",
       "      <td>2014</td>\n",
       "      <td>51.43</td>\n",
       "    </tr>\n",
       "    <tr>\n",
       "      <td>28</td>\n",
       "      <td>Tadjikistan</td>\n",
       "      <td>2014</td>\n",
       "      <td>53.60</td>\n",
       "    </tr>\n",
       "    <tr>\n",
       "      <td>29</td>\n",
       "      <td>Côte d'Ivoire</td>\n",
       "      <td>2014</td>\n",
       "      <td>53.94</td>\n",
       "    </tr>\n",
       "    <tr>\n",
       "      <td>30</td>\n",
       "      <td>Libéria</td>\n",
       "      <td>2015</td>\n",
       "      <td>37.92</td>\n",
       "    </tr>\n",
       "    <tr>\n",
       "      <td>31</td>\n",
       "      <td>Guinée-Bissau</td>\n",
       "      <td>2015</td>\n",
       "      <td>40.32</td>\n",
       "    </tr>\n",
       "    <tr>\n",
       "      <td>32</td>\n",
       "      <td>Madagascar</td>\n",
       "      <td>2015</td>\n",
       "      <td>43.57</td>\n",
       "    </tr>\n",
       "    <tr>\n",
       "      <td>33</td>\n",
       "      <td>République centrafricaine</td>\n",
       "      <td>2015</td>\n",
       "      <td>45.58</td>\n",
       "    </tr>\n",
       "    <tr>\n",
       "      <td>34</td>\n",
       "      <td>Haïti</td>\n",
       "      <td>2015</td>\n",
       "      <td>49.03</td>\n",
       "    </tr>\n",
       "    <tr>\n",
       "      <td>35</td>\n",
       "      <td>Mozambique</td>\n",
       "      <td>2015</td>\n",
       "      <td>49.26</td>\n",
       "    </tr>\n",
       "    <tr>\n",
       "      <td>36</td>\n",
       "      <td>Zimbabwe</td>\n",
       "      <td>2015</td>\n",
       "      <td>50.29</td>\n",
       "    </tr>\n",
       "    <tr>\n",
       "      <td>37</td>\n",
       "      <td>Ouganda</td>\n",
       "      <td>2015</td>\n",
       "      <td>52.83</td>\n",
       "    </tr>\n",
       "    <tr>\n",
       "      <td>38</td>\n",
       "      <td>Sao Tomé-et-Principe</td>\n",
       "      <td>2015</td>\n",
       "      <td>53.68</td>\n",
       "    </tr>\n",
       "    <tr>\n",
       "      <td>39</td>\n",
       "      <td>République populaire démocratique de Corée</td>\n",
       "      <td>2015</td>\n",
       "      <td>54.35</td>\n",
       "    </tr>\n",
       "    <tr>\n",
       "      <td>40</td>\n",
       "      <td>Libéria</td>\n",
       "      <td>2016</td>\n",
       "      <td>39.36</td>\n",
       "    </tr>\n",
       "    <tr>\n",
       "      <td>41</td>\n",
       "      <td>Guinée-Bissau</td>\n",
       "      <td>2016</td>\n",
       "      <td>42.14</td>\n",
       "    </tr>\n",
       "    <tr>\n",
       "      <td>42</td>\n",
       "      <td>Madagascar</td>\n",
       "      <td>2016</td>\n",
       "      <td>43.81</td>\n",
       "    </tr>\n",
       "    <tr>\n",
       "      <td>43</td>\n",
       "      <td>République centrafricaine</td>\n",
       "      <td>2016</td>\n",
       "      <td>46.00</td>\n",
       "    </tr>\n",
       "    <tr>\n",
       "      <td>44</td>\n",
       "      <td>Haïti</td>\n",
       "      <td>2016</td>\n",
       "      <td>49.52</td>\n",
       "    </tr>\n",
       "    <tr>\n",
       "      <td>45</td>\n",
       "      <td>Zimbabwe</td>\n",
       "      <td>2016</td>\n",
       "      <td>50.78</td>\n",
       "    </tr>\n",
       "    <tr>\n",
       "      <td>46</td>\n",
       "      <td>Mozambique</td>\n",
       "      <td>2016</td>\n",
       "      <td>50.92</td>\n",
       "    </tr>\n",
       "    <tr>\n",
       "      <td>47</td>\n",
       "      <td>Lesotho</td>\n",
       "      <td>2016</td>\n",
       "      <td>51.33</td>\n",
       "    </tr>\n",
       "    <tr>\n",
       "      <td>48</td>\n",
       "      <td>Angola</td>\n",
       "      <td>2016</td>\n",
       "      <td>52.36</td>\n",
       "    </tr>\n",
       "    <tr>\n",
       "      <td>49</td>\n",
       "      <td>Sao Tomé-et-Principe</td>\n",
       "      <td>2016</td>\n",
       "      <td>52.50</td>\n",
       "    </tr>\n",
       "    <tr>\n",
       "      <td>50</td>\n",
       "      <td>Libéria</td>\n",
       "      <td>2017</td>\n",
       "      <td>39.91</td>\n",
       "    </tr>\n",
       "    <tr>\n",
       "      <td>51</td>\n",
       "      <td>Madagascar</td>\n",
       "      <td>2017</td>\n",
       "      <td>42.94</td>\n",
       "    </tr>\n",
       "    <tr>\n",
       "      <td>52</td>\n",
       "      <td>Guinée-Bissau</td>\n",
       "      <td>2017</td>\n",
       "      <td>44.13</td>\n",
       "    </tr>\n",
       "    <tr>\n",
       "      <td>53</td>\n",
       "      <td>République centrafricaine</td>\n",
       "      <td>2017</td>\n",
       "      <td>46.40</td>\n",
       "    </tr>\n",
       "    <tr>\n",
       "      <td>54</td>\n",
       "      <td>Haïti</td>\n",
       "      <td>2017</td>\n",
       "      <td>49.91</td>\n",
       "    </tr>\n",
       "    <tr>\n",
       "      <td>55</td>\n",
       "      <td>Mozambique</td>\n",
       "      <td>2017</td>\n",
       "      <td>51.18</td>\n",
       "    </tr>\n",
       "    <tr>\n",
       "      <td>56</td>\n",
       "      <td>Zimbabwe</td>\n",
       "      <td>2017</td>\n",
       "      <td>51.20</td>\n",
       "    </tr>\n",
       "    <tr>\n",
       "      <td>57</td>\n",
       "      <td>Sao Tomé-et-Principe</td>\n",
       "      <td>2017</td>\n",
       "      <td>52.00</td>\n",
       "    </tr>\n",
       "    <tr>\n",
       "      <td>58</td>\n",
       "      <td>République populaire démocratique de Corée</td>\n",
       "      <td>2017</td>\n",
       "      <td>52.27</td>\n",
       "    </tr>\n",
       "    <tr>\n",
       "      <td>59</td>\n",
       "      <td>Ouganda</td>\n",
       "      <td>2017</td>\n",
       "      <td>52.32</td>\n",
       "    </tr>\n",
       "  </tbody>\n",
       "</table>\n",
       "</div>"
      ],
      "text/plain": [
       "                                          pays annee  total_dispo_prot\n",
       "0                                      Libéria  2012             38.07\n",
       "1                                Guinée-Bissau  2012             43.80\n",
       "2                                   Mozambique  2012             46.92\n",
       "3                                        Haïti  2012             47.21\n",
       "4                                   Madagascar  2012             47.25\n",
       "5                                        Congo  2012             49.49\n",
       "6                                     Zimbabwe  2012             50.72\n",
       "7                    République centrafricaine  2012             52.80\n",
       "8                         Sao Tomé-et-Principe  2012             53.04\n",
       "9                                      Ouganda  2012             53.69\n",
       "10                                     Libéria  2013             37.66\n",
       "11                               Guinée-Bissau  2013             44.05\n",
       "12                                  Mozambique  2013             45.68\n",
       "13                   République centrafricaine  2013             46.04\n",
       "14                                  Madagascar  2013             46.69\n",
       "15                                       Haïti  2013             47.70\n",
       "16                                    Zimbabwe  2013             48.32\n",
       "17                                       Congo  2013             51.41\n",
       "18                                     Ouganda  2013             52.64\n",
       "19                        Sao Tomé-et-Principe  2013             53.10\n",
       "20                                     Libéria  2014             38.50\n",
       "21                               Guinée-Bissau  2014             41.23\n",
       "22                                  Madagascar  2014             44.32\n",
       "23                   République centrafricaine  2014             46.22\n",
       "24                                       Haïti  2014             47.42\n",
       "25                                  Mozambique  2014             48.80\n",
       "26                                       Congo  2014             51.41\n",
       "27                                    Zimbabwe  2014             51.43\n",
       "28                                 Tadjikistan  2014             53.60\n",
       "29                               Côte d'Ivoire  2014             53.94\n",
       "30                                     Libéria  2015             37.92\n",
       "31                               Guinée-Bissau  2015             40.32\n",
       "32                                  Madagascar  2015             43.57\n",
       "33                   République centrafricaine  2015             45.58\n",
       "34                                       Haïti  2015             49.03\n",
       "35                                  Mozambique  2015             49.26\n",
       "36                                    Zimbabwe  2015             50.29\n",
       "37                                     Ouganda  2015             52.83\n",
       "38                        Sao Tomé-et-Principe  2015             53.68\n",
       "39  République populaire démocratique de Corée  2015             54.35\n",
       "40                                     Libéria  2016             39.36\n",
       "41                               Guinée-Bissau  2016             42.14\n",
       "42                                  Madagascar  2016             43.81\n",
       "43                   République centrafricaine  2016             46.00\n",
       "44                                       Haïti  2016             49.52\n",
       "45                                    Zimbabwe  2016             50.78\n",
       "46                                  Mozambique  2016             50.92\n",
       "47                                     Lesotho  2016             51.33\n",
       "48                                      Angola  2016             52.36\n",
       "49                        Sao Tomé-et-Principe  2016             52.50\n",
       "50                                     Libéria  2017             39.91\n",
       "51                                  Madagascar  2017             42.94\n",
       "52                               Guinée-Bissau  2017             44.13\n",
       "53                   République centrafricaine  2017             46.40\n",
       "54                                       Haïti  2017             49.91\n",
       "55                                  Mozambique  2017             51.18\n",
       "56                                    Zimbabwe  2017             51.20\n",
       "57                        Sao Tomé-et-Principe  2017             52.00\n",
       "58  République populaire démocratique de Corée  2017             52.27\n",
       "59                                     Ouganda  2017             52.32"
      ]
     },
     "execution_count": 112,
     "metadata": {},
     "output_type": "execute_result"
    }
   ],
   "source": [
    "ratio = pd.DataFrame(columns=['pays','annee','total_dispo_prot'])\n",
    "\n",
    "for annee in db_bilanAlimentaire.annee.unique():\n",
    "    df = pd.read_sql_query(f\"SELECT pays, annee, sum(dispo_prot) AS total_dispo_prot FROM dispo_alim WHERE annee = {annee} GROUP BY pays ORDER BY total_dispo_prot LIMIT 10\", conn)\n",
    "    ratio = pd.concat([ratio,df], ignore_index=True, sort=False)\n",
    "    \n",
    "ratio"
   ]
  },
  {
   "cell_type": "markdown",
   "metadata": {},
   "source": [
    "* La quantité totale (en kg) de produits perdus par pays et par année. La table renvoyée contiendra donc une ligne par couple (pays, année).\n"
   ]
  },
  {
   "cell_type": "code",
   "execution_count": 113,
   "metadata": {},
   "outputs": [
    {
     "data": {
      "text/html": [
       "<div>\n",
       "<style scoped>\n",
       "    .dataframe tbody tr th:only-of-type {\n",
       "        vertical-align: middle;\n",
       "    }\n",
       "\n",
       "    .dataframe tbody tr th {\n",
       "        vertical-align: top;\n",
       "    }\n",
       "\n",
       "    .dataframe thead th {\n",
       "        text-align: right;\n",
       "    }\n",
       "</style>\n",
       "<table border=\"1\" class=\"dataframe\">\n",
       "  <thead>\n",
       "    <tr style=\"text-align: right;\">\n",
       "      <th></th>\n",
       "      <th>pays</th>\n",
       "      <th>annee</th>\n",
       "      <th>total_pertes</th>\n",
       "    </tr>\n",
       "  </thead>\n",
       "  <tbody>\n",
       "    <tr>\n",
       "      <td>0</td>\n",
       "      <td>Chine</td>\n",
       "      <td>2017</td>\n",
       "      <td>130477000.0</td>\n",
       "    </tr>\n",
       "    <tr>\n",
       "      <td>1</td>\n",
       "      <td>Chine</td>\n",
       "      <td>2016</td>\n",
       "      <td>128835000.0</td>\n",
       "    </tr>\n",
       "    <tr>\n",
       "      <td>2</td>\n",
       "      <td>Chine</td>\n",
       "      <td>2015</td>\n",
       "      <td>122534000.0</td>\n",
       "    </tr>\n",
       "    <tr>\n",
       "      <td>3</td>\n",
       "      <td>Chine</td>\n",
       "      <td>2014</td>\n",
       "      <td>120090000.0</td>\n",
       "    </tr>\n",
       "    <tr>\n",
       "      <td>4</td>\n",
       "      <td>Brésil</td>\n",
       "      <td>2017</td>\n",
       "      <td>100912000.0</td>\n",
       "    </tr>\n",
       "    <tr>\n",
       "      <td>...</td>\n",
       "      <td>...</td>\n",
       "      <td>...</td>\n",
       "      <td>...</td>\n",
       "    </tr>\n",
       "    <tr>\n",
       "      <td>1021</td>\n",
       "      <td>Saint-Kitts-et-Nevis</td>\n",
       "      <td>2013</td>\n",
       "      <td>0.0</td>\n",
       "    </tr>\n",
       "    <tr>\n",
       "      <td>1022</td>\n",
       "      <td>Saint-Kitts-et-Nevis</td>\n",
       "      <td>2014</td>\n",
       "      <td>0.0</td>\n",
       "    </tr>\n",
       "    <tr>\n",
       "      <td>1023</td>\n",
       "      <td>Saint-Kitts-et-Nevis</td>\n",
       "      <td>2015</td>\n",
       "      <td>0.0</td>\n",
       "    </tr>\n",
       "    <tr>\n",
       "      <td>1024</td>\n",
       "      <td>Saint-Kitts-et-Nevis</td>\n",
       "      <td>2016</td>\n",
       "      <td>0.0</td>\n",
       "    </tr>\n",
       "    <tr>\n",
       "      <td>1025</td>\n",
       "      <td>Saint-Kitts-et-Nevis</td>\n",
       "      <td>2017</td>\n",
       "      <td>0.0</td>\n",
       "    </tr>\n",
       "  </tbody>\n",
       "</table>\n",
       "<p>1026 rows × 3 columns</p>\n",
       "</div>"
      ],
      "text/plain": [
       "                      pays  annee  total_pertes\n",
       "0                    Chine   2017   130477000.0\n",
       "1                    Chine   2016   128835000.0\n",
       "2                    Chine   2015   122534000.0\n",
       "3                    Chine   2014   120090000.0\n",
       "4                   Brésil   2017   100912000.0\n",
       "...                    ...    ...           ...\n",
       "1021  Saint-Kitts-et-Nevis   2013           0.0\n",
       "1022  Saint-Kitts-et-Nevis   2014           0.0\n",
       "1023  Saint-Kitts-et-Nevis   2015           0.0\n",
       "1024  Saint-Kitts-et-Nevis   2016           0.0\n",
       "1025  Saint-Kitts-et-Nevis   2017           0.0\n",
       "\n",
       "[1026 rows x 3 columns]"
      ]
     },
     "execution_count": 113,
     "metadata": {},
     "output_type": "execute_result"
    }
   ],
   "source": [
    "pd.read_sql_query(\"SELECT pays, annee, sum(pertes) * 1000  AS total_pertes FROM equilibre_prod GROUP BY pays, annee ORDER BY total_pertes DESC\", conn)"
   ]
  },
  {
   "cell_type": "markdown",
   "metadata": {},
   "source": [
    "* Les 10 pays pour lesquels la proportion de personnes sous-alimentées est la plus forte.\n"
   ]
  },
  {
   "cell_type": "code",
   "execution_count": 114,
   "metadata": {},
   "outputs": [
    {
     "data": {
      "text/html": [
       "<div>\n",
       "<style scoped>\n",
       "    .dataframe tbody tr th:only-of-type {\n",
       "        vertical-align: middle;\n",
       "    }\n",
       "\n",
       "    .dataframe tbody tr th {\n",
       "        vertical-align: top;\n",
       "    }\n",
       "\n",
       "    .dataframe thead th {\n",
       "        text-align: right;\n",
       "    }\n",
       "</style>\n",
       "<table border=\"1\" class=\"dataframe\">\n",
       "  <thead>\n",
       "    <tr style=\"text-align: right;\">\n",
       "      <th></th>\n",
       "      <th>pays</th>\n",
       "      <th>proportion</th>\n",
       "    </tr>\n",
       "  </thead>\n",
       "  <tbody>\n",
       "    <tr>\n",
       "      <td>0</td>\n",
       "      <td>Dominique</td>\n",
       "      <td>0.704573</td>\n",
       "    </tr>\n",
       "    <tr>\n",
       "      <td>1</td>\n",
       "      <td>Dominique</td>\n",
       "      <td>0.704067</td>\n",
       "    </tr>\n",
       "    <tr>\n",
       "      <td>2</td>\n",
       "      <td>Dominique</td>\n",
       "      <td>0.703383</td>\n",
       "    </tr>\n",
       "    <tr>\n",
       "      <td>3</td>\n",
       "      <td>Dominique</td>\n",
       "      <td>0.702415</td>\n",
       "    </tr>\n",
       "    <tr>\n",
       "      <td>4</td>\n",
       "      <td>Dominique</td>\n",
       "      <td>0.701193</td>\n",
       "    </tr>\n",
       "    <tr>\n",
       "      <td>5</td>\n",
       "      <td>Dominique</td>\n",
       "      <td>0.699712</td>\n",
       "    </tr>\n",
       "    <tr>\n",
       "      <td>6</td>\n",
       "      <td>République centrafricaine</td>\n",
       "      <td>0.617055</td>\n",
       "    </tr>\n",
       "    <tr>\n",
       "      <td>7</td>\n",
       "      <td>République centrafricaine</td>\n",
       "      <td>0.609222</td>\n",
       "    </tr>\n",
       "    <tr>\n",
       "      <td>8</td>\n",
       "      <td>Zimbabwe</td>\n",
       "      <td>0.597053</td>\n",
       "    </tr>\n",
       "    <tr>\n",
       "      <td>9</td>\n",
       "      <td>Zimbabwe</td>\n",
       "      <td>0.584448</td>\n",
       "    </tr>\n",
       "  </tbody>\n",
       "</table>\n",
       "</div>"
      ],
      "text/plain": [
       "                        pays  proportion\n",
       "0                  Dominique    0.704573\n",
       "1                  Dominique    0.704067\n",
       "2                  Dominique    0.703383\n",
       "3                  Dominique    0.702415\n",
       "4                  Dominique    0.701193\n",
       "5                  Dominique    0.699712\n",
       "6  République centrafricaine    0.617055\n",
       "7  République centrafricaine    0.609222\n",
       "8                   Zimbabwe    0.597053\n",
       "9                   Zimbabwe    0.584448"
      ]
     },
     "execution_count": 114,
     "metadata": {},
     "output_type": "execute_result"
    }
   ],
   "source": [
    "pd.read_sql_query(\"SELECT sous_nutrition.pays, nb_personnes / population AS proportion FROM sous_nutrition INNER JOIN population ON (sous_nutrition.annee = population.annee AND sous_nutrition.pays = population.pays) ORDER BY proportion DESC LIMIT 10\", conn)"
   ]
  },
  {
   "cell_type": "markdown",
   "metadata": {},
   "source": [
    "* Les 10 produits pour lesquels le ratio Autres utilisations/Disponibilité intérieure est le plus élevé."
   ]
  },
  {
   "cell_type": "code",
   "execution_count": 115,
   "metadata": {},
   "outputs": [
    {
     "data": {
      "text/html": [
       "<div>\n",
       "<style scoped>\n",
       "    .dataframe tbody tr th:only-of-type {\n",
       "        vertical-align: middle;\n",
       "    }\n",
       "\n",
       "    .dataframe tbody tr th {\n",
       "        vertical-align: top;\n",
       "    }\n",
       "\n",
       "    .dataframe thead th {\n",
       "        text-align: right;\n",
       "    }\n",
       "</style>\n",
       "<table border=\"1\" class=\"dataframe\">\n",
       "  <thead>\n",
       "    <tr style=\"text-align: right;\">\n",
       "      <th></th>\n",
       "      <th>produit</th>\n",
       "      <th>ratio</th>\n",
       "    </tr>\n",
       "  </thead>\n",
       "  <tbody>\n",
       "    <tr>\n",
       "      <td>0</td>\n",
       "      <td>Alcool, non Comestible</td>\n",
       "      <td>1.008712</td>\n",
       "    </tr>\n",
       "    <tr>\n",
       "      <td>1</td>\n",
       "      <td>Plantes Aquatiques</td>\n",
       "      <td>0.795979</td>\n",
       "    </tr>\n",
       "    <tr>\n",
       "      <td>2</td>\n",
       "      <td>Huile de Palmistes</td>\n",
       "      <td>0.729634</td>\n",
       "    </tr>\n",
       "    <tr>\n",
       "      <td>3</td>\n",
       "      <td>Huil Plantes Oleif Autr</td>\n",
       "      <td>0.677996</td>\n",
       "    </tr>\n",
       "    <tr>\n",
       "      <td>4</td>\n",
       "      <td>Girofles</td>\n",
       "      <td>0.655824</td>\n",
       "    </tr>\n",
       "    <tr>\n",
       "      <td>5</td>\n",
       "      <td>Huile de Palme</td>\n",
       "      <td>0.590686</td>\n",
       "    </tr>\n",
       "    <tr>\n",
       "      <td>6</td>\n",
       "      <td>Huile de Colza&amp;Moutarde</td>\n",
       "      <td>0.533614</td>\n",
       "    </tr>\n",
       "    <tr>\n",
       "      <td>7</td>\n",
       "      <td>Huiles de Poissons</td>\n",
       "      <td>0.450769</td>\n",
       "    </tr>\n",
       "    <tr>\n",
       "      <td>8</td>\n",
       "      <td>Graisses Animales Crue</td>\n",
       "      <td>0.447899</td>\n",
       "    </tr>\n",
       "    <tr>\n",
       "      <td>9</td>\n",
       "      <td>Huile de Soja</td>\n",
       "      <td>0.434969</td>\n",
       "    </tr>\n",
       "  </tbody>\n",
       "</table>\n",
       "</div>"
      ],
      "text/plain": [
       "                   produit     ratio\n",
       "0   Alcool, non Comestible  1.008712\n",
       "1       Plantes Aquatiques  0.795979\n",
       "2       Huile de Palmistes  0.729634\n",
       "3  Huil Plantes Oleif Autr  0.677996\n",
       "4                 Girofles  0.655824\n",
       "5           Huile de Palme  0.590686\n",
       "6  Huile de Colza&Moutarde  0.533614\n",
       "7       Huiles de Poissons  0.450769\n",
       "8   Graisses Animales Crue  0.447899\n",
       "9            Huile de Soja  0.434969"
      ]
     },
     "execution_count": 115,
     "metadata": {},
     "output_type": "execute_result"
    }
   ],
   "source": [
    "pd.read_sql_query(\"SELECT produit, sum(autres_utilisations) / sum(dispo_int) AS ratio FROM equilibre_prod GROUP BY produit ORDER BY ratio DESC LIMIT 10\", conn)"
   ]
  },
  {
   "cell_type": "markdown",
   "metadata": {},
   "source": [
    "Pour l'alcool, 100 % de son utilisation est dans la catégorie 'Autres Utilisation', le reste, 0.008712, venant d'approximation de calcul inhérante à la collecte de données."
   ]
  },
  {
   "cell_type": "markdown",
   "metadata": {},
   "source": [
    "### Question 20 : pour quelques uns des produits identifiés dans cette dernière requête SQL, supposez quelles sont ces \"autres utilisations\" possibles (recherchez sur internet !)"
   ]
  },
  {
   "cell_type": "markdown",
   "metadata": {},
   "source": [
    "L'alcool, étant non comestible, est utilisé dans des procédés chimiques pour la création d'autres produits.\n",
    "\n",
    "Le Girofle est principalement utilisé en médecine pour ces propriétés médicinales\n",
    "\n",
    "L'huile de palme sert d'ingrédient dans de nombreux autres produits alimentaires, mais également dans oléochimie, principalement les cosmétiques.\n",
    "\n",
    "L'huile de colza est utilisé comme biocarburant mais également comme lubrifiant dans l'industrie.\n",
    "\n",
    "Les graisses animales sont utilisées dans certains pays pour l'alimentation animales, mais également comme carburant en substitution au huile végétale. Un autre utilisation, commune, est celle de l'utilisation comme huile de cuisson."
   ]
  },
  {
   "cell_type": "markdown",
   "metadata": {},
   "source": [
    "Fermeture de la base de donnée. Les tables sont effacées pour pouvoir relancer le processus de peuplements des tables à des fins de démonstration. Dans un projet pérenne, une fonction serait utilisée pour vérifier l'existence des tables pour décider de les peupler."
   ]
  },
  {
   "cell_type": "code",
   "execution_count": 116,
   "metadata": {},
   "outputs": [],
   "source": [
    "cur.execute(\"DROP TABLE population;\")\n",
    "cur.execute(\"DROP TABLE dispo_alim;\")\n",
    "cur.execute(\"DROP TABLE equilibre_prod;\")\n",
    "cur.execute(\"DROP TABLE sous_nutrition;\")\n",
    "conn.commit()\n",
    "cur.close()\n",
    "conn.close()"
   ]
  },
  {
   "cell_type": "code",
   "execution_count": null,
   "metadata": {},
   "outputs": [],
   "source": []
  }
 ],
 "metadata": {
  "kernelspec": {
   "display_name": "Python 3",
   "language": "python",
   "name": "python3"
  },
  "language_info": {
   "codemirror_mode": {
    "name": "ipython",
    "version": 3
   },
   "file_extension": ".py",
   "mimetype": "text/x-python",
   "name": "python",
   "nbconvert_exporter": "python",
   "pygments_lexer": "ipython3",
   "version": "3.7.4"
  }
 },
 "nbformat": 4,
 "nbformat_minor": 2
}
